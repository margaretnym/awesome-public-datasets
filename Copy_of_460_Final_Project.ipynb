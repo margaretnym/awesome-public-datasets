{
  "nbformat": 4,
  "nbformat_minor": 0,
  "metadata": {
    "kernelspec": {
      "display_name": "Python 3",
      "language": "python",
      "name": "python3"
    },
    "language_info": {
      "codemirror_mode": {
        "name": "ipython",
        "version": 3
      },
      "file_extension": ".py",
      "mimetype": "text/x-python",
      "name": "python",
      "nbconvert_exporter": "python",
      "pygments_lexer": "ipython3",
      "version": "3.8.1"
    },
    "colab": {
      "name": "Copy of 460 Final Project.ipynb",
      "provenance": [],
      "collapsed_sections": [],
      "include_colab_link": true
    }
  },
  "cells": [
    {
      "cell_type": "markdown",
      "metadata": {
        "id": "view-in-github",
        "colab_type": "text"
      },
      "source": [
        "<a href=\"https://colab.research.google.com/github/margaretnym/awesome-public-datasets/blob/master/Copy_of_460_Final_Project.ipynb\" target=\"_parent\"><img src=\"https://colab.research.google.com/assets/colab-badge.svg\" alt=\"Open In Colab\"/></a>"
      ]
    },
    {
      "cell_type": "code",
      "metadata": {
        "id": "_XIPMZp5f-qF",
        "colab_type": "code",
        "outputId": "7038b925-cf6c-418d-b72b-88af317d719c",
        "colab": {
          "base_uri": "https://localhost:8080/",
          "height": 122
        }
      },
      "source": [
        "from google.colab import drive\n",
        "drive.mount('/content/drive')\n",
        "\n",
        "drive_path = 'drive/My Drive/JOUR 460 final project/'"
      ],
      "execution_count": 0,
      "outputs": [
        {
          "output_type": "stream",
          "text": [
            "Go to this URL in a browser: https://accounts.google.com/o/oauth2/auth?client_id=947318989803-6bn6qk8qdgf4n4g3pfee6491hc0brc4i.apps.googleusercontent.com&redirect_uri=urn%3aietf%3awg%3aoauth%3a2.0%3aoob&response_type=code&scope=email%20https%3a%2f%2fwww.googleapis.com%2fauth%2fdocs.test%20https%3a%2f%2fwww.googleapis.com%2fauth%2fdrive%20https%3a%2f%2fwww.googleapis.com%2fauth%2fdrive.photos.readonly%20https%3a%2f%2fwww.googleapis.com%2fauth%2fpeopleapi.readonly\n",
            "\n",
            "Enter your authorization code:\n",
            "··········\n",
            "Mounted at /content/drive\n"
          ],
          "name": "stdout"
        }
      ]
    },
    {
      "cell_type": "code",
      "metadata": {
        "id": "DHLvP_GCfxuQ",
        "colab_type": "code",
        "outputId": "53798a87-641e-4956-d8b1-453d3149d8f4",
        "colab": {
          "base_uri": "https://localhost:8080/",
          "height": 221
        }
      },
      "source": [
        "!pip install chart_studio topojson\n",
        "import pandas as pd\n",
        "import chart_studio.plotly as py\n",
        "import plotly.graph_objs as go\n",
        "import json\n",
        "import topojson\n",
        "\n",
        "df16 = pd.read_csv('http://ymn.web.illinois.edu/data/birth_demographics_2016.csv')\n",
        "df17 = pd.read_csv('http://ymn.web.illinois.edu/data/birth_demographics_2017.csv')\n",
        "df18 = pd.read_csv('http://ymn.web.illinois.edu/data/birth_demographics_2018.csv')\n",
        "gdp = pd.read_csv(drive_path + \"county_gdp.csv\") \n",
        "popu = pd.read_csv(drive_path + \"county_popu.csv\")"
      ],
      "execution_count": 0,
      "outputs": [
        {
          "output_type": "stream",
          "text": [
            "Requirement already satisfied: chart_studio in /usr/local/lib/python3.6/dist-packages (1.1.0)\n",
            "Requirement already satisfied: topojson in /usr/local/lib/python3.6/dist-packages (1.0rc9)\n",
            "Requirement already satisfied: plotly in /usr/local/lib/python3.6/dist-packages (from chart_studio) (4.4.1)\n",
            "Requirement already satisfied: requests in /usr/local/lib/python3.6/dist-packages (from chart_studio) (2.21.0)\n",
            "Requirement already satisfied: six in /usr/local/lib/python3.6/dist-packages (from chart_studio) (1.12.0)\n",
            "Requirement already satisfied: retrying>=1.3.3 in /usr/local/lib/python3.6/dist-packages (from chart_studio) (1.3.3)\n",
            "Requirement already satisfied: numpy in /usr/local/lib/python3.6/dist-packages (from topojson) (1.18.3)\n",
            "Requirement already satisfied: shapely in /usr/local/lib/python3.6/dist-packages (from topojson) (1.7.0)\n",
            "Requirement already satisfied: urllib3<1.25,>=1.21.1 in /usr/local/lib/python3.6/dist-packages (from requests->chart_studio) (1.24.3)\n",
            "Requirement already satisfied: certifi>=2017.4.17 in /usr/local/lib/python3.6/dist-packages (from requests->chart_studio) (2020.4.5.1)\n",
            "Requirement already satisfied: idna<2.9,>=2.5 in /usr/local/lib/python3.6/dist-packages (from requests->chart_studio) (2.8)\n",
            "Requirement already satisfied: chardet<3.1.0,>=3.0.2 in /usr/local/lib/python3.6/dist-packages (from requests->chart_studio) (3.0.4)\n"
          ],
          "name": "stdout"
        }
      ]
    },
    {
      "cell_type": "code",
      "metadata": {
        "id": "anr3EeG3fxuW",
        "colab_type": "code",
        "outputId": "78aebbf3-c314-4449-f26a-86162833a76d",
        "colab": {
          "base_uri": "https://localhost:8080/",
          "height": 241
        }
      },
      "source": [
        "df16.head()"
      ],
      "execution_count": 0,
      "outputs": [
        {
          "output_type": "execute_result",
          "data": {
            "text/html": [
              "<div>\n",
              "<style scoped>\n",
              "    .dataframe tbody tr th:only-of-type {\n",
              "        vertical-align: middle;\n",
              "    }\n",
              "\n",
              "    .dataframe tbody tr th {\n",
              "        vertical-align: top;\n",
              "    }\n",
              "\n",
              "    .dataframe thead th {\n",
              "        text-align: right;\n",
              "    }\n",
              "</style>\n",
              "<table border=\"1\" class=\"dataframe\">\n",
              "  <thead>\n",
              "    <tr style=\"text-align: right;\">\n",
              "      <th></th>\n",
              "      <th>Resident County</th>\n",
              "      <th>Births</th>\n",
              "      <th>Bady_Male</th>\n",
              "      <th>Bady_Female</th>\n",
              "      <th>Mother_White</th>\n",
              "      <th>Mother_Black</th>\n",
              "      <th>Mother_Hispanic</th>\n",
              "      <th>Mother_Other</th>\n",
              "      <th>Mothe_Age &lt; 20</th>\n",
              "      <th>Mothe_Age 20 - 24</th>\n",
              "      <th>Mothe_Age 25 - 29</th>\n",
              "      <th>Mothe_Age 30 - 34</th>\n",
              "      <th>Mothe_Age 35 - 39</th>\n",
              "      <th>Mothe_Age 40 +</th>\n",
              "      <th>Mother_Unmarried</th>\n",
              "      <th>Mother_NotHSGraduate_Age_20+</th>\n",
              "    </tr>\n",
              "  </thead>\n",
              "  <tbody>\n",
              "    <tr>\n",
              "      <th>0</th>\n",
              "      <td>Adams</td>\n",
              "      <td>845</td>\n",
              "      <td>429</td>\n",
              "      <td>416</td>\n",
              "      <td>769</td>\n",
              "      <td>53</td>\n",
              "      <td>18</td>\n",
              "      <td>5</td>\n",
              "      <td>50</td>\n",
              "      <td>181</td>\n",
              "      <td>312</td>\n",
              "      <td>226</td>\n",
              "      <td>71</td>\n",
              "      <td>5</td>\n",
              "      <td>368</td>\n",
              "      <td>60</td>\n",
              "    </tr>\n",
              "    <tr>\n",
              "      <th>1</th>\n",
              "      <td>Alexander</td>\n",
              "      <td>79</td>\n",
              "      <td>33</td>\n",
              "      <td>46</td>\n",
              "      <td>46</td>\n",
              "      <td>32</td>\n",
              "      <td>1</td>\n",
              "      <td>0</td>\n",
              "      <td>14</td>\n",
              "      <td>19</td>\n",
              "      <td>24</td>\n",
              "      <td>16</td>\n",
              "      <td>6</td>\n",
              "      <td>0</td>\n",
              "      <td>49</td>\n",
              "      <td>8</td>\n",
              "    </tr>\n",
              "    <tr>\n",
              "      <th>2</th>\n",
              "      <td>Bond</td>\n",
              "      <td>148</td>\n",
              "      <td>78</td>\n",
              "      <td>70</td>\n",
              "      <td>141</td>\n",
              "      <td>5</td>\n",
              "      <td>2</td>\n",
              "      <td>0</td>\n",
              "      <td>9</td>\n",
              "      <td>35</td>\n",
              "      <td>56</td>\n",
              "      <td>33</td>\n",
              "      <td>12</td>\n",
              "      <td>3</td>\n",
              "      <td>61</td>\n",
              "      <td>11</td>\n",
              "    </tr>\n",
              "    <tr>\n",
              "      <th>3</th>\n",
              "      <td>Boone</td>\n",
              "      <td>574</td>\n",
              "      <td>308</td>\n",
              "      <td>266</td>\n",
              "      <td>371</td>\n",
              "      <td>22</td>\n",
              "      <td>174</td>\n",
              "      <td>7</td>\n",
              "      <td>27</td>\n",
              "      <td>123</td>\n",
              "      <td>176</td>\n",
              "      <td>161</td>\n",
              "      <td>70</td>\n",
              "      <td>17</td>\n",
              "      <td>208</td>\n",
              "      <td>68</td>\n",
              "    </tr>\n",
              "    <tr>\n",
              "      <th>4</th>\n",
              "      <td>Brown</td>\n",
              "      <td>68</td>\n",
              "      <td>34</td>\n",
              "      <td>34</td>\n",
              "      <td>68</td>\n",
              "      <td>0</td>\n",
              "      <td>0</td>\n",
              "      <td>0</td>\n",
              "      <td>3</td>\n",
              "      <td>16</td>\n",
              "      <td>26</td>\n",
              "      <td>18</td>\n",
              "      <td>4</td>\n",
              "      <td>1</td>\n",
              "      <td>28</td>\n",
              "      <td>3</td>\n",
              "    </tr>\n",
              "  </tbody>\n",
              "</table>\n",
              "</div>"
            ],
            "text/plain": [
              "  Resident County Births  ... Mother_Unmarried Mother_NotHSGraduate_Age_20+ \n",
              "0           Adams    845  ...              368                            60\n",
              "1       Alexander     79  ...               49                             8\n",
              "2            Bond    148  ...               61                            11\n",
              "3           Boone    574  ...              208                            68\n",
              "4           Brown     68  ...               28                             3\n",
              "\n",
              "[5 rows x 16 columns]"
            ]
          },
          "metadata": {
            "tags": []
          },
          "execution_count": 4
        }
      ]
    },
    {
      "cell_type": "code",
      "metadata": {
        "id": "caI0JjFRfxub",
        "colab_type": "code",
        "outputId": "68cd2748-0eb1-4e8f-f4c6-e6be6607f470",
        "colab": {
          "base_uri": "https://localhost:8080/",
          "height": 204
        }
      },
      "source": [
        "gdp.head()"
      ],
      "execution_count": 0,
      "outputs": [
        {
          "output_type": "execute_result",
          "data": {
            "text/html": [
              "<div>\n",
              "<style scoped>\n",
              "    .dataframe tbody tr th:only-of-type {\n",
              "        vertical-align: middle;\n",
              "    }\n",
              "\n",
              "    .dataframe tbody tr th {\n",
              "        vertical-align: top;\n",
              "    }\n",
              "\n",
              "    .dataframe thead th {\n",
              "        text-align: right;\n",
              "    }\n",
              "</style>\n",
              "<table border=\"1\" class=\"dataframe\">\n",
              "  <thead>\n",
              "    <tr style=\"text-align: right;\">\n",
              "      <th></th>\n",
              "      <th>county name</th>\n",
              "      <th>gdp_2015</th>\n",
              "      <th>gdp_2016</th>\n",
              "      <th>gdp_2017</th>\n",
              "      <th>gdp_2018</th>\n",
              "    </tr>\n",
              "  </thead>\n",
              "  <tbody>\n",
              "    <tr>\n",
              "      <th>0</th>\n",
              "      <td>Adams</td>\n",
              "      <td>3,184,014</td>\n",
              "      <td>3,120,703</td>\n",
              "      <td>3,139,643</td>\n",
              "      <td>3,284,870</td>\n",
              "    </tr>\n",
              "    <tr>\n",
              "      <th>1</th>\n",
              "      <td>Alexander</td>\n",
              "      <td>169,523</td>\n",
              "      <td>180,046</td>\n",
              "      <td>175,907</td>\n",
              "      <td>180,487</td>\n",
              "    </tr>\n",
              "    <tr>\n",
              "      <th>2</th>\n",
              "      <td>Bond</td>\n",
              "      <td>538,723</td>\n",
              "      <td>505,537</td>\n",
              "      <td>510,397</td>\n",
              "      <td>556,141</td>\n",
              "    </tr>\n",
              "    <tr>\n",
              "      <th>3</th>\n",
              "      <td>Boone</td>\n",
              "      <td>1,539,986</td>\n",
              "      <td>1,576,573</td>\n",
              "      <td>1,494,617</td>\n",
              "      <td>1,706,969</td>\n",
              "    </tr>\n",
              "    <tr>\n",
              "      <th>4</th>\n",
              "      <td>Brown</td>\n",
              "      <td>399,933</td>\n",
              "      <td>387,127</td>\n",
              "      <td>403,323</td>\n",
              "      <td>403,332</td>\n",
              "    </tr>\n",
              "  </tbody>\n",
              "</table>\n",
              "</div>"
            ],
            "text/plain": [
              "  county name   gdp_2015   gdp_2016   gdp_2017   gdp_2018\n",
              "0       Adams  3,184,014  3,120,703  3,139,643  3,284,870\n",
              "1   Alexander    169,523    180,046    175,907    180,487\n",
              "2        Bond    538,723    505,537    510,397    556,141\n",
              "3       Boone  1,539,986  1,576,573  1,494,617  1,706,969\n",
              "4       Brown    399,933    387,127    403,323    403,332"
            ]
          },
          "metadata": {
            "tags": []
          },
          "execution_count": 5
        }
      ]
    },
    {
      "cell_type": "code",
      "metadata": {
        "id": "iI5tqoPffxue",
        "colab_type": "code",
        "outputId": "cc26fd0c-862b-420c-d398-591871be1276",
        "colab": {
          "base_uri": "https://localhost:8080/",
          "height": 204
        }
      },
      "source": [
        "popu.head()"
      ],
      "execution_count": 0,
      "outputs": [
        {
          "output_type": "execute_result",
          "data": {
            "text/html": [
              "<div>\n",
              "<style scoped>\n",
              "    .dataframe tbody tr th:only-of-type {\n",
              "        vertical-align: middle;\n",
              "    }\n",
              "\n",
              "    .dataframe tbody tr th {\n",
              "        vertical-align: top;\n",
              "    }\n",
              "\n",
              "    .dataframe thead th {\n",
              "        text-align: right;\n",
              "    }\n",
              "</style>\n",
              "<table border=\"1\" class=\"dataframe\">\n",
              "  <thead>\n",
              "    <tr style=\"text-align: right;\">\n",
              "      <th></th>\n",
              "      <th>county_name</th>\n",
              "      <th>popu_2018</th>\n",
              "    </tr>\n",
              "  </thead>\n",
              "  <tbody>\n",
              "    <tr>\n",
              "      <th>0</th>\n",
              "      <td>Adams</td>\n",
              "      <td>65691</td>\n",
              "    </tr>\n",
              "    <tr>\n",
              "      <th>1</th>\n",
              "      <td>Alexander</td>\n",
              "      <td>6060</td>\n",
              "    </tr>\n",
              "    <tr>\n",
              "      <th>2</th>\n",
              "      <td>Bond</td>\n",
              "      <td>16630</td>\n",
              "    </tr>\n",
              "    <tr>\n",
              "      <th>3</th>\n",
              "      <td>Boone</td>\n",
              "      <td>53577</td>\n",
              "    </tr>\n",
              "    <tr>\n",
              "      <th>4</th>\n",
              "      <td>Brown</td>\n",
              "      <td>6556</td>\n",
              "    </tr>\n",
              "  </tbody>\n",
              "</table>\n",
              "</div>"
            ],
            "text/plain": [
              "  county_name   popu_2018\n",
              "0        Adams      65691\n",
              "1    Alexander       6060\n",
              "2         Bond      16630\n",
              "3        Boone      53577\n",
              "4        Brown       6556"
            ]
          },
          "metadata": {
            "tags": []
          },
          "execution_count": 6
        }
      ]
    },
    {
      "cell_type": "markdown",
      "metadata": {
        "id": "jYBV5cBIfxuh",
        "colab_type": "text"
      },
      "source": [
        "## Question 1: How have the total number of births in the state changed over the years? "
      ]
    },
    {
      "cell_type": "code",
      "metadata": {
        "id": "yCHEZm_ifxui",
        "colab_type": "code",
        "outputId": "d7e5618b-32a0-4cf6-b984-f2d6bc7cfbe5",
        "colab": {
          "base_uri": "https://localhost:8080/",
          "height": 542
        }
      },
      "source": [
        "births16 = df16['Births'].str.replace(',', '').astype(int).sum()\n",
        "births17 = df17['Births'].str.replace(',', '').astype(int).sum()\n",
        "births18 = df18['Births'].dropna().str.replace(',', '').astype(int).sum()\n",
        "\n",
        "x = ['2016','2017','2018']\n",
        "y = [births16, births17, births18]\n",
        "\n",
        "trace = go.Bar(x =x, y=y, marker_color='#9ecae1', marker_line_color='#08306b',\n",
        "                  marker_line_width=0.5, opacity=0.8)\n",
        "\n",
        "layout = go.Layout(title=\"Total births in Illinois\",\n",
        "          xaxis_title=\"Years\",\n",
        "          yaxis_title=\"Number of births\",\n",
        "          xaxis=dict(type='category'))\n",
        "\n",
        "fig = go.Figure([trace], layout)\n",
        "fig.show()"
      ],
      "execution_count": 0,
      "outputs": [
        {
          "output_type": "display_data",
          "data": {
            "text/html": [
              "<html>\n",
              "<head><meta charset=\"utf-8\" /></head>\n",
              "<body>\n",
              "    <div>\n",
              "            <script src=\"https://cdnjs.cloudflare.com/ajax/libs/mathjax/2.7.5/MathJax.js?config=TeX-AMS-MML_SVG\"></script><script type=\"text/javascript\">if (window.MathJax) {MathJax.Hub.Config({SVG: {font: \"STIX-Web\"}});}</script>\n",
              "                <script type=\"text/javascript\">window.PlotlyConfig = {MathJaxConfig: 'local'};</script>\n",
              "        <script src=\"https://cdn.plot.ly/plotly-latest.min.js\"></script>    \n",
              "            <div id=\"82bc42c5-fba6-4daf-a6f4-ce1c6c8b0c8f\" class=\"plotly-graph-div\" style=\"height:525px; width:100%;\"></div>\n",
              "            <script type=\"text/javascript\">\n",
              "                \n",
              "                    window.PLOTLYENV=window.PLOTLYENV || {};\n",
              "                    \n",
              "                if (document.getElementById(\"82bc42c5-fba6-4daf-a6f4-ce1c6c8b0c8f\")) {\n",
              "                    Plotly.newPlot(\n",
              "                        '82bc42c5-fba6-4daf-a6f4-ce1c6c8b0c8f',\n",
              "                        [{\"marker\": {\"color\": \"#9ecae1\", \"line\": {\"color\": \"#08306b\", \"width\": 0.5}}, \"opacity\": 0.8, \"type\": \"bar\", \"x\": [\"2016\", \"2017\", \"2018\"], \"y\": [154461, 149389, 144828]}],\n",
              "                        {\"template\": {\"data\": {\"bar\": [{\"error_x\": {\"color\": \"#2a3f5f\"}, \"error_y\": {\"color\": \"#2a3f5f\"}, \"marker\": {\"line\": {\"color\": \"#E5ECF6\", \"width\": 0.5}}, \"type\": \"bar\"}], \"barpolar\": [{\"marker\": {\"line\": {\"color\": \"#E5ECF6\", \"width\": 0.5}}, \"type\": \"barpolar\"}], \"carpet\": [{\"aaxis\": {\"endlinecolor\": \"#2a3f5f\", \"gridcolor\": \"white\", \"linecolor\": \"white\", \"minorgridcolor\": \"white\", \"startlinecolor\": \"#2a3f5f\"}, \"baxis\": {\"endlinecolor\": \"#2a3f5f\", \"gridcolor\": \"white\", \"linecolor\": \"white\", \"minorgridcolor\": \"white\", \"startlinecolor\": \"#2a3f5f\"}, \"type\": \"carpet\"}], \"choropleth\": [{\"colorbar\": {\"outlinewidth\": 0, \"ticks\": \"\"}, \"type\": \"choropleth\"}], \"contour\": [{\"colorbar\": {\"outlinewidth\": 0, \"ticks\": \"\"}, \"colorscale\": [[0.0, \"#0d0887\"], [0.1111111111111111, \"#46039f\"], [0.2222222222222222, \"#7201a8\"], [0.3333333333333333, \"#9c179e\"], [0.4444444444444444, \"#bd3786\"], [0.5555555555555556, \"#d8576b\"], [0.6666666666666666, \"#ed7953\"], [0.7777777777777778, \"#fb9f3a\"], [0.8888888888888888, \"#fdca26\"], [1.0, \"#f0f921\"]], \"type\": \"contour\"}], \"contourcarpet\": [{\"colorbar\": {\"outlinewidth\": 0, \"ticks\": \"\"}, \"type\": \"contourcarpet\"}], \"heatmap\": [{\"colorbar\": {\"outlinewidth\": 0, \"ticks\": \"\"}, \"colorscale\": [[0.0, \"#0d0887\"], [0.1111111111111111, \"#46039f\"], [0.2222222222222222, \"#7201a8\"], [0.3333333333333333, \"#9c179e\"], [0.4444444444444444, \"#bd3786\"], [0.5555555555555556, \"#d8576b\"], [0.6666666666666666, \"#ed7953\"], [0.7777777777777778, \"#fb9f3a\"], [0.8888888888888888, \"#fdca26\"], [1.0, \"#f0f921\"]], \"type\": \"heatmap\"}], \"heatmapgl\": [{\"colorbar\": {\"outlinewidth\": 0, \"ticks\": \"\"}, \"colorscale\": [[0.0, \"#0d0887\"], [0.1111111111111111, \"#46039f\"], [0.2222222222222222, \"#7201a8\"], [0.3333333333333333, \"#9c179e\"], [0.4444444444444444, \"#bd3786\"], [0.5555555555555556, \"#d8576b\"], [0.6666666666666666, \"#ed7953\"], [0.7777777777777778, \"#fb9f3a\"], [0.8888888888888888, \"#fdca26\"], [1.0, \"#f0f921\"]], \"type\": \"heatmapgl\"}], \"histogram\": [{\"marker\": {\"colorbar\": {\"outlinewidth\": 0, \"ticks\": \"\"}}, \"type\": \"histogram\"}], \"histogram2d\": [{\"colorbar\": {\"outlinewidth\": 0, \"ticks\": \"\"}, \"colorscale\": [[0.0, \"#0d0887\"], [0.1111111111111111, \"#46039f\"], [0.2222222222222222, \"#7201a8\"], [0.3333333333333333, \"#9c179e\"], [0.4444444444444444, \"#bd3786\"], [0.5555555555555556, \"#d8576b\"], [0.6666666666666666, \"#ed7953\"], [0.7777777777777778, \"#fb9f3a\"], [0.8888888888888888, \"#fdca26\"], [1.0, \"#f0f921\"]], \"type\": \"histogram2d\"}], \"histogram2dcontour\": [{\"colorbar\": {\"outlinewidth\": 0, \"ticks\": \"\"}, \"colorscale\": [[0.0, \"#0d0887\"], [0.1111111111111111, \"#46039f\"], [0.2222222222222222, \"#7201a8\"], [0.3333333333333333, \"#9c179e\"], [0.4444444444444444, \"#bd3786\"], [0.5555555555555556, \"#d8576b\"], [0.6666666666666666, \"#ed7953\"], [0.7777777777777778, \"#fb9f3a\"], [0.8888888888888888, \"#fdca26\"], [1.0, \"#f0f921\"]], \"type\": \"histogram2dcontour\"}], \"mesh3d\": [{\"colorbar\": {\"outlinewidth\": 0, \"ticks\": \"\"}, \"type\": \"mesh3d\"}], \"parcoords\": [{\"line\": {\"colorbar\": {\"outlinewidth\": 0, \"ticks\": \"\"}}, \"type\": \"parcoords\"}], \"pie\": [{\"automargin\": true, \"type\": \"pie\"}], \"scatter\": [{\"marker\": {\"colorbar\": {\"outlinewidth\": 0, \"ticks\": \"\"}}, \"type\": \"scatter\"}], \"scatter3d\": [{\"line\": {\"colorbar\": {\"outlinewidth\": 0, \"ticks\": \"\"}}, \"marker\": {\"colorbar\": {\"outlinewidth\": 0, \"ticks\": \"\"}}, \"type\": \"scatter3d\"}], \"scattercarpet\": [{\"marker\": {\"colorbar\": {\"outlinewidth\": 0, \"ticks\": \"\"}}, \"type\": \"scattercarpet\"}], \"scattergeo\": [{\"marker\": {\"colorbar\": {\"outlinewidth\": 0, \"ticks\": \"\"}}, \"type\": \"scattergeo\"}], \"scattergl\": [{\"marker\": {\"colorbar\": {\"outlinewidth\": 0, \"ticks\": \"\"}}, \"type\": \"scattergl\"}], \"scattermapbox\": [{\"marker\": {\"colorbar\": {\"outlinewidth\": 0, \"ticks\": \"\"}}, \"type\": \"scattermapbox\"}], \"scatterpolar\": [{\"marker\": {\"colorbar\": {\"outlinewidth\": 0, \"ticks\": \"\"}}, \"type\": \"scatterpolar\"}], \"scatterpolargl\": [{\"marker\": {\"colorbar\": {\"outlinewidth\": 0, \"ticks\": \"\"}}, \"type\": \"scatterpolargl\"}], \"scatterternary\": [{\"marker\": {\"colorbar\": {\"outlinewidth\": 0, \"ticks\": \"\"}}, \"type\": \"scatterternary\"}], \"surface\": [{\"colorbar\": {\"outlinewidth\": 0, \"ticks\": \"\"}, \"colorscale\": [[0.0, \"#0d0887\"], [0.1111111111111111, \"#46039f\"], [0.2222222222222222, \"#7201a8\"], [0.3333333333333333, \"#9c179e\"], [0.4444444444444444, \"#bd3786\"], [0.5555555555555556, \"#d8576b\"], [0.6666666666666666, \"#ed7953\"], [0.7777777777777778, \"#fb9f3a\"], [0.8888888888888888, \"#fdca26\"], [1.0, \"#f0f921\"]], \"type\": \"surface\"}], \"table\": [{\"cells\": {\"fill\": {\"color\": \"#EBF0F8\"}, \"line\": {\"color\": \"white\"}}, \"header\": {\"fill\": {\"color\": \"#C8D4E3\"}, \"line\": {\"color\": \"white\"}}, \"type\": \"table\"}]}, \"layout\": {\"annotationdefaults\": {\"arrowcolor\": \"#2a3f5f\", \"arrowhead\": 0, \"arrowwidth\": 1}, \"coloraxis\": {\"colorbar\": {\"outlinewidth\": 0, \"ticks\": \"\"}}, \"colorscale\": {\"diverging\": [[0, \"#8e0152\"], [0.1, \"#c51b7d\"], [0.2, \"#de77ae\"], [0.3, \"#f1b6da\"], [0.4, \"#fde0ef\"], [0.5, \"#f7f7f7\"], [0.6, \"#e6f5d0\"], [0.7, \"#b8e186\"], [0.8, \"#7fbc41\"], [0.9, \"#4d9221\"], [1, \"#276419\"]], \"sequential\": [[0.0, \"#0d0887\"], [0.1111111111111111, \"#46039f\"], [0.2222222222222222, \"#7201a8\"], [0.3333333333333333, \"#9c179e\"], [0.4444444444444444, \"#bd3786\"], [0.5555555555555556, \"#d8576b\"], [0.6666666666666666, \"#ed7953\"], [0.7777777777777778, \"#fb9f3a\"], [0.8888888888888888, \"#fdca26\"], [1.0, \"#f0f921\"]], \"sequentialminus\": [[0.0, \"#0d0887\"], [0.1111111111111111, \"#46039f\"], [0.2222222222222222, \"#7201a8\"], [0.3333333333333333, \"#9c179e\"], [0.4444444444444444, \"#bd3786\"], [0.5555555555555556, \"#d8576b\"], [0.6666666666666666, \"#ed7953\"], [0.7777777777777778, \"#fb9f3a\"], [0.8888888888888888, \"#fdca26\"], [1.0, \"#f0f921\"]]}, \"colorway\": [\"#636efa\", \"#EF553B\", \"#00cc96\", \"#ab63fa\", \"#FFA15A\", \"#19d3f3\", \"#FF6692\", \"#B6E880\", \"#FF97FF\", \"#FECB52\"], \"font\": {\"color\": \"#2a3f5f\"}, \"geo\": {\"bgcolor\": \"white\", \"lakecolor\": \"white\", \"landcolor\": \"#E5ECF6\", \"showlakes\": true, \"showland\": true, \"subunitcolor\": \"white\"}, \"hoverlabel\": {\"align\": \"left\"}, \"hovermode\": \"closest\", \"mapbox\": {\"style\": \"light\"}, \"paper_bgcolor\": \"white\", \"plot_bgcolor\": \"#E5ECF6\", \"polar\": {\"angularaxis\": {\"gridcolor\": \"white\", \"linecolor\": \"white\", \"ticks\": \"\"}, \"bgcolor\": \"#E5ECF6\", \"radialaxis\": {\"gridcolor\": \"white\", \"linecolor\": \"white\", \"ticks\": \"\"}}, \"scene\": {\"xaxis\": {\"backgroundcolor\": \"#E5ECF6\", \"gridcolor\": \"white\", \"gridwidth\": 2, \"linecolor\": \"white\", \"showbackground\": true, \"ticks\": \"\", \"zerolinecolor\": \"white\"}, \"yaxis\": {\"backgroundcolor\": \"#E5ECF6\", \"gridcolor\": \"white\", \"gridwidth\": 2, \"linecolor\": \"white\", \"showbackground\": true, \"ticks\": \"\", \"zerolinecolor\": \"white\"}, \"zaxis\": {\"backgroundcolor\": \"#E5ECF6\", \"gridcolor\": \"white\", \"gridwidth\": 2, \"linecolor\": \"white\", \"showbackground\": true, \"ticks\": \"\", \"zerolinecolor\": \"white\"}}, \"shapedefaults\": {\"line\": {\"color\": \"#2a3f5f\"}}, \"ternary\": {\"aaxis\": {\"gridcolor\": \"white\", \"linecolor\": \"white\", \"ticks\": \"\"}, \"baxis\": {\"gridcolor\": \"white\", \"linecolor\": \"white\", \"ticks\": \"\"}, \"bgcolor\": \"#E5ECF6\", \"caxis\": {\"gridcolor\": \"white\", \"linecolor\": \"white\", \"ticks\": \"\"}}, \"title\": {\"x\": 0.05}, \"xaxis\": {\"automargin\": true, \"gridcolor\": \"white\", \"linecolor\": \"white\", \"ticks\": \"\", \"title\": {\"standoff\": 15}, \"zerolinecolor\": \"white\", \"zerolinewidth\": 2}, \"yaxis\": {\"automargin\": true, \"gridcolor\": \"white\", \"linecolor\": \"white\", \"ticks\": \"\", \"title\": {\"standoff\": 15}, \"zerolinecolor\": \"white\", \"zerolinewidth\": 2}}}, \"title\": {\"text\": \"Total births in Illinois\"}, \"xaxis\": {\"title\": {\"text\": \"Years\"}, \"type\": \"category\"}, \"yaxis\": {\"title\": {\"text\": \"Number of births\"}}},\n",
              "                        {\"responsive\": true}\n",
              "                    ).then(function(){\n",
              "                            \n",
              "var gd = document.getElementById('82bc42c5-fba6-4daf-a6f4-ce1c6c8b0c8f');\n",
              "var x = new MutationObserver(function (mutations, observer) {{\n",
              "        var display = window.getComputedStyle(gd).display;\n",
              "        if (!display || display === 'none') {{\n",
              "            console.log([gd, 'removed!']);\n",
              "            Plotly.purge(gd);\n",
              "            observer.disconnect();\n",
              "        }}\n",
              "}});\n",
              "\n",
              "// Listen for the removal of the full notebook cells\n",
              "var notebookContainer = gd.closest('#notebook-container');\n",
              "if (notebookContainer) {{\n",
              "    x.observe(notebookContainer, {childList: true});\n",
              "}}\n",
              "\n",
              "// Listen for the clearing of the current output cell\n",
              "var outputEl = gd.closest('.output');\n",
              "if (outputEl) {{\n",
              "    x.observe(outputEl, {childList: true});\n",
              "}}\n",
              "\n",
              "                        })\n",
              "                };\n",
              "                \n",
              "            </script>\n",
              "        </div>\n",
              "</body>\n",
              "</html>"
            ]
          },
          "metadata": {
            "tags": []
          }
        }
      ]
    },
    {
      "cell_type": "markdown",
      "metadata": {
        "id": "rUnth7eCknqI",
        "colab_type": "text"
      },
      "source": [
        "Illinois Department of Public Health provides the total number of births in each county every year. As the number of birth continues to fall in developed countries around the world in recent years, I am interested to see if the same is happening in Illinois. By adding the number of births in all the counties, I was able to get the total number of births in the state for all three years. I then visualized the data in a bar chart, as seen above. \n",
        "    \n",
        "Conclusion: The number of births in Illinois has been steadily decreasing from 2016 to 2018. \n",
        "    \n",
        "Data source: Illinois Department of Public Health"
      ]
    },
    {
      "cell_type": "markdown",
      "metadata": {
        "id": "aCD-h3aafxuq",
        "colab_type": "text"
      },
      "source": [
        "## Question 2: How does the county's GDP correlate to the rate of Advanced Maternal Age (mothers aged 35+) ?"
      ]
    },
    {
      "cell_type": "code",
      "metadata": {
        "id": "-NxphYYJfxus",
        "colab_type": "code",
        "outputId": "3901f7ac-5992-42cf-acfb-a966fe67c250",
        "colab": {
          "base_uri": "https://localhost:8080/",
          "height": 1000
        }
      },
      "source": [
        "df16.columns = df16.columns.str.strip().str.replace(' ', '_')\n",
        "\n",
        "df16['edu_rate'] = (df16['Mothe_Age_35_-_39'].str.replace(',', '').astype(int) + df16['Mothe_Age_40_+'].str.replace(',', '').astype(int))/df16['Births'].str.replace(',', '').astype(int)\n",
        "df16['gdp16'] = gdp['gdp_2016']\n",
        "\n",
        "trace = go.Scatter(x = df16.edu_rate, \n",
        "                   y = df16.gdp16, \n",
        "                   mode = \"markers\", \n",
        "                   name = \"2016\", \n",
        "                   marker = dict(color = 'rgba(0, 255, 200, 0.8)'), \n",
        "                   text= df16.Resident_County)\n",
        "\n",
        "layout = dict(title = 'Correlation between county GDP and AMA rate in 2016',\n",
        "              xaxis= dict(title= 'Rate of mothers aged 35+',ticklen= 5,zeroline= False),\n",
        "              yaxis= dict(title= 'County GDP',ticklen= 5,zeroline= False))\n",
        "\n",
        "fig = go.Figure([trace], layout)\n",
        "fig.show()\n",
        "\n",
        "df17.columns = df17.columns.str.strip().str.replace(' ', '_')\n",
        "\n",
        "df17['edu_rate'] = (df17['Mothe_Age_35_-_39'].str.replace(',', '').astype(int) + df17['Mothe_Age_40_+'].str.replace(',', '').astype(int))/df17['Births'].str.replace(',', '').astype(int)\n",
        "df17['gdp17'] = gdp['gdp_2017']\n",
        "\n",
        "trace = go.Scatter(x = df17.edu_rate, \n",
        "                   y = df17.gdp17, \n",
        "                   mode = \"markers\", \n",
        "                   name = \"2017\", \n",
        "                   marker = dict(color = 'rgba(0, 255, 200, 0.8)'), \n",
        "                   text= df17.Resident_County)\n",
        "\n",
        "layout = dict(title = 'Correlation between county GDP and AMA rate in 2017',\n",
        "              xaxis= dict(title= 'Rate of mothers aged 35+',ticklen= 5,zeroline= False),\n",
        "              yaxis= dict(title= 'County GDP',ticklen= 5,zeroline= False))\n",
        "\n",
        "fig = go.Figure([trace], layout)\n",
        "fig.show()\n",
        "\n",
        "df18.columns = df18.columns.str.strip().str.replace(' ', '_')\n",
        "\n",
        "df18['edu_rate'] = (df18['Mothe_Age_35_-_39'].dropna().str.replace(',', '').astype(int) + df18['Mothe_Age_40_+'].dropna().str.replace(',', '').astype(int))/df18['Births'].dropna().str.replace(',', '').astype(int)\n",
        "df18['gdp18'] = gdp['gdp_2018']\n",
        "\n",
        "trace = go.Scatter(x = df18.edu_rate, \n",
        "                   y = df18.gdp18, \n",
        "                   mode = \"markers\", \n",
        "                   name = \"2018\", \n",
        "                   marker = dict(color = 'rgba(0, 255, 200, 0.8)'), \n",
        "                   text= df18.Resident_County)\n",
        "\n",
        "layout = dict(title = 'Correlation between county GDP and AMA rate in 2018',\n",
        "              xaxis= dict(title= 'Rate of mothers aged 35+',ticklen= 5,zeroline= False),\n",
        "              yaxis= dict(title= 'County GDP',ticklen= 5,zeroline= False))\n",
        "\n",
        "fig = go.Figure([trace], layout)\n",
        "fig.show()"
      ],
      "execution_count": 0,
      "outputs": [
        {
          "output_type": "display_data",
          "data": {
            "text/html": [
              "<html>\n",
              "<head><meta charset=\"utf-8\" /></head>\n",
              "<body>\n",
              "    <div>\n",
              "            <script src=\"https://cdnjs.cloudflare.com/ajax/libs/mathjax/2.7.5/MathJax.js?config=TeX-AMS-MML_SVG\"></script><script type=\"text/javascript\">if (window.MathJax) {MathJax.Hub.Config({SVG: {font: \"STIX-Web\"}});}</script>\n",
              "                <script type=\"text/javascript\">window.PlotlyConfig = {MathJaxConfig: 'local'};</script>\n",
              "        <script src=\"https://cdn.plot.ly/plotly-latest.min.js\"></script>    \n",
              "            <div id=\"c2941491-7608-4147-bda4-f2eee6e8e4fe\" class=\"plotly-graph-div\" style=\"height:525px; width:100%;\"></div>\n",
              "            <script type=\"text/javascript\">\n",
              "                \n",
              "                    window.PLOTLYENV=window.PLOTLYENV || {};\n",
              "                    \n",
              "                if (document.getElementById(\"c2941491-7608-4147-bda4-f2eee6e8e4fe\")) {\n",
              "                    Plotly.newPlot(\n",
              "                        'c2941491-7608-4147-bda4-f2eee6e8e4fe',\n",
              "                        [{\"marker\": {\"color\": \"rgba(0, 255, 200, 0.8)\"}, \"mode\": \"markers\", \"name\": \"2016\", \"text\": [\"Adams\", \"Alexander\", \"Bond\", \"Boone\", \"Brown\", \"Bureau\", \"Calhoun\", \"Carroll\", \"Cass\", \"Champaign\", \"Christian\", \"Clark\", \"Clay\", \"Clinton\", \"Coles\", \"Cook\", \"Crawford\", \"Cumberland\", \"DeKalb\", \"DeWitt\", \"Douglas\", \"DuPage\", \"Edgar\", \"Edwards\", \"Effingham\", \"Fayette\", \"Ford\", \"Franklin\", \"Fulton\", \"Gallatin\", \"Greene\", \"Grundy\", \"Hamilton\", \"Hancock\", \"Hardin\", \"Henderson\", \"Henry\", \"Iroquois\", \"Jackson\", \"Jasper\", \"Jefferson\", \"Jersey\", \"Jo Daviess\", \"Johnson\", \"Kane\", \"Kankakee\", \"Kendall\", \"Knox\", \"Lake\", \"LaSalle\", \"Lawrence\", \"Lee\", \"Livingston\", \"Logan\", \"McDonough\", \"McHenry\", \"McLean\", \"Macon\", \"Macoupin\", \"Madison\", \"Marion\", \"Marshall\", \"Mason\", \"Massac\", \"Menard\", \"Mercer\", \"Monroe\", \"Montgomery\", \"Morgan\", \"Moultrie\", \"Ogle\", \"Peoria\", \"Perry\", \"Piatt\", \"Pike\", \"Pope\", \"Pulaski\", \"Putnam\", \"Randolph\", \"Richland\", \"Rock Island\", \"St. Clair\", \"Saline\", \"Sangamon\", \"Schuyler\", \"Scott\", \"Shelby\", \"Stark\", \"Stephenson\", \"Tazewell\", \"Union\", \"Vermilion\", \"Wabash\", \"Warren\", \"Washington\", \"Wayne\", \"White\", \"Whiteside\", \"Will\", \"Williamson\", \"Winnebago\", \"Woodford\"], \"type\": \"scatter\", \"x\": [0.08994082840236686, 0.0759493670886076, 0.10135135135135136, 0.15156794425087108, 0.07352941176470588, 0.12, 0.14583333333333334, 0.10869565217391304, 0.0989010989010989, 0.15323590814196242, 0.07988165680473373, 0.07222222222222222, 0.09433962264150944, 0.12135922330097088, 0.0946969696969697, 0.21842747794304887, 0.07339449541284404, 0.09523809523809523, 0.1637694419030192, 0.16167664670658682, 0.09126984126984126, 0.24040236249538574, 0.06486486486486487, 0.08333333333333333, 0.10596026490066225, 0.0830188679245283, 0.10559006211180125, 0.08085106382978724, 0.07608695652173914, 0.17647058823529413, 0.12121212121212122, 0.1456953642384106, 0.14130434782608695, 0.10752688172043011, 0.0, 0.1267605633802817, 0.11152416356877323, 0.09281437125748503, 0.11346444780635401, 0.06956521739130435, 0.08712871287128712, 0.1004566210045662, 0.12422360248447205, 0.13821138211382114, 0.20146028907763375, 0.12259970457902511, 0.1806775407779172, 0.10627177700348432, 0.2244418331374853, 0.11727416798732171, 0.0641025641025641, 0.12244897959183673, 0.07888040712468193, 0.10135135135135136, 0.09473684210526316, 0.19359015862738752, 0.14405940594059405, 0.09419743782969103, 0.13530655391120508, 0.1190709846254498, 0.08928571428571429, 0.13675213675213677, 0.06870229007633588, 0.09815950920245399, 0.11363636363636363, 0.11643835616438356, 0.1786743515850144, 0.11072664359861592, 0.12874251497005987, 0.13432835820895522, 0.10714285714285714, 0.12849822625147814, 0.07373271889400922, 0.16666666666666666, 0.10714285714285714, 0.07407407407407407, 0.10588235294117647, 0.12, 0.06376811594202898, 0.04854368932038835, 0.12915961646926113, 0.13117283950617284, 0.07033639143730887, 0.13051224944320713, 0.11864406779661017, 0.16, 0.1015625, 0.109375, 0.13704496788008566, 0.12098930481283422, 0.12921348314606743, 0.089128305582762, 0.0783132530120482, 0.11818181818181818, 0.07236842105263158, 0.04285714285714286, 0.0967741935483871, 0.09225700164744646, 0.1974881455850314, 0.09323116219667944, 0.13577586206896552, 0.14180929095354522], \"y\": [\"3,120,703\", \"180,046\", \"505,537\", \"1,576,573\", \"387,127\", \"1,156,349\", \"100,621\", \"561,679\", \"612,636\", \"10,084,549\", \"1,291,070\", \"540,468\", \"589,274\", \"1,196,619\", \"2,178,366\", \"351,380,397\", \"2,650,746\", \"308,883\", \"3,542,208\", \"1,160,793\", \"918,981\", \"80,271,717\", \"690,176\", \"267,365\", \"1,848,777\", \"556,309\", \"786,186\", \"1,093,603\", \"869,606\", \"296,067\", \"335,338\", \"3,177,894\", \"350,296\", \"593,121\", \"107,120\", \"205,747\", \"1,482,948\", \"1,185,885\", \"2,772,570\", \"515,877\", \"1,686,122\", \"487,948\", \"862,970\", \"229,919\", \"21,140,553\", \"4,383,459\", \"2,826,945\", \"1,834,303\", \"57,791,108\", \"5,282,238\", \"505,490\", \"1,335,417\", \"1,900,803\", \"1,106,815\", \"1,179,808\", \"10,098,988\", \"12,002,700\", \"6,405,913\", \"1,074,504\", \"10,721,584\", \"1,280,697\", \"453,634\", \"544,718\", \"694,090\", \"236,933\", \"377,800\", \"865,997\", \"1,188,741\", \"1,376,639\", \"571,325\", \"2,735,223\", \"10,717,177\", \"647,016\", \"424,724\", \"629,663\", \"93,027\", \"246,211\", \"351,440\", \"1,510,682\", \"898,151\", \"10,199,947\", \"10,525,960\", \"871,157\", \"10,058,948\", \"285,042\", \"166,408\", \"684,249\", \"237,581\", \"1,994,216\", \"9,108,186\", \"480,356\", \"3,214,461\", \"350,747\", \"689,555\", \"833,583\", \"649,001\", \"594,068\", \"1,997,881\", \"27,399,059\", \"2,662,912\", \"12,582,907\", \"1,217,365\"]}],\n",
              "                        {\"template\": {\"data\": {\"bar\": [{\"error_x\": {\"color\": \"#2a3f5f\"}, \"error_y\": {\"color\": \"#2a3f5f\"}, \"marker\": {\"line\": {\"color\": \"#E5ECF6\", \"width\": 0.5}}, \"type\": \"bar\"}], \"barpolar\": [{\"marker\": {\"line\": {\"color\": \"#E5ECF6\", \"width\": 0.5}}, \"type\": \"barpolar\"}], \"carpet\": [{\"aaxis\": {\"endlinecolor\": \"#2a3f5f\", \"gridcolor\": \"white\", \"linecolor\": \"white\", \"minorgridcolor\": \"white\", \"startlinecolor\": \"#2a3f5f\"}, \"baxis\": {\"endlinecolor\": \"#2a3f5f\", \"gridcolor\": \"white\", \"linecolor\": \"white\", \"minorgridcolor\": \"white\", \"startlinecolor\": \"#2a3f5f\"}, \"type\": \"carpet\"}], \"choropleth\": [{\"colorbar\": {\"outlinewidth\": 0, \"ticks\": \"\"}, \"type\": \"choropleth\"}], \"contour\": [{\"colorbar\": {\"outlinewidth\": 0, \"ticks\": \"\"}, \"colorscale\": [[0.0, \"#0d0887\"], [0.1111111111111111, \"#46039f\"], [0.2222222222222222, \"#7201a8\"], [0.3333333333333333, \"#9c179e\"], [0.4444444444444444, \"#bd3786\"], [0.5555555555555556, \"#d8576b\"], [0.6666666666666666, \"#ed7953\"], [0.7777777777777778, \"#fb9f3a\"], [0.8888888888888888, \"#fdca26\"], [1.0, \"#f0f921\"]], \"type\": \"contour\"}], \"contourcarpet\": [{\"colorbar\": {\"outlinewidth\": 0, \"ticks\": \"\"}, \"type\": \"contourcarpet\"}], \"heatmap\": [{\"colorbar\": {\"outlinewidth\": 0, \"ticks\": \"\"}, \"colorscale\": [[0.0, \"#0d0887\"], [0.1111111111111111, \"#46039f\"], [0.2222222222222222, \"#7201a8\"], [0.3333333333333333, \"#9c179e\"], [0.4444444444444444, \"#bd3786\"], [0.5555555555555556, \"#d8576b\"], [0.6666666666666666, \"#ed7953\"], [0.7777777777777778, \"#fb9f3a\"], [0.8888888888888888, \"#fdca26\"], [1.0, \"#f0f921\"]], \"type\": \"heatmap\"}], \"heatmapgl\": [{\"colorbar\": {\"outlinewidth\": 0, \"ticks\": \"\"}, \"colorscale\": [[0.0, \"#0d0887\"], [0.1111111111111111, \"#46039f\"], [0.2222222222222222, \"#7201a8\"], [0.3333333333333333, \"#9c179e\"], [0.4444444444444444, \"#bd3786\"], [0.5555555555555556, \"#d8576b\"], [0.6666666666666666, \"#ed7953\"], [0.7777777777777778, \"#fb9f3a\"], [0.8888888888888888, \"#fdca26\"], [1.0, \"#f0f921\"]], \"type\": \"heatmapgl\"}], \"histogram\": [{\"marker\": {\"colorbar\": {\"outlinewidth\": 0, \"ticks\": \"\"}}, \"type\": \"histogram\"}], \"histogram2d\": [{\"colorbar\": {\"outlinewidth\": 0, \"ticks\": \"\"}, \"colorscale\": [[0.0, \"#0d0887\"], [0.1111111111111111, \"#46039f\"], [0.2222222222222222, \"#7201a8\"], [0.3333333333333333, \"#9c179e\"], [0.4444444444444444, \"#bd3786\"], [0.5555555555555556, \"#d8576b\"], [0.6666666666666666, \"#ed7953\"], [0.7777777777777778, \"#fb9f3a\"], [0.8888888888888888, \"#fdca26\"], [1.0, \"#f0f921\"]], \"type\": \"histogram2d\"}], \"histogram2dcontour\": [{\"colorbar\": {\"outlinewidth\": 0, \"ticks\": \"\"}, \"colorscale\": [[0.0, \"#0d0887\"], [0.1111111111111111, \"#46039f\"], [0.2222222222222222, \"#7201a8\"], [0.3333333333333333, \"#9c179e\"], [0.4444444444444444, \"#bd3786\"], [0.5555555555555556, \"#d8576b\"], [0.6666666666666666, \"#ed7953\"], [0.7777777777777778, \"#fb9f3a\"], [0.8888888888888888, \"#fdca26\"], [1.0, \"#f0f921\"]], \"type\": \"histogram2dcontour\"}], \"mesh3d\": [{\"colorbar\": {\"outlinewidth\": 0, \"ticks\": \"\"}, \"type\": \"mesh3d\"}], \"parcoords\": [{\"line\": {\"colorbar\": {\"outlinewidth\": 0, \"ticks\": \"\"}}, \"type\": \"parcoords\"}], \"pie\": [{\"automargin\": true, \"type\": \"pie\"}], \"scatter\": [{\"marker\": {\"colorbar\": {\"outlinewidth\": 0, \"ticks\": \"\"}}, \"type\": \"scatter\"}], \"scatter3d\": [{\"line\": {\"colorbar\": {\"outlinewidth\": 0, \"ticks\": \"\"}}, \"marker\": {\"colorbar\": {\"outlinewidth\": 0, \"ticks\": \"\"}}, \"type\": \"scatter3d\"}], \"scattercarpet\": [{\"marker\": {\"colorbar\": {\"outlinewidth\": 0, \"ticks\": \"\"}}, \"type\": \"scattercarpet\"}], \"scattergeo\": [{\"marker\": {\"colorbar\": {\"outlinewidth\": 0, \"ticks\": \"\"}}, \"type\": \"scattergeo\"}], \"scattergl\": [{\"marker\": {\"colorbar\": {\"outlinewidth\": 0, \"ticks\": \"\"}}, \"type\": \"scattergl\"}], \"scattermapbox\": [{\"marker\": {\"colorbar\": {\"outlinewidth\": 0, \"ticks\": \"\"}}, \"type\": \"scattermapbox\"}], \"scatterpolar\": [{\"marker\": {\"colorbar\": {\"outlinewidth\": 0, \"ticks\": \"\"}}, \"type\": \"scatterpolar\"}], \"scatterpolargl\": [{\"marker\": {\"colorbar\": {\"outlinewidth\": 0, \"ticks\": \"\"}}, \"type\": \"scatterpolargl\"}], \"scatterternary\": [{\"marker\": {\"colorbar\": {\"outlinewidth\": 0, \"ticks\": \"\"}}, \"type\": \"scatterternary\"}], \"surface\": [{\"colorbar\": {\"outlinewidth\": 0, \"ticks\": \"\"}, \"colorscale\": [[0.0, \"#0d0887\"], [0.1111111111111111, \"#46039f\"], [0.2222222222222222, \"#7201a8\"], [0.3333333333333333, \"#9c179e\"], [0.4444444444444444, \"#bd3786\"], [0.5555555555555556, \"#d8576b\"], [0.6666666666666666, \"#ed7953\"], [0.7777777777777778, \"#fb9f3a\"], [0.8888888888888888, \"#fdca26\"], [1.0, \"#f0f921\"]], \"type\": \"surface\"}], \"table\": [{\"cells\": {\"fill\": {\"color\": \"#EBF0F8\"}, \"line\": {\"color\": \"white\"}}, \"header\": {\"fill\": {\"color\": \"#C8D4E3\"}, \"line\": {\"color\": \"white\"}}, \"type\": \"table\"}]}, \"layout\": {\"annotationdefaults\": {\"arrowcolor\": \"#2a3f5f\", \"arrowhead\": 0, \"arrowwidth\": 1}, \"coloraxis\": {\"colorbar\": {\"outlinewidth\": 0, \"ticks\": \"\"}}, \"colorscale\": {\"diverging\": [[0, \"#8e0152\"], [0.1, \"#c51b7d\"], [0.2, \"#de77ae\"], [0.3, \"#f1b6da\"], [0.4, \"#fde0ef\"], [0.5, \"#f7f7f7\"], [0.6, \"#e6f5d0\"], [0.7, \"#b8e186\"], [0.8, \"#7fbc41\"], [0.9, \"#4d9221\"], [1, \"#276419\"]], \"sequential\": [[0.0, \"#0d0887\"], [0.1111111111111111, \"#46039f\"], [0.2222222222222222, \"#7201a8\"], [0.3333333333333333, \"#9c179e\"], [0.4444444444444444, \"#bd3786\"], [0.5555555555555556, \"#d8576b\"], [0.6666666666666666, \"#ed7953\"], [0.7777777777777778, \"#fb9f3a\"], [0.8888888888888888, \"#fdca26\"], [1.0, \"#f0f921\"]], \"sequentialminus\": [[0.0, \"#0d0887\"], [0.1111111111111111, \"#46039f\"], [0.2222222222222222, \"#7201a8\"], [0.3333333333333333, \"#9c179e\"], [0.4444444444444444, \"#bd3786\"], [0.5555555555555556, \"#d8576b\"], [0.6666666666666666, \"#ed7953\"], [0.7777777777777778, \"#fb9f3a\"], [0.8888888888888888, \"#fdca26\"], [1.0, \"#f0f921\"]]}, \"colorway\": [\"#636efa\", \"#EF553B\", \"#00cc96\", \"#ab63fa\", \"#FFA15A\", \"#19d3f3\", \"#FF6692\", \"#B6E880\", \"#FF97FF\", \"#FECB52\"], \"font\": {\"color\": \"#2a3f5f\"}, \"geo\": {\"bgcolor\": \"white\", \"lakecolor\": \"white\", \"landcolor\": \"#E5ECF6\", \"showlakes\": true, \"showland\": true, \"subunitcolor\": \"white\"}, \"hoverlabel\": {\"align\": \"left\"}, \"hovermode\": \"closest\", \"mapbox\": {\"style\": \"light\"}, \"paper_bgcolor\": \"white\", \"plot_bgcolor\": \"#E5ECF6\", \"polar\": {\"angularaxis\": {\"gridcolor\": \"white\", \"linecolor\": \"white\", \"ticks\": \"\"}, \"bgcolor\": \"#E5ECF6\", \"radialaxis\": {\"gridcolor\": \"white\", \"linecolor\": \"white\", \"ticks\": \"\"}}, \"scene\": {\"xaxis\": {\"backgroundcolor\": \"#E5ECF6\", \"gridcolor\": \"white\", \"gridwidth\": 2, \"linecolor\": \"white\", \"showbackground\": true, \"ticks\": \"\", \"zerolinecolor\": \"white\"}, \"yaxis\": {\"backgroundcolor\": \"#E5ECF6\", \"gridcolor\": \"white\", \"gridwidth\": 2, \"linecolor\": \"white\", \"showbackground\": true, \"ticks\": \"\", \"zerolinecolor\": \"white\"}, \"zaxis\": {\"backgroundcolor\": \"#E5ECF6\", \"gridcolor\": \"white\", \"gridwidth\": 2, \"linecolor\": \"white\", \"showbackground\": true, \"ticks\": \"\", \"zerolinecolor\": \"white\"}}, \"shapedefaults\": {\"line\": {\"color\": \"#2a3f5f\"}}, \"ternary\": {\"aaxis\": {\"gridcolor\": \"white\", \"linecolor\": \"white\", \"ticks\": \"\"}, \"baxis\": {\"gridcolor\": \"white\", \"linecolor\": \"white\", \"ticks\": \"\"}, \"bgcolor\": \"#E5ECF6\", \"caxis\": {\"gridcolor\": \"white\", \"linecolor\": \"white\", \"ticks\": \"\"}}, \"title\": {\"x\": 0.05}, \"xaxis\": {\"automargin\": true, \"gridcolor\": \"white\", \"linecolor\": \"white\", \"ticks\": \"\", \"title\": {\"standoff\": 15}, \"zerolinecolor\": \"white\", \"zerolinewidth\": 2}, \"yaxis\": {\"automargin\": true, \"gridcolor\": \"white\", \"linecolor\": \"white\", \"ticks\": \"\", \"title\": {\"standoff\": 15}, \"zerolinecolor\": \"white\", \"zerolinewidth\": 2}}}, \"title\": {\"text\": \"Correlation between county GDP and AMA rate in 2016\"}, \"xaxis\": {\"ticklen\": 5, \"title\": {\"text\": \"Rate of mothers aged 35+\"}, \"zeroline\": false}, \"yaxis\": {\"ticklen\": 5, \"title\": {\"text\": \"County GDP\"}, \"zeroline\": false}},\n",
              "                        {\"responsive\": true}\n",
              "                    ).then(function(){\n",
              "                            \n",
              "var gd = document.getElementById('c2941491-7608-4147-bda4-f2eee6e8e4fe');\n",
              "var x = new MutationObserver(function (mutations, observer) {{\n",
              "        var display = window.getComputedStyle(gd).display;\n",
              "        if (!display || display === 'none') {{\n",
              "            console.log([gd, 'removed!']);\n",
              "            Plotly.purge(gd);\n",
              "            observer.disconnect();\n",
              "        }}\n",
              "}});\n",
              "\n",
              "// Listen for the removal of the full notebook cells\n",
              "var notebookContainer = gd.closest('#notebook-container');\n",
              "if (notebookContainer) {{\n",
              "    x.observe(notebookContainer, {childList: true});\n",
              "}}\n",
              "\n",
              "// Listen for the clearing of the current output cell\n",
              "var outputEl = gd.closest('.output');\n",
              "if (outputEl) {{\n",
              "    x.observe(outputEl, {childList: true});\n",
              "}}\n",
              "\n",
              "                        })\n",
              "                };\n",
              "                \n",
              "            </script>\n",
              "        </div>\n",
              "</body>\n",
              "</html>"
            ]
          },
          "metadata": {
            "tags": []
          }
        },
        {
          "output_type": "display_data",
          "data": {
            "text/html": [
              "<html>\n",
              "<head><meta charset=\"utf-8\" /></head>\n",
              "<body>\n",
              "    <div>\n",
              "            <script src=\"https://cdnjs.cloudflare.com/ajax/libs/mathjax/2.7.5/MathJax.js?config=TeX-AMS-MML_SVG\"></script><script type=\"text/javascript\">if (window.MathJax) {MathJax.Hub.Config({SVG: {font: \"STIX-Web\"}});}</script>\n",
              "                <script type=\"text/javascript\">window.PlotlyConfig = {MathJaxConfig: 'local'};</script>\n",
              "        <script src=\"https://cdn.plot.ly/plotly-latest.min.js\"></script>    \n",
              "            <div id=\"540acaa5-e190-4013-a6c5-04556d2eef9f\" class=\"plotly-graph-div\" style=\"height:525px; width:100%;\"></div>\n",
              "            <script type=\"text/javascript\">\n",
              "                \n",
              "                    window.PLOTLYENV=window.PLOTLYENV || {};\n",
              "                    \n",
              "                if (document.getElementById(\"540acaa5-e190-4013-a6c5-04556d2eef9f\")) {\n",
              "                    Plotly.newPlot(\n",
              "                        '540acaa5-e190-4013-a6c5-04556d2eef9f',\n",
              "                        [{\"marker\": {\"color\": \"rgba(0, 255, 200, 0.8)\"}, \"mode\": \"markers\", \"name\": \"2017\", \"text\": [\"Adams\", \"Alexander\", \"Bond\", \"Boone\", \"Brown\", \"Bureau\", \"Calhoun\", \"Carroll\", \"Cass\", \"Champaign\", \"Christian\", \"Clark\", \"Clay\", \"Clinton\", \"Coles\", \"Cook\", \"Crawford\", \"Cumberland\", \"DeKalb\", \"DeWitt\", \"Douglas\", \"DuPage\", \"Edgar\", \"Edwards\", \"Effingham\", \"Fayette\", \"Ford\", \"Franklin\", \"Fulton\", \"Gallatin\", \"Greene\", \"Grundy\", \"Hamilton\", \"Hancock\", \"Hardin\", \"Henderson\", \"Henry\", \"Iroquois\", \"Jackson\", \"Jasper\", \"Jefferson\", \"Jersey\", \"Jo Daviess\", \"Johnson\", \"Kane\", \"Kankakee\", \"Kendall\", \"Knox\", \"Lake\", \"LaSalle\", \"Lawrence\", \"Lee\", \"Livingston\", \"Logan\", \"McDonough\", \"McHenry\", \"McLean\", \"Macon\", \"Macoupin\", \"Madison\", \"Marion\", \"Marshall\", \"Mason\", \"Massac\", \"Menard\", \"Mercer\", \"Monroe\", \"Montgomery\", \"Morgan\", \"Moultrie\", \"Ogle\", \"Peoria\", \"Perry\", \"Piatt\", \"Pike\", \"Pope\", \"Pulaski\", \"Putnam\", \"Randolph\", \"Richland\", \"Rock Island\", \"St. Clair\", \"Saline\", \"Sangamon\", \"Schuyler\", \"Scott\", \"Shelby\", \"Stark\", \"Stephenson\", \"Tazewell\", \"Union\", \"Vermilion\", \"Wabash\", \"Warren\", \"Washington\", \"Wayne\", \"White\", \"Whiteside\", \"Will\", \"Williamson\", \"Winnebago\", \"Woodford\"], \"type\": \"scatter\", \"x\": [0.1067484662576687, 0.07142857142857142, 0.10884353741496598, 0.17335473515248795, 0.10526315789473684, 0.14814814814814814, 0.10638297872340426, 0.11188811188811189, 0.14444444444444443, 0.15156794425087108, 0.10289389067524116, 0.06707317073170732, 0.06382978723404255, 0.102803738317757, 0.087527352297593, 0.22882936076323068, 0.04433497536945813, 0.10071942446043165, 0.12860892388451445, 0.13291139240506328, 0.13818181818181818, 0.25229757182935086, 0.062146892655367235, 0.057971014492753624, 0.10728744939271255, 0.09504132231404959, 0.14285714285714285, 0.1038961038961039, 0.09705882352941177, 0.0425531914893617, 0.10526315789473684, 0.16188870151770657, 0.10714285714285714, 0.12716763005780346, 0.0, 0.04918032786885246, 0.12704918032786885, 0.10231023102310231, 0.12229102167182662, 0.10909090909090909, 0.11088295687885011, 0.10267857142857142, 0.13966480446927373, 0.09183673469387756, 0.20325074956604072, 0.12403100775193798, 0.20928667563930015, 0.10465116279069768, 0.2316688567674113, 0.11949152542372882, 0.0763888888888889, 0.11634349030470914, 0.12211981566820276, 0.09310344827586207, 0.10714285714285714, 0.21224489795918366, 0.16450648055832504, 0.0847457627118644, 0.13626373626373625, 0.13446249567922572, 0.07741935483870968, 0.11504424778761062, 0.09022556390977443, 0.08163265306122448, 0.08661417322834646, 0.09655172413793103, 0.2260061919504644, 0.09235668789808917, 0.10945273631840796, 0.10270270270270271, 0.11284046692607004, 0.12756714060031596, 0.06796116504854369, 0.12790697674418605, 0.08717948717948718, 0.16, 0.02702702702702703, 0.05084745762711865, 0.07449856733524356, 0.11377245508982035, 0.12455089820359282, 0.13194660043464762, 0.11072664359861592, 0.14067278287461774, 0.15384615384615385, 0.14893617021276595, 0.08520179372197309, 0.14285714285714285, 0.09053497942386832, 0.14206896551724138, 0.12138728323699421, 0.07833163784333673, 0.0703125, 0.1497584541062802, 0.09271523178807947, 0.13812154696132597, 0.07947019867549669, 0.07298136645962733, 0.20482089954214922, 0.0995850622406639, 0.124, 0.17687074829931973], \"y\": [\"3,139,643\", \"175,907\", \"510,397\", \"1,494,617\", \"403,323\", \"1,196,240\", \"100,905\", \"530,307\", \"622,070\", \"10,009,038\", \"1,344,448\", \"557,592\", \"586,556\", \"1,173,145\", \"2,262,329\", \"354,454,887\", \"3,037,722\", \"331,514\", \"3,523,477\", \"1,103,938\", \"950,619\", \"81,750,103\", \"744,879\", \"288,114\", \"1,961,274\", \"571,792\", \"751,179\", \"1,129,146\", \"877,634\", \"296,363\", \"348,085\", \"3,179,509\", \"454,792\", \"641,336\", \"106,132\", \"223,328\", \"1,501,490\", \"1,076,897\", \"2,662,323\", \"542,544\", \"1,680,172\", \"493,367\", \"812,410\", \"225,677\", \"21,471,957\", \"4,366,489\", \"2,877,800\", \"1,763,589\", \"58,704,142\", \"5,362,331\", \"516,322\", \"1,445,488\", \"1,764,773\", \"1,055,645\", \"1,150,678\", \"10,166,494\", \"11,826,318\", \"6,238,665\", \"1,096,295\", \"10,794,089\", \"1,287,918\", \"416,978\", \"579,311\", \"685,117\", \"250,856\", \"420,641\", \"882,959\", \"1,274,122\", \"1,365,793\", \"623,786\", \"2,701,069\", \"11,186,444\", \"651,924\", \"426,637\", \"613,389\", \"99,490\", \"258,663\", \"348,240\", \"1,423,239\", \"925,273\", \"10,404,094\", \"10,616,286\", \"889,487\", \"10,125,082\", \"286,222\", \"166,276\", \"705,315\", \"251,750\", \"1,897,427\", \"8,177,447\", \"455,045\", \"3,196,706\", \"373,729\", \"718,109\", \"898,282\", \"604,981\", \"597,729\", \"2,077,581\", \"27,685,330\", \"2,700,573\", \"12,757,249\", \"1,156,829\"]}],\n",
              "                        {\"template\": {\"data\": {\"bar\": [{\"error_x\": {\"color\": \"#2a3f5f\"}, \"error_y\": {\"color\": \"#2a3f5f\"}, \"marker\": {\"line\": {\"color\": \"#E5ECF6\", \"width\": 0.5}}, \"type\": \"bar\"}], \"barpolar\": [{\"marker\": {\"line\": {\"color\": \"#E5ECF6\", \"width\": 0.5}}, \"type\": \"barpolar\"}], \"carpet\": [{\"aaxis\": {\"endlinecolor\": \"#2a3f5f\", \"gridcolor\": \"white\", \"linecolor\": \"white\", \"minorgridcolor\": \"white\", \"startlinecolor\": \"#2a3f5f\"}, \"baxis\": {\"endlinecolor\": \"#2a3f5f\", \"gridcolor\": \"white\", \"linecolor\": \"white\", \"minorgridcolor\": \"white\", \"startlinecolor\": \"#2a3f5f\"}, \"type\": \"carpet\"}], \"choropleth\": [{\"colorbar\": {\"outlinewidth\": 0, \"ticks\": \"\"}, \"type\": \"choropleth\"}], \"contour\": [{\"colorbar\": {\"outlinewidth\": 0, \"ticks\": \"\"}, \"colorscale\": [[0.0, \"#0d0887\"], [0.1111111111111111, \"#46039f\"], [0.2222222222222222, \"#7201a8\"], [0.3333333333333333, \"#9c179e\"], [0.4444444444444444, \"#bd3786\"], [0.5555555555555556, \"#d8576b\"], [0.6666666666666666, \"#ed7953\"], [0.7777777777777778, \"#fb9f3a\"], [0.8888888888888888, \"#fdca26\"], [1.0, \"#f0f921\"]], \"type\": \"contour\"}], \"contourcarpet\": [{\"colorbar\": {\"outlinewidth\": 0, \"ticks\": \"\"}, \"type\": \"contourcarpet\"}], \"heatmap\": [{\"colorbar\": {\"outlinewidth\": 0, \"ticks\": \"\"}, \"colorscale\": [[0.0, \"#0d0887\"], [0.1111111111111111, \"#46039f\"], [0.2222222222222222, \"#7201a8\"], [0.3333333333333333, \"#9c179e\"], [0.4444444444444444, \"#bd3786\"], [0.5555555555555556, \"#d8576b\"], [0.6666666666666666, \"#ed7953\"], [0.7777777777777778, \"#fb9f3a\"], [0.8888888888888888, \"#fdca26\"], [1.0, \"#f0f921\"]], \"type\": \"heatmap\"}], \"heatmapgl\": [{\"colorbar\": {\"outlinewidth\": 0, \"ticks\": \"\"}, \"colorscale\": [[0.0, \"#0d0887\"], [0.1111111111111111, \"#46039f\"], [0.2222222222222222, \"#7201a8\"], [0.3333333333333333, \"#9c179e\"], [0.4444444444444444, \"#bd3786\"], [0.5555555555555556, \"#d8576b\"], [0.6666666666666666, \"#ed7953\"], [0.7777777777777778, \"#fb9f3a\"], [0.8888888888888888, \"#fdca26\"], [1.0, \"#f0f921\"]], \"type\": \"heatmapgl\"}], \"histogram\": [{\"marker\": {\"colorbar\": {\"outlinewidth\": 0, \"ticks\": \"\"}}, \"type\": \"histogram\"}], \"histogram2d\": [{\"colorbar\": {\"outlinewidth\": 0, \"ticks\": \"\"}, \"colorscale\": [[0.0, \"#0d0887\"], [0.1111111111111111, \"#46039f\"], [0.2222222222222222, \"#7201a8\"], [0.3333333333333333, \"#9c179e\"], [0.4444444444444444, \"#bd3786\"], [0.5555555555555556, \"#d8576b\"], [0.6666666666666666, \"#ed7953\"], [0.7777777777777778, \"#fb9f3a\"], [0.8888888888888888, \"#fdca26\"], [1.0, \"#f0f921\"]], \"type\": \"histogram2d\"}], \"histogram2dcontour\": [{\"colorbar\": {\"outlinewidth\": 0, \"ticks\": \"\"}, \"colorscale\": [[0.0, \"#0d0887\"], [0.1111111111111111, \"#46039f\"], [0.2222222222222222, \"#7201a8\"], [0.3333333333333333, \"#9c179e\"], [0.4444444444444444, \"#bd3786\"], [0.5555555555555556, \"#d8576b\"], [0.6666666666666666, \"#ed7953\"], [0.7777777777777778, \"#fb9f3a\"], [0.8888888888888888, \"#fdca26\"], [1.0, \"#f0f921\"]], \"type\": \"histogram2dcontour\"}], \"mesh3d\": [{\"colorbar\": {\"outlinewidth\": 0, \"ticks\": \"\"}, \"type\": \"mesh3d\"}], \"parcoords\": [{\"line\": {\"colorbar\": {\"outlinewidth\": 0, \"ticks\": \"\"}}, \"type\": \"parcoords\"}], \"pie\": [{\"automargin\": true, \"type\": \"pie\"}], \"scatter\": [{\"marker\": {\"colorbar\": {\"outlinewidth\": 0, \"ticks\": \"\"}}, \"type\": \"scatter\"}], \"scatter3d\": [{\"line\": {\"colorbar\": {\"outlinewidth\": 0, \"ticks\": \"\"}}, \"marker\": {\"colorbar\": {\"outlinewidth\": 0, \"ticks\": \"\"}}, \"type\": \"scatter3d\"}], \"scattercarpet\": [{\"marker\": {\"colorbar\": {\"outlinewidth\": 0, \"ticks\": \"\"}}, \"type\": \"scattercarpet\"}], \"scattergeo\": [{\"marker\": {\"colorbar\": {\"outlinewidth\": 0, \"ticks\": \"\"}}, \"type\": \"scattergeo\"}], \"scattergl\": [{\"marker\": {\"colorbar\": {\"outlinewidth\": 0, \"ticks\": \"\"}}, \"type\": \"scattergl\"}], \"scattermapbox\": [{\"marker\": {\"colorbar\": {\"outlinewidth\": 0, \"ticks\": \"\"}}, \"type\": \"scattermapbox\"}], \"scatterpolar\": [{\"marker\": {\"colorbar\": {\"outlinewidth\": 0, \"ticks\": \"\"}}, \"type\": \"scatterpolar\"}], \"scatterpolargl\": [{\"marker\": {\"colorbar\": {\"outlinewidth\": 0, \"ticks\": \"\"}}, \"type\": \"scatterpolargl\"}], \"scatterternary\": [{\"marker\": {\"colorbar\": {\"outlinewidth\": 0, \"ticks\": \"\"}}, \"type\": \"scatterternary\"}], \"surface\": [{\"colorbar\": {\"outlinewidth\": 0, \"ticks\": \"\"}, \"colorscale\": [[0.0, \"#0d0887\"], [0.1111111111111111, \"#46039f\"], [0.2222222222222222, \"#7201a8\"], [0.3333333333333333, \"#9c179e\"], [0.4444444444444444, \"#bd3786\"], [0.5555555555555556, \"#d8576b\"], [0.6666666666666666, \"#ed7953\"], [0.7777777777777778, \"#fb9f3a\"], [0.8888888888888888, \"#fdca26\"], [1.0, \"#f0f921\"]], \"type\": \"surface\"}], \"table\": [{\"cells\": {\"fill\": {\"color\": \"#EBF0F8\"}, \"line\": {\"color\": \"white\"}}, \"header\": {\"fill\": {\"color\": \"#C8D4E3\"}, \"line\": {\"color\": \"white\"}}, \"type\": \"table\"}]}, \"layout\": {\"annotationdefaults\": {\"arrowcolor\": \"#2a3f5f\", \"arrowhead\": 0, \"arrowwidth\": 1}, \"coloraxis\": {\"colorbar\": {\"outlinewidth\": 0, \"ticks\": \"\"}}, \"colorscale\": {\"diverging\": [[0, \"#8e0152\"], [0.1, \"#c51b7d\"], [0.2, \"#de77ae\"], [0.3, \"#f1b6da\"], [0.4, \"#fde0ef\"], [0.5, \"#f7f7f7\"], [0.6, \"#e6f5d0\"], [0.7, \"#b8e186\"], [0.8, \"#7fbc41\"], [0.9, \"#4d9221\"], [1, \"#276419\"]], \"sequential\": [[0.0, \"#0d0887\"], [0.1111111111111111, \"#46039f\"], [0.2222222222222222, \"#7201a8\"], [0.3333333333333333, \"#9c179e\"], [0.4444444444444444, \"#bd3786\"], [0.5555555555555556, \"#d8576b\"], [0.6666666666666666, \"#ed7953\"], [0.7777777777777778, \"#fb9f3a\"], [0.8888888888888888, \"#fdca26\"], [1.0, \"#f0f921\"]], \"sequentialminus\": [[0.0, \"#0d0887\"], [0.1111111111111111, \"#46039f\"], [0.2222222222222222, \"#7201a8\"], [0.3333333333333333, \"#9c179e\"], [0.4444444444444444, \"#bd3786\"], [0.5555555555555556, \"#d8576b\"], [0.6666666666666666, \"#ed7953\"], [0.7777777777777778, \"#fb9f3a\"], [0.8888888888888888, \"#fdca26\"], [1.0, \"#f0f921\"]]}, \"colorway\": [\"#636efa\", \"#EF553B\", \"#00cc96\", \"#ab63fa\", \"#FFA15A\", \"#19d3f3\", \"#FF6692\", \"#B6E880\", \"#FF97FF\", \"#FECB52\"], \"font\": {\"color\": \"#2a3f5f\"}, \"geo\": {\"bgcolor\": \"white\", \"lakecolor\": \"white\", \"landcolor\": \"#E5ECF6\", \"showlakes\": true, \"showland\": true, \"subunitcolor\": \"white\"}, \"hoverlabel\": {\"align\": \"left\"}, \"hovermode\": \"closest\", \"mapbox\": {\"style\": \"light\"}, \"paper_bgcolor\": \"white\", \"plot_bgcolor\": \"#E5ECF6\", \"polar\": {\"angularaxis\": {\"gridcolor\": \"white\", \"linecolor\": \"white\", \"ticks\": \"\"}, \"bgcolor\": \"#E5ECF6\", \"radialaxis\": {\"gridcolor\": \"white\", \"linecolor\": \"white\", \"ticks\": \"\"}}, \"scene\": {\"xaxis\": {\"backgroundcolor\": \"#E5ECF6\", \"gridcolor\": \"white\", \"gridwidth\": 2, \"linecolor\": \"white\", \"showbackground\": true, \"ticks\": \"\", \"zerolinecolor\": \"white\"}, \"yaxis\": {\"backgroundcolor\": \"#E5ECF6\", \"gridcolor\": \"white\", \"gridwidth\": 2, \"linecolor\": \"white\", \"showbackground\": true, \"ticks\": \"\", \"zerolinecolor\": \"white\"}, \"zaxis\": {\"backgroundcolor\": \"#E5ECF6\", \"gridcolor\": \"white\", \"gridwidth\": 2, \"linecolor\": \"white\", \"showbackground\": true, \"ticks\": \"\", \"zerolinecolor\": \"white\"}}, \"shapedefaults\": {\"line\": {\"color\": \"#2a3f5f\"}}, \"ternary\": {\"aaxis\": {\"gridcolor\": \"white\", \"linecolor\": \"white\", \"ticks\": \"\"}, \"baxis\": {\"gridcolor\": \"white\", \"linecolor\": \"white\", \"ticks\": \"\"}, \"bgcolor\": \"#E5ECF6\", \"caxis\": {\"gridcolor\": \"white\", \"linecolor\": \"white\", \"ticks\": \"\"}}, \"title\": {\"x\": 0.05}, \"xaxis\": {\"automargin\": true, \"gridcolor\": \"white\", \"linecolor\": \"white\", \"ticks\": \"\", \"title\": {\"standoff\": 15}, \"zerolinecolor\": \"white\", \"zerolinewidth\": 2}, \"yaxis\": {\"automargin\": true, \"gridcolor\": \"white\", \"linecolor\": \"white\", \"ticks\": \"\", \"title\": {\"standoff\": 15}, \"zerolinecolor\": \"white\", \"zerolinewidth\": 2}}}, \"title\": {\"text\": \"Correlation between county GDP and AMA rate in 2017\"}, \"xaxis\": {\"ticklen\": 5, \"title\": {\"text\": \"Rate of mothers aged 35+\"}, \"zeroline\": false}, \"yaxis\": {\"ticklen\": 5, \"title\": {\"text\": \"County GDP\"}, \"zeroline\": false}},\n",
              "                        {\"responsive\": true}\n",
              "                    ).then(function(){\n",
              "                            \n",
              "var gd = document.getElementById('540acaa5-e190-4013-a6c5-04556d2eef9f');\n",
              "var x = new MutationObserver(function (mutations, observer) {{\n",
              "        var display = window.getComputedStyle(gd).display;\n",
              "        if (!display || display === 'none') {{\n",
              "            console.log([gd, 'removed!']);\n",
              "            Plotly.purge(gd);\n",
              "            observer.disconnect();\n",
              "        }}\n",
              "}});\n",
              "\n",
              "// Listen for the removal of the full notebook cells\n",
              "var notebookContainer = gd.closest('#notebook-container');\n",
              "if (notebookContainer) {{\n",
              "    x.observe(notebookContainer, {childList: true});\n",
              "}}\n",
              "\n",
              "// Listen for the clearing of the current output cell\n",
              "var outputEl = gd.closest('.output');\n",
              "if (outputEl) {{\n",
              "    x.observe(outputEl, {childList: true});\n",
              "}}\n",
              "\n",
              "                        })\n",
              "                };\n",
              "                \n",
              "            </script>\n",
              "        </div>\n",
              "</body>\n",
              "</html>"
            ]
          },
          "metadata": {
            "tags": []
          }
        },
        {
          "output_type": "display_data",
          "data": {
            "text/html": [
              "<html>\n",
              "<head><meta charset=\"utf-8\" /></head>\n",
              "<body>\n",
              "    <div>\n",
              "            <script src=\"https://cdnjs.cloudflare.com/ajax/libs/mathjax/2.7.5/MathJax.js?config=TeX-AMS-MML_SVG\"></script><script type=\"text/javascript\">if (window.MathJax) {MathJax.Hub.Config({SVG: {font: \"STIX-Web\"}});}</script>\n",
              "                <script type=\"text/javascript\">window.PlotlyConfig = {MathJaxConfig: 'local'};</script>\n",
              "        <script src=\"https://cdn.plot.ly/plotly-latest.min.js\"></script>    \n",
              "            <div id=\"1ef2139b-e7f8-4796-9a58-826b51ff1e1d\" class=\"plotly-graph-div\" style=\"height:525px; width:100%;\"></div>\n",
              "            <script type=\"text/javascript\">\n",
              "                \n",
              "                    window.PLOTLYENV=window.PLOTLYENV || {};\n",
              "                    \n",
              "                if (document.getElementById(\"1ef2139b-e7f8-4796-9a58-826b51ff1e1d\")) {\n",
              "                    Plotly.newPlot(\n",
              "                        '1ef2139b-e7f8-4796-9a58-826b51ff1e1d',\n",
              "                        [{\"marker\": {\"color\": \"rgba(0, 255, 200, 0.8)\"}, \"mode\": \"markers\", \"name\": \"2018\", \"text\": [\"Adams\", \"Alexander\", \"Bond\", \"Boone\", \"Brown\", \"Bureau\", \"Calhoun\", \"Carroll\", \"Cass\", \"Champaign\", \"Christian\", \"Clark\", \"Clay\", \"Clinton\", \"Coles\", \"Cook\", \"Crawford\", \"Cumberland\", \"DeKalb\", \"DeWitt\", \"Douglas\", \"DuPage\", \"Edgar\", \"Edwards\", \"Effingham\", \"Fayette\", \"Ford\", \"Franklin\", \"Fulton\", \"Gallatin\", \"Greene\", \"Grundy\", \"Hamilton\", \"Hancock\", \"Hardin\", \"Henderson\", \"Henry\", \"Iroquois\", \"Jackson\", \"Jasper\", \"Jefferson\", \"Jersey\", \"Jo Daviess\", \"Johnson\", \"Kane\", \"Kankakee\", \"Kendall\", \"Knox\", \"Lake\", \"LaSalle\", \"Lawrence\", \"Lee\", \"Livingston\", \"Logan\", \"McDonough\", \"McHenry\", \"McLean\", \"Macon\", \"Macoupin\", \"Madison\", \"Marion\", \"Marshall\", \"Mason\", \"Massac\", \"Menard\", \"Mercer\", \"Monroe\", \"Montgomery\", \"Morgan\", \"Moultrie\", \"Ogle\", \"Peoria\", \"Perry\", \"Piatt\", \"Pike\", \"Pope\", \"Pulaski\", \"Putnam\", \"Randolph\", \"Richland\", \"Rock Island\", \"St. Clair\", \"Saline\", \"Sangamon\", \"Schuyler\", \"Scott\", \"Shelby\", \"Stark\", \"Stephenson\", \"Tazewell\", \"Union\", \"Vermilion\", \"Wabash\", \"Warren\", \"Washington\", \"Wayne\", \"White\", \"Whiteside\", \"Will\", \"Williamson\", \"Winnebago\", \"Woodford\"], \"type\": \"scatter\", \"x\": [0.11197916666666667, 0.0784313725490196, 0.11038961038961038, 0.18359375, 0.06153846153846154, 0.10576923076923077, 0.08108108108108109, 0.14960629921259844, 0.1411764705882353, 0.16370896184560782, 0.1, 0.08465608465608465, 0.11464968152866242, 0.11221945137157108, 0.10721649484536082, 0.2402123424021234, 0.07352941176470588, 0.09734513274336283, 0.1565934065934066, 0.08187134502923976, 0.1652542372881356, 0.2618700844742208, 0.08187134502923976, 0.14130434782608695, 0.07947019867549669, 0.07111111111111111, 0.12, 0.06708595387840671, 0.0778816199376947, 0.07894736842105263, 0.07194244604316546, 0.14185639229422067, 0.036585365853658534, 0.1164021164021164, 0.030303030303030304, 0.09836065573770492, 0.109979633401222, 0.12052117263843648, 0.12420382165605096, 0.10833333333333334, 0.11791383219954649, 0.09859154929577464, 0.18012422360248448, 0.08411214953271028, 0.20728821580690962, 0.1293451899757478, 0.22508250825082507, 0.13711151736745886, 0.23696081195376376, 0.13906678865507777, 0.08666666666666667, 0.10778443113772455, 0.09195402298850575, 0.11333333333333333, 0.14068441064638784, 0.20783132530120482, 0.16043956043956045, 0.08990536277602523, 0.13404255319148936, 0.13063220398183722, 0.09663865546218488, 0.14516129032258066, 0.07874015748031496, 0.08333333333333333, 0.14035087719298245, 0.10416666666666667, 0.22900763358778625, 0.12666666666666668, 0.09393939393939393, 0.19653179190751446, 0.15384615384615385, 0.13099041533546327, 0.08602150537634409, 0.1043956043956044, 0.10628019323671498, 0.03333333333333333, 0.08888888888888889, 0.20512820512820512, 0.08064516129032258, 0.07647058823529412, 0.15983843046739757, 0.14670947030497591, 0.08833922261484099, 0.14821428571428572, 0.06349206349206349, 0.10810810810810811, 0.13278008298755187, 0.12962962962962962, 0.09836065573770492, 0.13462922966162708, 0.07446808510638298, 0.11051502145922747, 0.09929078014184398, 0.20689655172413793, 0.15584415584415584, 0.0995260663507109, 0.07086614173228346, 0.09274873524451939, 0.21103674361426034, 0.10419485791610285, 0.13100686498855835, 0.17899761336515513], \"y\": [\"3,284,870\", \"180,487\", \"556,141\", \"1,706,969\", \"403,332\", \"1,200,477\", \"109,270\", \"463,346\", \"638,399\", \"10,356,705\", \"1,346,262\", \"608,104\", \"588,562\", \"1,210,870\", \"2,305,836\", \"362,063,569\", \"3,154,494\", \"343,839\", \"3,614,570\", \"1,129,745\", \"1,002,215\", \"82,596,221\", \"756,615\", \"279,804\", \"2,041,960\", \"599,015\", \"788,611\", \"1,247,960\", \"917,536\", \"276,703\", \"377,090\", \"3,145,931\", \"460,533\", \"683,222\", \"105,717\", \"201,065\", \"1,436,917\", \"1,056,396\", \"2,805,921\", \"568,282\", \"1,695,482\", \"502,115\", \"819,232\", \"226,975\", \"21,846,847\", \"4,370,611\", \"2,910,561\", \"1,750,985\", \"60,106,642\", \"5,398,514\", \"510,953\", \"1,508,358\", \"1,753,899\", \"1,110,851\", \"1,150,422\", \"10,241,435\", \"11,802,499\", \"6,523,486\", \"1,163,098\", \"11,293,639\", \"1,372,400\", \"403,674\", \"577,815\", \"690,326\", \"289,134\", \"403,854\", \"923,297\", \"1,324,737\", \"1,445,898\", \"692,823\", \"2,721,329\", \"12,040,364\", \"712,065\", \"477,520\", \"623,777\", \"96,338\", \"236,180\", \"338,034\", \"1,470,109\", \"962,210\", \"10,496,180\", \"10,679,494\", \"849,787\", \"10,570,791\", \"285,717\", \"189,956\", \"810,282\", \"227,465\", \"1,923,456\", \"8,206,096\", \"448,465\", \"3,285,723\", \"376,181\", \"750,948\", \"1,013,500\", \"648,342\", \"573,158\", \"2,090,471\", \"28,209,374\", \"2,796,011\", \"13,080,810\", \"1,155,062\"]}],\n",
              "                        {\"template\": {\"data\": {\"bar\": [{\"error_x\": {\"color\": \"#2a3f5f\"}, \"error_y\": {\"color\": \"#2a3f5f\"}, \"marker\": {\"line\": {\"color\": \"#E5ECF6\", \"width\": 0.5}}, \"type\": \"bar\"}], \"barpolar\": [{\"marker\": {\"line\": {\"color\": \"#E5ECF6\", \"width\": 0.5}}, \"type\": \"barpolar\"}], \"carpet\": [{\"aaxis\": {\"endlinecolor\": \"#2a3f5f\", \"gridcolor\": \"white\", \"linecolor\": \"white\", \"minorgridcolor\": \"white\", \"startlinecolor\": \"#2a3f5f\"}, \"baxis\": {\"endlinecolor\": \"#2a3f5f\", \"gridcolor\": \"white\", \"linecolor\": \"white\", \"minorgridcolor\": \"white\", \"startlinecolor\": \"#2a3f5f\"}, \"type\": \"carpet\"}], \"choropleth\": [{\"colorbar\": {\"outlinewidth\": 0, \"ticks\": \"\"}, \"type\": \"choropleth\"}], \"contour\": [{\"colorbar\": {\"outlinewidth\": 0, \"ticks\": \"\"}, \"colorscale\": [[0.0, \"#0d0887\"], [0.1111111111111111, \"#46039f\"], [0.2222222222222222, \"#7201a8\"], [0.3333333333333333, \"#9c179e\"], [0.4444444444444444, \"#bd3786\"], [0.5555555555555556, \"#d8576b\"], [0.6666666666666666, \"#ed7953\"], [0.7777777777777778, \"#fb9f3a\"], [0.8888888888888888, \"#fdca26\"], [1.0, \"#f0f921\"]], \"type\": \"contour\"}], \"contourcarpet\": [{\"colorbar\": {\"outlinewidth\": 0, \"ticks\": \"\"}, \"type\": \"contourcarpet\"}], \"heatmap\": [{\"colorbar\": {\"outlinewidth\": 0, \"ticks\": \"\"}, \"colorscale\": [[0.0, \"#0d0887\"], [0.1111111111111111, \"#46039f\"], [0.2222222222222222, \"#7201a8\"], [0.3333333333333333, \"#9c179e\"], [0.4444444444444444, \"#bd3786\"], [0.5555555555555556, \"#d8576b\"], [0.6666666666666666, \"#ed7953\"], [0.7777777777777778, \"#fb9f3a\"], [0.8888888888888888, \"#fdca26\"], [1.0, \"#f0f921\"]], \"type\": \"heatmap\"}], \"heatmapgl\": [{\"colorbar\": {\"outlinewidth\": 0, \"ticks\": \"\"}, \"colorscale\": [[0.0, \"#0d0887\"], [0.1111111111111111, \"#46039f\"], [0.2222222222222222, \"#7201a8\"], [0.3333333333333333, \"#9c179e\"], [0.4444444444444444, \"#bd3786\"], [0.5555555555555556, \"#d8576b\"], [0.6666666666666666, \"#ed7953\"], [0.7777777777777778, \"#fb9f3a\"], [0.8888888888888888, \"#fdca26\"], [1.0, \"#f0f921\"]], \"type\": \"heatmapgl\"}], \"histogram\": [{\"marker\": {\"colorbar\": {\"outlinewidth\": 0, \"ticks\": \"\"}}, \"type\": \"histogram\"}], \"histogram2d\": [{\"colorbar\": {\"outlinewidth\": 0, \"ticks\": \"\"}, \"colorscale\": [[0.0, \"#0d0887\"], [0.1111111111111111, \"#46039f\"], [0.2222222222222222, \"#7201a8\"], [0.3333333333333333, \"#9c179e\"], [0.4444444444444444, \"#bd3786\"], [0.5555555555555556, \"#d8576b\"], [0.6666666666666666, \"#ed7953\"], [0.7777777777777778, \"#fb9f3a\"], [0.8888888888888888, \"#fdca26\"], [1.0, \"#f0f921\"]], \"type\": \"histogram2d\"}], \"histogram2dcontour\": [{\"colorbar\": {\"outlinewidth\": 0, \"ticks\": \"\"}, \"colorscale\": [[0.0, \"#0d0887\"], [0.1111111111111111, \"#46039f\"], [0.2222222222222222, \"#7201a8\"], [0.3333333333333333, \"#9c179e\"], [0.4444444444444444, \"#bd3786\"], [0.5555555555555556, \"#d8576b\"], [0.6666666666666666, \"#ed7953\"], [0.7777777777777778, \"#fb9f3a\"], [0.8888888888888888, \"#fdca26\"], [1.0, \"#f0f921\"]], \"type\": \"histogram2dcontour\"}], \"mesh3d\": [{\"colorbar\": {\"outlinewidth\": 0, \"ticks\": \"\"}, \"type\": \"mesh3d\"}], \"parcoords\": [{\"line\": {\"colorbar\": {\"outlinewidth\": 0, \"ticks\": \"\"}}, \"type\": \"parcoords\"}], \"pie\": [{\"automargin\": true, \"type\": \"pie\"}], \"scatter\": [{\"marker\": {\"colorbar\": {\"outlinewidth\": 0, \"ticks\": \"\"}}, \"type\": \"scatter\"}], \"scatter3d\": [{\"line\": {\"colorbar\": {\"outlinewidth\": 0, \"ticks\": \"\"}}, \"marker\": {\"colorbar\": {\"outlinewidth\": 0, \"ticks\": \"\"}}, \"type\": \"scatter3d\"}], \"scattercarpet\": [{\"marker\": {\"colorbar\": {\"outlinewidth\": 0, \"ticks\": \"\"}}, \"type\": \"scattercarpet\"}], \"scattergeo\": [{\"marker\": {\"colorbar\": {\"outlinewidth\": 0, \"ticks\": \"\"}}, \"type\": \"scattergeo\"}], \"scattergl\": [{\"marker\": {\"colorbar\": {\"outlinewidth\": 0, \"ticks\": \"\"}}, \"type\": \"scattergl\"}], \"scattermapbox\": [{\"marker\": {\"colorbar\": {\"outlinewidth\": 0, \"ticks\": \"\"}}, \"type\": \"scattermapbox\"}], \"scatterpolar\": [{\"marker\": {\"colorbar\": {\"outlinewidth\": 0, \"ticks\": \"\"}}, \"type\": \"scatterpolar\"}], \"scatterpolargl\": [{\"marker\": {\"colorbar\": {\"outlinewidth\": 0, \"ticks\": \"\"}}, \"type\": \"scatterpolargl\"}], \"scatterternary\": [{\"marker\": {\"colorbar\": {\"outlinewidth\": 0, \"ticks\": \"\"}}, \"type\": \"scatterternary\"}], \"surface\": [{\"colorbar\": {\"outlinewidth\": 0, \"ticks\": \"\"}, \"colorscale\": [[0.0, \"#0d0887\"], [0.1111111111111111, \"#46039f\"], [0.2222222222222222, \"#7201a8\"], [0.3333333333333333, \"#9c179e\"], [0.4444444444444444, \"#bd3786\"], [0.5555555555555556, \"#d8576b\"], [0.6666666666666666, \"#ed7953\"], [0.7777777777777778, \"#fb9f3a\"], [0.8888888888888888, \"#fdca26\"], [1.0, \"#f0f921\"]], \"type\": \"surface\"}], \"table\": [{\"cells\": {\"fill\": {\"color\": \"#EBF0F8\"}, \"line\": {\"color\": \"white\"}}, \"header\": {\"fill\": {\"color\": \"#C8D4E3\"}, \"line\": {\"color\": \"white\"}}, \"type\": \"table\"}]}, \"layout\": {\"annotationdefaults\": {\"arrowcolor\": \"#2a3f5f\", \"arrowhead\": 0, \"arrowwidth\": 1}, \"coloraxis\": {\"colorbar\": {\"outlinewidth\": 0, \"ticks\": \"\"}}, \"colorscale\": {\"diverging\": [[0, \"#8e0152\"], [0.1, \"#c51b7d\"], [0.2, \"#de77ae\"], [0.3, \"#f1b6da\"], [0.4, \"#fde0ef\"], [0.5, \"#f7f7f7\"], [0.6, \"#e6f5d0\"], [0.7, \"#b8e186\"], [0.8, \"#7fbc41\"], [0.9, \"#4d9221\"], [1, \"#276419\"]], \"sequential\": [[0.0, \"#0d0887\"], [0.1111111111111111, \"#46039f\"], [0.2222222222222222, \"#7201a8\"], [0.3333333333333333, \"#9c179e\"], [0.4444444444444444, \"#bd3786\"], [0.5555555555555556, \"#d8576b\"], [0.6666666666666666, \"#ed7953\"], [0.7777777777777778, \"#fb9f3a\"], [0.8888888888888888, \"#fdca26\"], [1.0, \"#f0f921\"]], \"sequentialminus\": [[0.0, \"#0d0887\"], [0.1111111111111111, \"#46039f\"], [0.2222222222222222, \"#7201a8\"], [0.3333333333333333, \"#9c179e\"], [0.4444444444444444, \"#bd3786\"], [0.5555555555555556, \"#d8576b\"], [0.6666666666666666, \"#ed7953\"], [0.7777777777777778, \"#fb9f3a\"], [0.8888888888888888, \"#fdca26\"], [1.0, \"#f0f921\"]]}, \"colorway\": [\"#636efa\", \"#EF553B\", \"#00cc96\", \"#ab63fa\", \"#FFA15A\", \"#19d3f3\", \"#FF6692\", \"#B6E880\", \"#FF97FF\", \"#FECB52\"], \"font\": {\"color\": \"#2a3f5f\"}, \"geo\": {\"bgcolor\": \"white\", \"lakecolor\": \"white\", \"landcolor\": \"#E5ECF6\", \"showlakes\": true, \"showland\": true, \"subunitcolor\": \"white\"}, \"hoverlabel\": {\"align\": \"left\"}, \"hovermode\": \"closest\", \"mapbox\": {\"style\": \"light\"}, \"paper_bgcolor\": \"white\", \"plot_bgcolor\": \"#E5ECF6\", \"polar\": {\"angularaxis\": {\"gridcolor\": \"white\", \"linecolor\": \"white\", \"ticks\": \"\"}, \"bgcolor\": \"#E5ECF6\", \"radialaxis\": {\"gridcolor\": \"white\", \"linecolor\": \"white\", \"ticks\": \"\"}}, \"scene\": {\"xaxis\": {\"backgroundcolor\": \"#E5ECF6\", \"gridcolor\": \"white\", \"gridwidth\": 2, \"linecolor\": \"white\", \"showbackground\": true, \"ticks\": \"\", \"zerolinecolor\": \"white\"}, \"yaxis\": {\"backgroundcolor\": \"#E5ECF6\", \"gridcolor\": \"white\", \"gridwidth\": 2, \"linecolor\": \"white\", \"showbackground\": true, \"ticks\": \"\", \"zerolinecolor\": \"white\"}, \"zaxis\": {\"backgroundcolor\": \"#E5ECF6\", \"gridcolor\": \"white\", \"gridwidth\": 2, \"linecolor\": \"white\", \"showbackground\": true, \"ticks\": \"\", \"zerolinecolor\": \"white\"}}, \"shapedefaults\": {\"line\": {\"color\": \"#2a3f5f\"}}, \"ternary\": {\"aaxis\": {\"gridcolor\": \"white\", \"linecolor\": \"white\", \"ticks\": \"\"}, \"baxis\": {\"gridcolor\": \"white\", \"linecolor\": \"white\", \"ticks\": \"\"}, \"bgcolor\": \"#E5ECF6\", \"caxis\": {\"gridcolor\": \"white\", \"linecolor\": \"white\", \"ticks\": \"\"}}, \"title\": {\"x\": 0.05}, \"xaxis\": {\"automargin\": true, \"gridcolor\": \"white\", \"linecolor\": \"white\", \"ticks\": \"\", \"title\": {\"standoff\": 15}, \"zerolinecolor\": \"white\", \"zerolinewidth\": 2}, \"yaxis\": {\"automargin\": true, \"gridcolor\": \"white\", \"linecolor\": \"white\", \"ticks\": \"\", \"title\": {\"standoff\": 15}, \"zerolinecolor\": \"white\", \"zerolinewidth\": 2}}}, \"title\": {\"text\": \"Correlation between county GDP and AMA rate in 2018\"}, \"xaxis\": {\"ticklen\": 5, \"title\": {\"text\": \"Rate of mothers aged 35+\"}, \"zeroline\": false}, \"yaxis\": {\"ticklen\": 5, \"title\": {\"text\": \"County GDP\"}, \"zeroline\": false}},\n",
              "                        {\"responsive\": true}\n",
              "                    ).then(function(){\n",
              "                            \n",
              "var gd = document.getElementById('1ef2139b-e7f8-4796-9a58-826b51ff1e1d');\n",
              "var x = new MutationObserver(function (mutations, observer) {{\n",
              "        var display = window.getComputedStyle(gd).display;\n",
              "        if (!display || display === 'none') {{\n",
              "            console.log([gd, 'removed!']);\n",
              "            Plotly.purge(gd);\n",
              "            observer.disconnect();\n",
              "        }}\n",
              "}});\n",
              "\n",
              "// Listen for the removal of the full notebook cells\n",
              "var notebookContainer = gd.closest('#notebook-container');\n",
              "if (notebookContainer) {{\n",
              "    x.observe(notebookContainer, {childList: true});\n",
              "}}\n",
              "\n",
              "// Listen for the clearing of the current output cell\n",
              "var outputEl = gd.closest('.output');\n",
              "if (outputEl) {{\n",
              "    x.observe(outputEl, {childList: true});\n",
              "}}\n",
              "\n",
              "                        })\n",
              "                };\n",
              "                \n",
              "            </script>\n",
              "        </div>\n",
              "</body>\n",
              "</html>"
            ]
          },
          "metadata": {
            "tags": []
          }
        }
      ]
    },
    {
      "cell_type": "markdown",
      "metadata": {
        "id": "lz8MrNpZkvdB",
        "colab_type": "text"
      },
      "source": [
        "I hypothesized that in rural areas (typically with lower GDP), there are more mothers who give birth at younger ages. I calculated the rate of Advanced Material Age mothers (defined as 35 years old and above) in each state, by dividing the total number of births in each Illinois county by the number of mothers who are 35 years old and above. I then plotted the rate against the GDP of each county, according to data by the Bureau of  Economic Analysis. The graph shows a slight correlation between high GPD and a high rate of AMA mothers, with Cook County as an outlier. I did the same with 2016, 2017 and 2018 to show that it is a consistant trend instead of an anomaly. \n",
        "    \n",
        "Conclusion: There is a positive correlation between a county's GDP and the rate of AMA mothers. \n",
        "    \n",
        "Data source: Illinois Department of Public Health ; Bureau of Economic Analysis "
      ]
    },
    {
      "cell_type": "markdown",
      "metadata": {
        "id": "iFF4k2jPfxux",
        "colab_type": "text"
      },
      "source": [
        "# Question 3: How are the different birth rates distributed acorss the state in 2018?"
      ]
    },
    {
      "cell_type": "code",
      "metadata": {
        "id": "VQ33_G-yfxux",
        "colab_type": "code",
        "outputId": "bb095ca8-66e3-4cc0-a733-5e3d7766ea7d",
        "colab": {
          "base_uri": "https://localhost:8080/",
          "height": 542
        }
      },
      "source": [
        "df18.columns = df18.columns.str.strip().str.replace(' ', '_')\n",
        "\n",
        "df18['birth_rate'] = df18['Births'].dropna().str.replace(',', '').astype(int)/popu['popu_2018'].astype(int)\n",
        "\n",
        "with open(drive_path + 'cb_2015_illinois_county_20m-2.json') as file:\n",
        "    illinois = json.load(file)\n",
        "    \n",
        "fig = go.Figure(go.Choroplethmapbox(geojson=illinois,locations=df18['Resident_County'],z=df18['birth_rate'],\n",
        "                                    colorscale='blues',zmin=0.005,zmax=0.012, \n",
        "                                    marker_opacity=0.5, marker_line_width=0))\n",
        "\n",
        "fig.update_layout(mapbox_style=\"carto-positron\",\n",
        "                  mapbox_zoom=5, mapbox_center = {\"lat\": 41.14, \"lon\": -89.46})\n",
        "fig.update_layout(margin={\"r\":0,\"t\":0,\"l\":0,\"b\":0})\n",
        "fig.show()\n"
      ],
      "execution_count": 0,
      "outputs": [
        {
          "output_type": "display_data",
          "data": {
            "text/html": [
              "<html>\n",
              "<head><meta charset=\"utf-8\" /></head>\n",
              "<body>\n",
              "    <div>\n",
              "            <script src=\"https://cdnjs.cloudflare.com/ajax/libs/mathjax/2.7.5/MathJax.js?config=TeX-AMS-MML_SVG\"></script><script type=\"text/javascript\">if (window.MathJax) {MathJax.Hub.Config({SVG: {font: \"STIX-Web\"}});}</script>\n",
              "                <script type=\"text/javascript\">window.PlotlyConfig = {MathJaxConfig: 'local'};</script>\n",
              "        <script src=\"https://cdn.plot.ly/plotly-latest.min.js\"></script>    \n",
              "            <div id=\"4da12128-7d36-456d-8b1e-9a594cc8cae8\" class=\"plotly-graph-div\" style=\"height:525px; width:100%;\"></div>\n",
              "            <script type=\"text/javascript\">\n",
              "                \n",
              "                    window.PLOTLYENV=window.PLOTLYENV || {};\n",
              "                    \n",
              "                if (document.getElementById(\"4da12128-7d36-456d-8b1e-9a594cc8cae8\")) {\n",
              "                    Plotly.newPlot(\n",
              "                        '4da12128-7d36-456d-8b1e-9a594cc8cae8',\n",
              "                        [{\"colorscale\": [[0.0, \"rgb(247,251,255)\"], [0.125, \"rgb(222,235,247)\"], [0.25, \"rgb(198,219,239)\"], [0.375, \"rgb(158,202,225)\"], [0.5, \"rgb(107,174,214)\"], [0.625, \"rgb(66,146,198)\"], [0.75, \"rgb(33,113,181)\"], [0.875, \"rgb(8,81,156)\"], [1.0, \"rgb(8,48,107)\"]], \"geojson\": {\"features\": [{\"geometry\": {\"coordinates\": [[[-89.63683115774177, 41.148569234450726], [-89.46722307611506, 41.148569234450726], [-89.32941650979336, 41.148569234450726], [-89.35945127424809, 41.10370875301229], [-89.16334192986722, 41.10495487749669], [-89.04850312459912, 41.10495487749669], [-89.04850312459912, 40.92551295174295], [-89.16157517901694, 40.926759076227356], [-89.4725233286659, 40.92177457828975], [-89.447788816762, 40.97286568215019], [-89.63859790859205, 40.97411180663459], [-89.63683115774177, 41.14109248754432], [-89.63683115774177, 41.148569234450726]]], \"type\": \"Polygon\"}, \"id\": \"Marshall\", \"properties\": {\"AFFGEOID\": \"0500000US17123\", \"ALAND\": 1001787871, \"AWATER\": 30368315, \"COUNTYFP\": \"123\", \"COUNTYNS\": \"00424260\", \"GEOID\": \"17123\", \"LSAD\": \"06\", \"NAME\": \"Marshall\", \"STATEFP\": \"17\"}, \"type\": \"Feature\"}, {\"geometry\": {\"coordinates\": [[[-88.47077559655816, 39.21583015914484], [-88.47077559655816, 39.37533409314817], [-88.01318712633609, 39.37907246660137], [-88.00788687378527, 39.17470805115961], [-88.3612370438409, 39.17096967770641], [-88.47077559655816, 39.17221580219081], [-88.47077559655816, 39.21583015914484]]], \"type\": \"Polygon\"}, \"id\": \"Cumberland\", \"properties\": {\"AFFGEOID\": \"0500000US17035\", \"ALAND\": 896203114, \"AWATER\": 2531272, \"COUNTYFP\": \"035\", \"COUNTYNS\": \"00424219\", \"GEOID\": \"17035\", \"LSAD\": \"06\", \"NAME\": \"Cumberland\", \"STATEFP\": \"17\"}, \"type\": \"Feature\"}, {\"geometry\": {\"coordinates\": [[[-88.47430909825871, 39.791539670938086], [-88.46194184230676, 39.80150866681329], [-88.46194184230676, 39.878768384846154], [-88.34886978788896, 39.878768384846154], [-87.93721683977414, 39.878768384846154], [-87.96901835507914, 39.791539670938086], [-87.96725160422886, 39.68686521424841], [-88.06442290099416, 39.65321985316958], [-88.47254234740844, 39.65197372868518], [-88.47430909825871, 39.791539670938086]]], \"type\": \"Polygon\"}, \"id\": \"Douglas\", \"properties\": {\"AFFGEOID\": \"0500000US17041\", \"ALAND\": 1079156612, \"AWATER\": 1448702, \"COUNTYFP\": \"041\", \"COUNTYNS\": \"00424222\", \"GEOID\": \"17041\", \"LSAD\": \"06\", \"NAME\": \"Douglas\", \"STATEFP\": \"17\"}, \"type\": \"Feature\"}, {\"geometry\": {\"coordinates\": [[[-88.58738115267651, 41.10869325094989], [-88.25169849112365, 41.1149238733719], [-88.2481649894231, 40.99529592286941], [-88.23579773347114, 40.61772020409592], [-88.46017509145648, 40.61772020409592], [-88.57501389672457, 40.616474079611514], [-88.58561440182623, 40.757286146348825], [-88.93013081763048, 40.75354777289562], [-88.93189756848076, 40.92800520071175], [-88.93189756848076, 41.10620100198109], [-88.58738115267651, 41.10869325094989]]], \"type\": \"Polygon\"}, \"id\": \"Livingston\", \"properties\": {\"AFFGEOID\": \"0500000US17105\", \"ALAND\": 2704687496, \"AWATER\": 4252884, \"COUNTYFP\": \"105\", \"COUNTYNS\": \"00424254\", \"GEOID\": \"17105\", \"LSAD\": \"06\", \"NAME\": \"Livingston\", \"STATEFP\": \"17\"}, \"type\": \"Feature\"}, {\"geometry\": {\"coordinates\": [[[-89.63859790859205, 38.99900449885908], [-89.5855953830837, 39.0289114864847], [-89.25167947238113, 39.0276653620003], [-89.25874647578223, 38.99900449885908], [-89.25697972493195, 38.91676028288862], [-89.25521297408167, 38.74230285507248], [-89.48312383376756, 38.741056730588085], [-89.59619588818538, 38.743548979556884], [-89.59796263903566, 38.87439205041898], [-89.63683115774177, 38.91800640737302], [-89.63859790859205, 38.99900449885908]]], \"type\": \"Polygon\"}, \"id\": \"Bond\", \"properties\": {\"AFFGEOID\": \"0500000US17005\", \"ALAND\": 984918652, \"AWATER\": 6426353, \"COUNTYFP\": \"005\", \"COUNTYNS\": \"00424204\", \"GEOID\": \"17005\", \"LSAD\": \"06\", \"NAME\": \"Bond\", \"STATEFP\": \"17\"}, \"type\": \"Feature\"}, {\"geometry\": {\"coordinates\": [[[-89.9831143243963, 41.14981535893513], [-89.86827551912822, 41.14981535893513], [-89.86650876827794, 41.21710608109278], [-89.85767501402655, 41.23455182387439], [-89.63859790859205, 41.23455182387439], [-89.63683115774177, 41.148569234450726], [-89.63683115774177, 41.14109248754432], [-89.63859790859205, 40.97411180663459], [-89.98488107524658, 40.97411180663459], [-89.9831143243963, 41.14981535893513]]], \"type\": \"Polygon\"}, \"id\": \"Stark\", \"properties\": {\"AFFGEOID\": \"0500000US17175\", \"ALAND\": 746121489, \"AWATER\": 708705, \"COUNTYFP\": \"175\", \"COUNTYNS\": \"00424288\", \"GEOID\": \"17175\", \"LSAD\": \"06\", \"NAME\": \"Stark\", \"STATEFP\": \"17\"}, \"type\": \"Feature\"}, {\"geometry\": {\"coordinates\": [[[-90.15272240602302, 39.52113065782308], [-89.92481154633712, 39.52237678230748], [-89.70043418835179, 39.52362290679188], [-89.69690068665123, 38.99900449885908], [-90.11562063816717, 38.99900449885908], [-90.1456554026219, 39.00025062334348], [-90.14742215347218, 39.26193676506768], [-90.15272240602302, 39.52113065782308]]], \"type\": \"Polygon\"}, \"id\": \"Macoupin\", \"properties\": {\"AFFGEOID\": \"0500000US17117\", \"ALAND\": 2234952632, \"AWATER\": 12252649, \"COUNTYFP\": \"117\", \"COUNTYNS\": \"00424257\", \"GEOID\": \"17117\", \"LSAD\": \"06\", \"NAME\": \"Macoupin\", \"STATEFP\": \"17\"}, \"type\": \"Feature\"}, {\"geometry\": {\"coordinates\": [[[-88.25876549452477, 38.84697731176216], [-87.94605059402552, 38.85071568521536], [-87.90894882616968, 38.85071568521536], [-87.91248232787024, 38.57033767622515], [-87.95488434827692, 38.57033767622515], [-88.14746019095725, 38.56909155174075], [-88.14746019095725, 38.597752414881974], [-88.25346524197393, 38.59899853936637], [-88.29763401323089, 38.6338900249296], [-88.25876549452477, 38.73108773471287], [-88.25876549452477, 38.84697731176216]]], \"type\": \"Polygon\"}, \"id\": \"Richland\", \"properties\": {\"AFFGEOID\": \"0500000US17159\", \"ALAND\": 932423425, \"AWATER\": 4884901, \"COUNTYFP\": \"159\", \"COUNTYNS\": \"00424281\", \"GEOID\": \"17159\", \"LSAD\": \"06\", \"NAME\": \"Richland\", \"STATEFP\": \"17\"}, \"type\": \"Feature\"}, {\"geometry\": {\"coordinates\": [[[-88.3700707980923, 38.25506818167171], [-88.15099369265779, 38.25631430615611], [-88.02732113313832, 38.25506818167171], [-87.99021936528248, 38.25880655512491], [-87.96901835507914, 38.236376314405696], [-87.97078510592942, 38.230145691983694], [-87.97608535848025, 38.197746455389264], [-87.92838308552274, 38.151639849466434], [-87.96195135167802, 38.09930262112159], [-87.9884526144322, 38.05568826416756], [-88.03085463483887, 38.03076577447954], [-88.01672062803665, 37.96098280335308], [-88.04145513994055, 37.892445956711036], [-88.05912264844333, 37.86752346702301], [-88.13685968585557, 37.91487619743025], [-88.37537105064312, 37.90739945052385], [-88.3700707980923, 38.25506818167171]]], \"type\": \"Polygon\"}, \"id\": \"White\", \"properties\": {\"AFFGEOID\": \"0500000US17193\", \"ALAND\": 1281439561, \"AWATER\": 18374883, \"COUNTYFP\": \"193\", \"COUNTYNS\": \"00424297\", \"GEOID\": \"17193\", \"LSAD\": \"06\", \"NAME\": \"White\", \"STATEFP\": \"17\"}, \"type\": \"Feature\"}, {\"geometry\": {\"coordinates\": [[[-89.70573444090262, 38.65507414116442], [-89.5944291373351, 38.656320265648816], [-89.59619588818538, 38.743548979556884], [-89.48312383376756, 38.741056730588085], [-89.25521297408167, 38.74230285507248], [-89.13860741796331, 38.73607223265048], [-89.14390767051415, 38.5030469540675], [-89.35238427084698, 38.51800044788031], [-89.48312383376756, 38.46815546850427], [-89.61386339668816, 38.471893841957474], [-89.70396769005235, 38.41581824015943], [-89.70573444090262, 38.65507414116442]]], \"type\": \"Polygon\"}, \"id\": \"Clinton\", \"properties\": {\"AFFGEOID\": \"0500000US17027\", \"ALAND\": 1227874119, \"AWATER\": 75592335, \"COUNTYFP\": \"027\", \"COUNTYNS\": \"00424215\", \"GEOID\": \"17027\", \"LSAD\": \"06\", \"NAME\": \"Clinton\", \"STATEFP\": \"17\"}, \"type\": \"Feature\"}, {\"geometry\": {\"coordinates\": [[[-89.17747593666944, 37.949767682993475], [-89.1156396569097, 38.08559525179318], [-89.12977366371193, 38.12422511080961], [-88.70575345964515, 38.12422511080961], [-88.70752021049543, 37.906153326039444], [-88.70752021049543, 37.86378509356981], [-89.15274142476554, 37.862538969085406], [-89.15097467391527, 37.944783185055876], [-89.17747593666944, 37.949767682993475]]], \"type\": \"Polygon\"}, \"id\": \"Franklin\", \"properties\": {\"AFFGEOID\": \"0500000US17055\", \"ALAND\": 1059021102, \"AWATER\": 58413469, \"COUNTYFP\": \"055\", \"COUNTYNS\": \"00424229\", \"GEOID\": \"17055\", \"LSAD\": \"06\", \"NAME\": \"Franklin\", \"STATEFP\": \"17\"}, \"type\": \"Feature\"}, {\"geometry\": {\"coordinates\": [[[-88.59621490692791, 41.45760810658216], [-88.25169849112365, 41.463838729004166], [-88.24463148772254, 41.20215258727997], [-88.24109798602198, 41.12987736718471], [-88.25169849112365, 41.1149238733719], [-88.58738115267651, 41.10869325094989], [-88.59621490692791, 41.45760810658216]]], \"type\": \"Polygon\"}, \"id\": \"Grundy\", \"properties\": {\"AFFGEOID\": \"0500000US17063\", \"ALAND\": 1082749559, \"AWATER\": 32106092, \"COUNTYFP\": \"063\", \"COUNTYNS\": \"00424233\", \"GEOID\": \"17063\", \"LSAD\": \"06\", \"NAME\": \"Grundy\", \"STATEFP\": \"17\"}, \"type\": \"Feature\"}, {\"geometry\": {\"coordinates\": [[[-89.50255809312063, 37.55973071937598], [-89.49902459142007, 37.570945839735586], [-89.45308906931284, 37.60085282736121], [-89.15450817561582, 37.60085282736121], [-89.04143612119802, 37.597114453908006], [-89.04496962289858, 37.3304438142462], [-89.24991272153085, 37.33542831218381], [-89.47429007951618, 37.33542831218381], [-89.42835455740894, 37.35661242841862], [-89.42658780655867, 37.407703532279065], [-89.4725233286659, 37.46627138304591], [-89.51139184737202, 37.529823731750355], [-89.50255809312063, 37.55973071937598]]], \"type\": \"Polygon\"}, \"id\": \"Union\", \"properties\": {\"AFFGEOID\": \"0500000US17181\", \"ALAND\": 1070855937, \"AWATER\": 22502264, \"COUNTYFP\": \"181\", \"COUNTYNS\": \"01785113\", \"GEOID\": \"17181\", \"LSAD\": \"06\", \"NAME\": \"Union\", \"STATEFP\": \"17\"}, \"type\": \"Feature\"}, {\"geometry\": {\"coordinates\": [[[-90.3152634842486, 42.19406767686313], [-89.91951129378629, 42.19655992583193], [-89.89654353273266, 42.19655992583193], [-89.68806693239983, 42.19905217480073], [-89.68453343069929, 41.92988928617012], [-90.12798789411912, 41.92864316168572], [-90.15802265857384, 41.92988928617012], [-90.15625590772356, 41.93736603307653], [-90.14035515007106, 41.99593388384337], [-90.15978940942412, 42.0333176183754], [-90.16332291112468, 42.03954824079741], [-90.15978940942412, 42.105592838470656], [-90.20749168238163, 42.149207195424694], [-90.26932796214138, 42.17412968511271], [-90.3152634842486, 42.19406767686313]]], \"type\": \"Polygon\"}, \"id\": \"Carroll\", \"properties\": {\"AFFGEOID\": \"0500000US17015\", \"ALAND\": 1152707885, \"AWATER\": 55841451, \"COUNTYFP\": \"015\", \"COUNTYNS\": \"00424209\", \"GEOID\": \"17015\", \"LSAD\": \"06\", \"NAME\": \"Carroll\", \"STATEFP\": \"17\"}, \"type\": \"Feature\"}, {\"geometry\": {\"coordinates\": [[[-90.78521921042261, 41.06881726744906], [-90.43893604376808, 41.06383276951146], [-90.44423629631892, 40.71491791387919], [-90.44423629631892, 40.62768919997112], [-90.78875271212317, 40.63516594687753], [-90.78521921042261, 41.06881726744906]]], \"type\": \"Polygon\"}, \"id\": \"Warren\", \"properties\": {\"AFFGEOID\": \"0500000US17187\", \"ALAND\": 1404823489, \"AWATER\": 1674135, \"COUNTYFP\": \"187\", \"COUNTYNS\": \"01785134\", \"GEOID\": \"17187\", \"LSAD\": \"06\", \"NAME\": \"Warren\", \"STATEFP\": \"17\"}, \"type\": \"Feature\"}, {\"geometry\": {\"coordinates\": [[[-89.68806693239983, 42.19905217480073], [-89.39655304210393, 42.20154442376953], [-89.17394243496888, 42.20403667273833], [-89.17394243496888, 42.15045331990909], [-89.09267189585609, 42.15045331990909], [-88.94073132273216, 42.15169944439349], [-88.94249807358244, 41.89125942715369], [-89.415987301457, 41.886274929216086], [-89.42835455740894, 41.907459045450906], [-89.62799740349038, 41.9012284230289], [-89.68453343069929, 41.92988928617012], [-89.68806693239983, 42.19905217480073]]], \"type\": \"Polygon\"}, \"id\": \"Ogle\", \"properties\": {\"AFFGEOID\": \"0500000US17141\", \"ALAND\": 1964706942, \"AWATER\": 11425029, \"COUNTYFP\": \"141\", \"COUNTYNS\": \"01784894\", \"GEOID\": \"17141\", \"LSAD\": \"06\", \"NAME\": \"Ogle\", \"STATEFP\": \"17\"}, \"type\": \"Feature\"}, {\"geometry\": {\"coordinates\": [[[-88.13155943330473, 40.99778817183821], [-87.52733064250958, 41.01024941668222], [-87.52556389165932, 40.89560596411733], [-87.52556389165932, 40.73734815459841], [-87.52556389165932, 40.535475988125455], [-87.52733064250958, 40.49061550668702], [-87.93545008892386, 40.485631008749415], [-88.1174254265025, 40.48812325771822], [-88.11919217735279, 40.51678412085944], [-88.13155943330473, 40.99778817183821]]], \"type\": \"Polygon\"}, \"id\": \"Iroquois\", \"properties\": {\"AFFGEOID\": \"0500000US17075\", \"ALAND\": 2893771415, \"AWATER\": 4235076, \"COUNTYFP\": \"075\", \"COUNTYNS\": \"00424239\", \"GEOID\": \"17075\", \"LSAD\": \"06\", \"NAME\": \"Iroquois\", \"STATEFP\": \"17\"}, \"type\": \"Feature\"}, {\"geometry\": {\"coordinates\": [[[-89.1651086807175, 41.31056541742285], [-89.16334192986722, 41.10495487749669], [-89.35945127424809, 41.10370875301229], [-89.32941650979336, 41.148569234450726], [-89.46722307611506, 41.148569234450726], [-89.46722307611506, 41.23455182387439], [-89.35768452339782, 41.23330569938999], [-89.33648351319448, 41.30184254603204], [-89.1651086807175, 41.31056541742285]]], \"type\": \"Polygon\"}, \"id\": \"Putnam\", \"properties\": {\"AFFGEOID\": \"0500000US17155\", \"ALAND\": 414813859, \"AWATER\": 31243032, \"COUNTYFP\": \"155\", \"COUNTYNS\": \"00424279\", \"GEOID\": \"17155\", \"LSAD\": \"06\", \"NAME\": \"Putnam\", \"STATEFP\": \"17\"}, \"type\": \"Feature\"}, {\"geometry\": {\"coordinates\": [[[-90.91419202249293, 40.10431691652273], [-90.69511491705842, 40.103070792038324], [-90.6067773745445, 39.980950592567034], [-90.51313957947977, 39.987181214989036], [-90.51137282862949, 39.96475097426982], [-90.5838096134909, 39.87627613587735], [-90.57144235753894, 39.83889240134532], [-90.88945751058903, 39.84013852582972], [-90.91595877334319, 39.84512302376733], [-90.91419202249293, 40.10431691652273]]], \"type\": \"Polygon\"}, \"id\": \"Brown\", \"properties\": {\"AFFGEOID\": \"0500000US17009\", \"ALAND\": 791518279, \"AWATER\": 4139308, \"COUNTYFP\": \"009\", \"COUNTYNS\": \"00424206\", \"GEOID\": \"17009\", \"LSAD\": \"06\", \"NAME\": \"Brown\", \"STATEFP\": \"17\"}, \"type\": \"Feature\"}, {\"geometry\": {\"coordinates\": [[[-88.46017509145648, 40.61772020409592], [-88.23579773347114, 40.61772020409592], [-88.2481649894231, 40.99529592286941], [-88.13155943330473, 40.99778817183821], [-88.11919217735279, 40.51678412085944], [-88.1174254265025, 40.48812325771822], [-87.93545008892386, 40.485631008749415], [-87.93368333807358, 40.39964841932575], [-88.34710303703868, 40.39840229484135], [-88.46017509145648, 40.39840229484135], [-88.46017509145648, 40.61772020409592]]], \"type\": \"Polygon\"}, \"id\": \"Ford\", \"properties\": {\"AFFGEOID\": \"0500000US17053\", \"ALAND\": 1257719717, \"AWATER\": 1640286, \"COUNTYFP\": \"053\", \"COUNTYNS\": \"00424228\", \"GEOID\": \"17053\", \"LSAD\": \"06\", \"NAME\": \"Ford\", \"STATEFP\": \"17\"}, \"type\": \"Feature\"}, {\"geometry\": {\"coordinates\": [[[-90.90359151739125, 40.63890432033074], [-90.78875271212317, 40.63516594687753], [-90.44423629631892, 40.62768919997112], [-90.44953654886974, 40.27628209537006], [-90.90889176994209, 40.28375884227646], [-90.90359151739125, 40.63890432033074]]], \"type\": \"Polygon\"}, \"id\": \"McDonough\", \"properties\": {\"AFFGEOID\": \"0500000US17109\", \"ALAND\": 1526558088, \"AWATER\": 2012555, \"COUNTYFP\": \"109\", \"COUNTYNS\": \"01784729\", \"GEOID\": \"17109\", \"LSAD\": \"06\", \"NAME\": \"McDonough\", \"STATEFP\": \"17\"}, \"type\": \"Feature\"}, {\"geometry\": {\"coordinates\": [[[-89.24991272153085, 37.33542831218381], [-89.04496962289858, 37.3304438142462], [-89.04496962289858, 37.29430620419858], [-88.93013081763048, 37.30302907558938], [-88.9283640667802, 37.227015482040926], [-88.93189756848076, 37.22826160652532], [-88.93366431933104, 37.22826160652532], [-89.00080085164161, 37.22452323307212], [-89.0591036297008, 37.188385623024494], [-89.09973889925719, 37.14103289261726], [-89.16864218241804, 37.0737421704596], [-89.16687543156777, 37.07249604597521], [-89.26227997748279, 37.10614140705403], [-89.24991272153085, 37.33542831218381]]], \"type\": \"Polygon\"}, \"id\": \"Pulaski\", \"properties\": {\"AFFGEOID\": \"0500000US17153\", \"ALAND\": 515887464, \"AWATER\": 10473563, \"COUNTYFP\": \"153\", \"COUNTYNS\": \"01784966\", \"GEOID\": \"17153\", \"LSAD\": \"06\", \"NAME\": \"Pulaski\", \"STATEFP\": \"17\"}, \"type\": \"Feature\"}, {\"geometry\": {\"coordinates\": [[[-88.60328191032902, 41.71929424830636], [-88.40540581509786, 41.72178649727516], [-88.37537105064312, 41.72178649727516], [-88.26229899622533, 41.72427874624397], [-88.26053224537505, 41.69561788310274], [-88.25699874367449, 41.59343567538186], [-88.2552319928242, 41.52116045528661], [-88.25169849112365, 41.463838729004166], [-88.59621490692791, 41.45760810658216], [-88.60328191032902, 41.6308194099139], [-88.60328191032902, 41.71929424830636]]], \"type\": \"Polygon\"}, \"id\": \"Kendall\", \"properties\": {\"AFFGEOID\": \"0500000US17093\", \"ALAND\": 829537625, \"AWATER\": 5118525, \"COUNTYFP\": \"093\", \"COUNTYNS\": \"00424248\", \"GEOID\": \"17093\", \"LSAD\": \"06\", \"NAME\": \"Kendall\", \"STATEFP\": \"17\"}, \"type\": \"Feature\"}, {\"geometry\": {\"coordinates\": [[[-88.93896457188188, 41.62832716094509], [-88.81882551406296, 41.6308194099139], [-88.71282046304627, 41.629573285429494], [-88.60328191032902, 41.6308194099139], [-88.59621490692791, 41.45760810658216], [-88.58738115267651, 41.10869325094989], [-88.93189756848076, 41.10620100198109], [-88.93189756848076, 40.92800520071175], [-89.04850312459912, 40.92551295174295], [-89.04850312459912, 41.10495487749669], [-89.16334192986722, 41.10495487749669], [-89.1651086807175, 41.31056541742285], [-89.16687543156777, 41.585958928475456], [-89.16864218241804, 41.62832716094509], [-88.93896457188188, 41.62832716094509]]], \"type\": \"Polygon\"}, \"id\": \"LaSalle\", \"properties\": {\"AFFGEOID\": \"0500000US17099\", \"ALAND\": 2939990010, \"AWATER\": 33693280, \"COUNTYFP\": \"099\", \"COUNTYNS\": \"00422247\", \"GEOID\": \"17099\", \"LSAD\": \"06\", \"NAME\": \"LaSalle\", \"STATEFP\": \"17\"}, \"type\": \"Feature\"}, {\"geometry\": {\"coordinates\": [[[-90.59794362029312, 39.789047421969286], [-90.48310481502503, 39.789047421969286], [-90.48310481502503, 39.752909811921654], [-90.37003276060723, 39.752909811921654], [-90.37179951145751, 39.66692722249799], [-90.2993627265961, 39.63702023487237], [-90.30112947744638, 39.52113065782308], [-90.58027611179034, 39.52237678230748], [-90.64564589325063, 39.70431095703002], [-90.59794362029312, 39.789047421969286]]], \"type\": \"Polygon\"}, \"id\": \"Scott\", \"properties\": {\"AFFGEOID\": \"0500000US17171\", \"ALAND\": 649861236, \"AWATER\": 4812706, \"COUNTYFP\": \"171\", \"COUNTYNS\": \"00424286\", \"GEOID\": \"17171\", \"LSAD\": \"06\", \"NAME\": \"Scott\", \"STATEFP\": \"17\"}, \"type\": \"Feature\"}, {\"geometry\": {\"coordinates\": [[[-90.91242527164265, 40.19279175491519], [-90.90889176994209, 40.28375884227646], [-90.44953654886974, 40.27628209537006], [-90.45130329972002, 40.18905338146199], [-90.19865792813025, 40.18406888352439], [-90.20572493153136, 40.15540802038316], [-90.35413200295473, 40.12425490827314], [-90.43540254206752, 40.01958045158346], [-90.51313957947977, 39.987181214989036], [-90.6067773745445, 39.980950592567034], [-90.69511491705842, 40.103070792038324], [-90.91419202249293, 40.10431691652273], [-90.91242527164265, 40.19279175491519]]], \"type\": \"Polygon\"}, \"id\": \"Schuyler\", \"properties\": {\"AFFGEOID\": \"0500000US17169\", \"ALAND\": 1132531697, \"AWATER\": 10511619, \"COUNTYFP\": \"169\", \"COUNTYNS\": \"01785037\", \"GEOID\": \"17169\", \"LSAD\": \"06\", \"NAME\": \"Schuyler\", \"STATEFP\": \"17\"}, \"type\": \"Feature\"}, {\"geometry\": {\"coordinates\": [[[-89.15274142476554, 37.862538969085406], [-88.70752021049543, 37.86378509356981], [-88.70928696134571, 37.599606702876805], [-89.04143612119802, 37.597114453908006], [-89.15450817561582, 37.60085282736121], [-89.15274142476554, 37.862538969085406]]], \"type\": \"Polygon\"}, \"id\": \"Williamson\", \"properties\": {\"AFFGEOID\": \"0500000US17199\", \"ALAND\": 1088235237, \"AWATER\": 62630460, \"COUNTYFP\": \"199\", \"COUNTYNS\": \"01785215\", \"GEOID\": \"17199\", \"LSAD\": \"06\", \"NAME\": \"Williamson\", \"STATEFP\": \"17\"}, \"type\": \"Feature\"}, {\"geometry\": {\"coordinates\": [[[-90.43363579121724, 41.32801116020446], [-90.43186904036696, 41.45760810658216], [-90.33293099275139, 41.5149298328646], [-90.19512442642969, 41.54109844703702], [-90.18452392132802, 41.58471280399106], [-89.8612085157271, 41.58471280399106], [-89.85767501402655, 41.23455182387439], [-89.86650876827794, 41.21710608109278], [-89.86827551912822, 41.14981535893513], [-89.9831143243963, 41.14981535893513], [-90.4371692929178, 41.151061483419525], [-90.43363579121724, 41.32801116020446]]], \"type\": \"Polygon\"}, \"id\": \"Henry\", \"properties\": {\"AFFGEOID\": \"0500000US17073\", \"ALAND\": 2131552058, \"AWATER\": 6862245, \"COUNTYFP\": \"073\", \"COUNTYNS\": \"00424238\", \"GEOID\": \"17073\", \"LSAD\": \"06\", \"NAME\": \"Henry\", \"STATEFP\": \"17\"}, \"type\": \"Feature\"}, {\"geometry\": {\"coordinates\": [[[-89.14744117221471, 38.212699949202076], [-89.14567442136443, 38.47313996644188], [-88.69868645624405, 38.47438609092628], [-88.70221995794459, 38.25631430615611], [-88.70575345964515, 38.12422511080961], [-89.12977366371193, 38.12422511080961], [-89.15097467391527, 38.130455733231614], [-89.14744117221471, 38.212699949202076]]], \"type\": \"Polygon\"}, \"id\": \"Jefferson\", \"properties\": {\"AFFGEOID\": \"0500000US17081\", \"ALAND\": 1479284991, \"AWATER\": 32709408, \"COUNTYFP\": \"081\", \"COUNTYNS\": \"00424242\", \"GEOID\": \"17081\", \"LSAD\": \"06\", \"NAME\": \"Jefferson\", \"STATEFP\": \"17\"}, \"type\": \"Feature\"}, {\"geometry\": {\"coordinates\": [[[-90.25519395533915, 38.53046169272432], [-90.24812695193803, 38.54416906205273], [-90.18452392132802, 38.61145978421038], [-90.18099041962746, 38.66005863910202], [-90.03611684990464, 38.65881251461762], [-89.70573444090262, 38.65507414116442], [-89.70396769005235, 38.41581824015943], [-89.70220093920207, 38.218930571624085], [-89.89831028358294, 38.22017669610848], [-89.90361053613378, 38.297436414141345], [-90.03611684990464, 38.30865153450095], [-90.26049420788998, 38.51800044788031], [-90.25519395533915, 38.53046169272432]]], \"type\": \"Polygon\"}, \"id\": \"St. Clair\", \"properties\": {\"AFFGEOID\": \"0500000US17163\", \"ALAND\": 1703650703, \"AWATER\": 42081592, \"COUNTYFP\": \"163\", \"COUNTYNS\": \"01784987\", \"GEOID\": \"17163\", \"LSAD\": \"06\", \"NAME\": \"St. Clair\", \"STATEFP\": \"17\"}, \"type\": \"Feature\"}, {\"geometry\": {\"coordinates\": [[[-89.14920792306499, 40.28126659330766], [-88.91953031252882, 40.28251271779206], [-88.57501389672457, 40.28126659330766], [-88.74638872920156, 40.09808629410072], [-88.74638872920156, 40.05447193714669], [-89.14567442136443, 40.048241314724685], [-89.14920792306499, 40.28126659330766]]], \"type\": \"Polygon\"}, \"id\": \"DeWitt\", \"properties\": {\"AFFGEOID\": \"0500000US17039\", \"ALAND\": 1029643577, \"AWATER\": 19519851, \"COUNTYFP\": \"039\", \"COUNTYNS\": \"00426598\", \"GEOID\": \"17039\", \"LSAD\": \"06\", \"NAME\": \"De Witt\", \"STATEFP\": \"17\"}, \"type\": \"Feature\"}, {\"geometry\": {\"coordinates\": [[[-89.59266238648482, 38.218930571624085], [-89.14744117221471, 38.212699949202076], [-89.15097467391527, 38.130455733231614], [-89.12977366371193, 38.12422511080961], [-89.1156396569097, 38.08559525179318], [-89.17747593666944, 37.949767682993475], [-89.5944291373351, 37.95475218093108], [-89.59266238648482, 38.218930571624085]]], \"type\": \"Polygon\"}, \"id\": \"Perry\", \"properties\": {\"AFFGEOID\": \"0500000US17145\", \"ALAND\": 1144186123, \"AWATER\": 13416186, \"COUNTYFP\": \"145\", \"COUNTYNS\": \"01784940\", \"GEOID\": \"17145\", \"LSAD\": \"06\", \"NAME\": \"Perry\", \"STATEFP\": \"17\"}, \"type\": \"Feature\"}, {\"geometry\": {\"coordinates\": [[[-90.64211239155007, 42.508091046932165], [-90.4371692929178, 42.50684492244776], [-90.42656878781614, 42.50684492244776], [-90.22339244003413, 42.508091046932165], [-89.9265782971874, 42.505598797963366], [-89.91951129378629, 42.19655992583193], [-90.3152634842486, 42.19406767686313], [-90.33823124530223, 42.20279054825393], [-90.40006752506196, 42.23892815830156], [-90.4301022895167, 42.277558017317986], [-90.41596828271446, 42.31992624978762], [-90.4460030471692, 42.35730998431965], [-90.48310481502503, 42.38098634952327], [-90.51667308118033, 42.403416590242486], [-90.56437535413784, 42.43830807580571], [-90.590876616892, 42.44703094719652], [-90.64564589325063, 42.47195343688453], [-90.64211239155007, 42.508091046932165]]], \"type\": \"Polygon\"}, \"id\": \"JoDaviess\", \"properties\": {\"AFFGEOID\": \"0500000US17085\", \"ALAND\": 1556339199, \"AWATER\": 45776828, \"COUNTYFP\": \"085\", \"COUNTYNS\": \"00424244\", \"GEOID\": \"17085\", \"LSAD\": \"06\", \"NAME\": \"Jo Daviess\", \"STATEFP\": \"17\"}, \"type\": \"Feature\"}, {\"geometry\": {\"coordinates\": [[[-90.57144235753894, 39.83889240134532], [-90.5838096134909, 39.87627613587735], [-89.99371482949797, 39.872537762424145], [-89.99371482949797, 39.78530904851608], [-89.92481154633712, 39.52237678230748], [-90.15272240602302, 39.52113065782308], [-90.30112947744638, 39.52113065782308], [-90.2993627265961, 39.63702023487237], [-90.37179951145751, 39.66692722249799], [-90.37003276060723, 39.752909811921654], [-90.48310481502503, 39.752909811921654], [-90.48310481502503, 39.789047421969286], [-90.59794362029312, 39.789047421969286], [-90.57144235753894, 39.83889240134532]]], \"type\": \"Polygon\"}, \"id\": \"Morgan\", \"properties\": {\"AFFGEOID\": \"0500000US17137\", \"ALAND\": 1473194865, \"AWATER\": 9064992, \"COUNTYFP\": \"137\", \"COUNTYNS\": \"00424270\", \"GEOID\": \"17137\", \"LSAD\": \"06\", \"NAME\": \"Morgan\", \"STATEFP\": \"17\"}, \"type\": \"Feature\"}, {\"geometry\": {\"coordinates\": [[[-90.43893604376808, 41.06383276951146], [-90.4371692929178, 41.151061483419525], [-89.9831143243963, 41.14981535893513], [-89.98488107524658, 40.97411180663459], [-89.98488107524658, 40.71242566491039], [-90.44423629631892, 40.71491791387919], [-90.43893604376808, 41.06383276951146]]], \"type\": \"Polygon\"}, \"id\": \"Knox\", \"properties\": {\"AFFGEOID\": \"0500000US17095\", \"ALAND\": 1855506549, \"AWATER\": 8834348, \"COUNTYFP\": \"095\", \"COUNTYNS\": \"00424249\", \"GEOID\": \"17095\", \"LSAD\": \"06\", \"NAME\": \"Knox\", \"STATEFP\": \"17\"}, \"type\": \"Feature\"}, {\"geometry\": {\"coordinates\": [[[-89.62799740349038, 41.9012284230289], [-89.42835455740894, 41.907459045450906], [-89.415987301457, 41.886274929216086], [-88.94249807358244, 41.89125942715369], [-88.93896457188188, 41.62832716094509], [-89.16864218241804, 41.62832716094509], [-89.16687543156777, 41.585958928475456], [-89.63153090519094, 41.585958928475456], [-89.62799740349038, 41.9012284230289]]], \"type\": \"Polygon\"}, \"id\": \"Lee\", \"properties\": {\"AFFGEOID\": \"0500000US17103\", \"ALAND\": 1877371243, \"AWATER\": 10599322, \"COUNTYFP\": \"103\", \"COUNTYNS\": \"00424253\", \"GEOID\": \"17103\", \"LSAD\": \"06\", \"NAME\": \"Lee\", \"STATEFP\": \"17\"}, \"type\": \"Feature\"}, {\"geometry\": {\"coordinates\": [[[-90.1456554026219, 39.00025062334348], [-90.11562063816717, 38.99900449885908], [-89.69690068665123, 38.99900449885908], [-89.63859790859205, 38.99900449885908], [-89.63683115774177, 38.91800640737302], [-89.59796263903566, 38.87439205041898], [-89.59619588818538, 38.743548979556884], [-89.5944291373351, 38.656320265648816], [-89.70573444090262, 38.65507414116442], [-90.03611684990464, 38.65881251461762], [-90.18099041962746, 38.66005863910202], [-90.19512442642969, 38.68747337775884], [-90.20925843323191, 38.72610323677527], [-90.16685641282524, 38.7722098426981], [-90.16508966197496, 38.7722098426981], [-90.11738738901745, 38.80585520377693], [-90.11208713646661, 38.84946956073097], [-90.20749168238163, 38.89931454010701], [-90.23045944343525, 38.910529660466615], [-90.27639496554248, 38.91925253185742], [-90.27286146384193, 38.99900449885908], [-90.1456554026219, 39.00025062334348]]], \"type\": \"Polygon\"}, \"id\": \"Madison\", \"properties\": {\"AFFGEOID\": \"0500000US17119\", \"ALAND\": 1853742057, \"AWATER\": 64302909, \"COUNTYFP\": \"119\", \"COUNTYNS\": \"00424258\", \"GEOID\": \"17119\", \"LSAD\": \"06\", \"NAME\": \"Madison\", \"STATEFP\": \"17\"}, \"type\": \"Feature\"}, {\"geometry\": {\"coordinates\": [[[-88.70752021049543, 37.86378509356981], [-88.70752021049543, 37.906153326039444], [-88.37537105064312, 37.90739945052385], [-88.37537105064312, 37.599606702876805], [-88.41247281849897, 37.60085282736121], [-88.70928696134571, 37.599606702876805], [-88.70752021049543, 37.86378509356981]]], \"type\": \"Polygon\"}, \"id\": \"Saline\", \"properties\": {\"AFFGEOID\": \"0500000US17165\", \"ALAND\": 983746631, \"AWATER\": 18008533, \"COUNTYFP\": \"165\", \"COUNTYNS\": \"00424283\", \"GEOID\": \"17165\", \"LSAD\": \"06\", \"NAME\": \"Saline\", \"STATEFP\": \"17\"}, \"type\": \"Feature\"}, {\"geometry\": {\"coordinates\": [[[-88.26229899622533, 41.72427874624397], [-88.14922694180751, 41.725524870728364], [-88.03085463483887, 41.72801711969717], [-88.0290878839886, 41.68440276274313], [-88.0290878839886, 41.66944926893032], [-87.91248232787024, 41.6432806547579], [-87.90894882616968, 41.55729806533424], [-87.81177752940438, 41.55854418981864], [-87.79057651920104, 41.52863720219302], [-87.78704301750048, 41.47006935142617], [-87.52556389165932, 41.47131547591057], [-87.52733064250958, 41.29810417257884], [-88.01495387718637, 41.29311967464123], [-88.01142037548581, 41.20589096073317], [-88.24463148772254, 41.20215258727997], [-88.25169849112365, 41.463838729004166], [-88.2552319928242, 41.52116045528661], [-88.25699874367449, 41.59343567538186], [-88.26053224537505, 41.69561788310274], [-88.26229899622533, 41.72427874624397]]], \"type\": \"Polygon\"}, \"id\": \"Will\", \"properties\": {\"AFFGEOID\": \"0500000US17197\", \"ALAND\": 2167652507, \"AWATER\": 31840804, \"COUNTYFP\": \"197\", \"COUNTYNS\": \"01785190\", \"GEOID\": \"17197\", \"LSAD\": \"06\", \"NAME\": \"Will\", \"STATEFP\": \"17\"}, \"type\": \"Feature\"}, {\"geometry\": {\"coordinates\": [[[-90.14742215347218, 39.26193676506768], [-90.1456554026219, 39.00025062334348], [-90.27286146384193, 38.99900449885908], [-90.27639496554248, 38.91925253185742], [-90.29759597574582, 38.92299090531062], [-90.39476727251113, 38.96037463984265], [-90.45130329972002, 38.96162076432705], [-90.46720405737253, 38.96909751123346], [-90.5343405896831, 38.95912851535825], [-90.60324387284396, 39.117386324877174], [-90.58027611179034, 39.184677047034825], [-90.31349673339832, 39.17470805115961], [-90.31349673339832, 39.225799155020056], [-90.14742215347218, 39.26193676506768]]], \"type\": \"Polygon\"}, \"id\": \"Jersey\", \"properties\": {\"AFFGEOID\": \"0500000US17083\", \"ALAND\": 956433111, \"AWATER\": 20324168, \"COUNTYFP\": \"083\", \"COUNTYNS\": \"00424243\", \"GEOID\": \"17083\", \"LSAD\": \"06\", \"NAME\": \"Jersey\", \"STATEFP\": \"17\"}, \"type\": \"Feature\"}, {\"geometry\": {\"coordinates\": [[[-88.74638872920156, 39.791539670938086], [-88.47430909825871, 39.791539670938086], [-88.47254234740844, 39.65197372868518], [-88.47077559655816, 39.447609313243426], [-88.58561440182623, 39.447609313243426], [-88.64215042903514, 39.52113065782308], [-88.71812071559711, 39.52113065782308], [-88.71812071559711, 39.57969850858992], [-88.80999175981157, 39.580944633074324], [-88.81175851066185, 39.65321985316958], [-88.81352526151213, 39.741694691562046], [-88.74638872920156, 39.791539670938086]]], \"type\": \"Polygon\"}, \"id\": \"Moultrie\", \"properties\": {\"AFFGEOID\": \"0500000US17139\", \"ALAND\": 870088914, \"AWATER\": 22102476, \"COUNTYFP\": \"139\", \"COUNTYNS\": \"01784885\", \"GEOID\": \"17139\", \"LSAD\": \"06\", \"NAME\": \"Moultrie\", \"STATEFP\": \"17\"}, \"type\": \"Feature\"}, {\"geometry\": {\"coordinates\": [[[-88.47254234740844, 39.65197372868518], [-88.06442290099416, 39.65321985316958], [-87.96725160422886, 39.68686521424841], [-87.96018460082774, 39.48125467432225], [-88.01495387718637, 39.48125467432225], [-88.01318712633609, 39.37907246660137], [-88.47077559655816, 39.37533409314817], [-88.47077559655816, 39.447609313243426], [-88.47254234740844, 39.65197372868518]]], \"type\": \"Polygon\"}, \"id\": \"Coles\", \"properties\": {\"AFFGEOID\": \"0500000US17029\", \"ALAND\": 1316459190, \"AWATER\": 4631834, \"COUNTYFP\": \"029\", \"COUNTYNS\": \"00424216\", \"GEOID\": \"17029\", \"LSAD\": \"06\", \"NAME\": \"Coles\", \"STATEFP\": \"17\"}, \"type\": \"Feature\"}, {\"geometry\": {\"coordinates\": [[[-89.99371482949797, 40.10805528997593], [-89.96898031759407, 40.141700651054755], [-89.7481364613093, 40.126747157241944], [-89.63683115774177, 40.15416189589877], [-89.6014961407362, 40.12176265930434], [-89.5785283796826, 40.091855671678715], [-89.57676162883232, 39.97596609462943], [-89.69690068665123, 39.974719970145024], [-89.70043418835179, 39.91615211937818], [-89.76933747151264, 39.90244475004977], [-89.99371482949797, 39.90119862556537], [-89.99371482949797, 40.10805528997593]]], \"type\": \"Polygon\"}, \"id\": \"Menard\", \"properties\": {\"AFFGEOID\": \"0500000US17129\", \"ALAND\": 814389207, \"AWATER\": 2641080, \"COUNTYFP\": \"129\", \"COUNTYNS\": \"00424266\", \"GEOID\": \"17129\", \"LSAD\": \"06\", \"NAME\": \"Menard\", \"STATEFP\": \"17\"}, \"type\": \"Feature\"}, {\"geometry\": {\"coordinates\": [[[-90.20572493153136, 38.08808750076198], [-90.03611684990464, 38.13544023116922], [-90.03611684990464, 38.22266894507729], [-89.89831028358294, 38.22017669610848], [-89.70220093920207, 38.218930571624085], [-89.59266238648482, 38.218930571624085], [-89.5944291373351, 37.95475218093108], [-89.66333242049595, 37.830139732490984], [-89.68630018154957, 37.79649437141216], [-89.69513393580095, 37.81518623867817], [-89.78170472746459, 37.855062222179], [-89.85060801062544, 37.903661077070645], [-89.92304479548685, 37.871261840476215], [-89.93187854973823, 37.88123083635143], [-89.97428057014491, 37.918614570883456], [-89.95484631079185, 37.96596730129069], [-90.0078488363002, 37.96970567474389], [-90.08028562116161, 38.014566156182326], [-90.12622114326884, 38.049457641745555], [-90.20572493153136, 38.08808750076198]]], \"type\": \"Polygon\"}, \"id\": \"Randolph\", \"properties\": {\"AFFGEOID\": \"0500000US17157\", \"ALAND\": 1490546072, \"AWATER\": 56207428, \"COUNTYFP\": \"157\", \"COUNTYNS\": \"01784967\", \"GEOID\": \"17157\", \"LSAD\": \"06\", \"NAME\": \"Randolph\", \"STATEFP\": \"17\"}, \"type\": \"Feature\"}, {\"geometry\": {\"coordinates\": [[[-89.87180902082878, 40.51304574740624], [-89.76933747151264, 40.552921730907066], [-89.67393292559761, 40.55416785539147], [-89.59089563563454, 40.68501092625357], [-89.55202711692841, 40.70619504248839], [-89.5537938677787, 40.74731715047362], [-89.33118326064364, 40.748563274958016], [-89.32764975894308, 40.61522795512712], [-89.26934698088391, 40.5940438388923], [-89.26404672833307, 40.324880950261694], [-89.6014961407362, 40.31989645232409], [-89.71456819515402, 40.31865032783969], [-89.7163349460043, 40.43578602937338], [-89.92481154633712, 40.43578602937338], [-89.88417627678072, 40.491861631171425], [-89.87180902082878, 40.51304574740624]]], \"type\": \"Polygon\"}, \"id\": \"Tazewell\", \"properties\": {\"AFFGEOID\": \"0500000US17179\", \"ALAND\": 1681105118, \"AWATER\": 22941954, \"COUNTYFP\": \"179\", \"COUNTYNS\": \"01785094\", \"GEOID\": \"17179\", \"LSAD\": \"06\", \"NAME\": \"Tazewell\", \"STATEFP\": \"17\"}, \"type\": \"Feature\"}, {\"geometry\": {\"coordinates\": [[[-87.93368333807358, 40.39964841932575], [-87.93545008892386, 40.485631008749415], [-87.52733064250958, 40.49061550668702], [-87.52733064250958, 40.47690813735861], [-87.53086414421014, 40.25011348119764], [-87.53086414421014, 40.14793127347676], [-87.53263089506042, 40.010857580192656], [-87.53263089506042, 39.88250675829936], [-87.55736540696432, 39.86879938897094], [-87.6156681850235, 39.881260633814954], [-87.93721683977414, 39.878768384846154], [-87.94251709232496, 40.22519099150962], [-87.93368333807358, 40.39964841932575]]], \"type\": \"Polygon\"}, \"id\": \"Vermilion\", \"properties\": {\"AFFGEOID\": \"0500000US17183\", \"ALAND\": 2326763526, \"AWATER\": 7534491, \"COUNTYFP\": \"183\", \"COUNTYNS\": \"01785114\", \"GEOID\": \"17183\", \"LSAD\": \"06\", \"NAME\": \"Vermilion\", \"STATEFP\": \"17\"}, \"type\": \"Feature\"}, {\"geometry\": {\"coordinates\": [[[-88.94073132273216, 42.15169944439349], [-88.70575345964515, 42.1529455688779], [-88.5891479035268, 42.1529455688779], [-88.5891479035268, 42.06571685496983], [-88.60151515947874, 42.01711800007819], [-88.60328191032902, 41.71929424830636], [-88.60328191032902, 41.6308194099139], [-88.71282046304627, 41.629573285429494], [-88.81882551406296, 41.6308194099139], [-88.93896457188188, 41.62832716094509], [-88.94249807358244, 41.89125942715369], [-88.94073132273216, 42.15169944439349]]], \"type\": \"Polygon\"}, \"id\": \"DeKalb\", \"properties\": {\"AFFGEOID\": \"0500000US17037\", \"ALAND\": 1635193208, \"AWATER\": 8568342, \"COUNTYFP\": \"037\", \"COUNTYNS\": \"00422190\", \"GEOID\": \"17037\", \"LSAD\": \"06\", \"NAME\": \"DeKalb\", \"STATEFP\": \"17\"}, \"type\": \"Feature\"}, {\"geometry\": {\"coordinates\": [[[-88.37537105064312, 37.90739945052385], [-88.13685968585557, 37.91487619743025], [-88.05912264844333, 37.86752346702301], [-88.06795640269472, 37.856308346663404], [-88.0290878839886, 37.80023274486536], [-88.05912264844333, 37.742911018582916], [-88.13332618415501, 37.69805053714448], [-88.15982744690919, 37.65443618019045], [-88.13155943330473, 37.57468421318879], [-88.17926170626225, 37.599606702876805], [-88.37537105064312, 37.599606702876805], [-88.37537105064312, 37.90739945052385]]], \"type\": \"Polygon\"}, \"id\": \"Gallatin\", \"properties\": {\"AFFGEOID\": \"0500000US17059\", \"ALAND\": 836749960, \"AWATER\": 13238356, \"COUNTYFP\": \"059\", \"COUNTYNS\": \"00424231\", \"GEOID\": \"17059\", \"LSAD\": \"06\", \"NAME\": \"Gallatin\", \"STATEFP\": \"17\"}, \"type\": \"Feature\"}, {\"geometry\": {\"coordinates\": [[[-90.61384437794563, 39.39651820938298], [-90.61031087624507, 39.45757830911863], [-90.58027611179034, 39.52237678230748], [-90.30112947744638, 39.52113065782308], [-90.15272240602302, 39.52113065782308], [-90.14742215347218, 39.26193676506768], [-90.31349673339832, 39.225799155020056], [-90.31349673339832, 39.17470805115961], [-90.58027611179034, 39.184677047034825], [-90.60324387284396, 39.117386324877174], [-90.61384437794563, 39.14230881456519], [-90.590876616892, 39.19838441636323], [-90.61384437794563, 39.39651820938298]]], \"type\": \"Polygon\"}, \"id\": \"Greene\", \"properties\": {\"AFFGEOID\": \"0500000US17061\", \"ALAND\": 1406413313, \"AWATER\": 8425393, \"COUNTYFP\": \"061\", \"COUNTYNS\": \"00424232\", \"GEOID\": \"17061\", \"LSAD\": \"06\", \"NAME\": \"Greene\", \"STATEFP\": \"17\"}, \"type\": \"Feature\"}, {\"geometry\": {\"coordinates\": [[[-89.4725233286659, 40.92177457828975], [-89.16157517901694, 40.926759076227356], [-89.04850312459912, 40.92551295174295], [-88.93189756848076, 40.92800520071175], [-88.93013081763048, 40.75354777289562], [-88.98843359568967, 40.75230164841122], [-88.98490009398911, 40.66507293450316], [-89.04496962289858, 40.62768919997112], [-89.13507391626275, 40.596536087861104], [-89.26934698088391, 40.5940438388923], [-89.32764975894308, 40.61522795512712], [-89.33118326064364, 40.748563274958016], [-89.5537938677787, 40.74731715047362], [-89.56086087117981, 40.79342375639645], [-89.4725233286659, 40.92177457828975]]], \"type\": \"Polygon\"}, \"id\": \"Woodford\", \"properties\": {\"AFFGEOID\": \"0500000US17203\", \"ALAND\": 1367025008, \"AWATER\": 38410923, \"COUNTYFP\": \"203\", \"COUNTYNS\": \"01785231\", \"GEOID\": \"17203\", \"LSAD\": \"06\", \"NAME\": \"Woodford\", \"STATEFP\": \"17\"}, \"type\": \"Feature\"}, {\"geometry\": {\"coordinates\": [[[-88.36300379469118, 38.910529660466615], [-88.3612370438409, 39.17096967770641], [-88.00788687378527, 39.17470805115961], [-87.95135084657636, 39.17470805115961], [-87.94605059402552, 38.85071568521536], [-88.25876549452477, 38.84697731176216], [-88.36300379469118, 38.851961809699766], [-88.36300379469118, 38.910529660466615]]], \"type\": \"Polygon\"}, \"id\": \"Jasper\", \"properties\": {\"AFFGEOID\": \"0500000US17079\", \"ALAND\": 1280788077, \"AWATER\": 9334509, \"COUNTYFP\": \"079\", \"COUNTYNS\": \"00424241\", \"GEOID\": \"17079\", \"LSAD\": \"06\", \"NAME\": \"Jasper\", \"STATEFP\": \"17\"}, \"type\": \"Feature\"}, {\"geometry\": {\"coordinates\": [[[-90.51313957947977, 39.987181214989036], [-90.43540254206752, 40.01958045158346], [-90.35413200295473, 40.12425490827314], [-90.28699547064416, 40.05447193714669], [-90.13328814666995, 40.06194868405309], [-89.99371482949797, 40.10805528997593], [-89.99371482949797, 39.90119862556537], [-89.99371482949797, 39.872537762424145], [-90.5838096134909, 39.87627613587735], [-90.51137282862949, 39.96475097426982], [-90.51313957947977, 39.987181214989036]]], \"type\": \"Polygon\"}, \"id\": \"Cass\", \"properties\": {\"AFFGEOID\": \"0500000US17017\", \"ALAND\": 973345804, \"AWATER\": 20581547, \"COUNTYFP\": \"017\", \"COUNTYNS\": \"00424210\", \"GEOID\": \"17017\", \"LSAD\": \"06\", \"NAME\": \"Cass\", \"STATEFP\": \"17\"}, \"type\": \"Feature\"}, {\"geometry\": {\"coordinates\": [[[-89.70043418835179, 39.52362290679188], [-89.53259285757535, 39.52486903127628], [-89.53082610672509, 39.34916547897575], [-89.1403741688136, 39.34916547897575], [-89.1403741688136, 39.21832240811365], [-89.25167947238113, 39.21832240811365], [-89.25167947238113, 39.0276653620003], [-89.5855953830837, 39.0289114864847], [-89.63859790859205, 38.99900449885908], [-89.69690068665123, 38.99900449885908], [-89.70043418835179, 39.52362290679188]]], \"type\": \"Polygon\"}, \"id\": \"Montgomery\", \"properties\": {\"AFFGEOID\": \"0500000US17135\", \"ALAND\": 1822539613, \"AWATER\": 15512963, \"COUNTYFP\": \"135\", \"COUNTYNS\": \"01784866\", \"GEOID\": \"17135\", \"LSAD\": \"06\", \"NAME\": \"Montgomery\", \"STATEFP\": \"17\"}, \"type\": \"Feature\"}, {\"geometry\": {\"coordinates\": [[[-88.69515295454349, 38.825793195527346], [-88.69338620369321, 38.91426803391982], [-88.36300379469118, 38.910529660466615], [-88.36300379469118, 38.851961809699766], [-88.25876549452477, 38.84697731176216], [-88.25876549452477, 38.73108773471287], [-88.29763401323089, 38.6338900249296], [-88.25346524197393, 38.59899853936637], [-88.56441339162289, 38.606475286272776], [-88.69868645624405, 38.606475286272776], [-88.69515295454349, 38.825793195527346]]], \"type\": \"Polygon\"}, \"id\": \"Clay\", \"properties\": {\"AFFGEOID\": \"0500000US17025\", \"ALAND\": 1212958829, \"AWATER\": 3278251, \"COUNTYFP\": \"025\", \"COUNTYNS\": \"00424214\", \"GEOID\": \"17025\", \"LSAD\": \"06\", \"NAME\": \"Clay\", \"STATEFP\": \"17\"}, \"type\": \"Feature\"}, {\"geometry\": {\"coordinates\": [[[-88.94073132273216, 42.49562980208815], [-88.77642349365628, 42.49438367760376], [-88.70752021049543, 42.493137553119354], [-88.70575345964515, 42.1529455688779], [-88.94073132273216, 42.15169944439349], [-88.94073132273216, 42.49562980208815]]], \"type\": \"Polygon\"}, \"id\": \"Boone\", \"properties\": {\"AFFGEOID\": \"0500000US17007\", \"ALAND\": 727101583, \"AWATER\": 3339043, \"COUNTYFP\": \"007\", \"COUNTYNS\": \"00424205\", \"GEOID\": \"17007\", \"LSAD\": \"06\", \"NAME\": \"Boone\", \"STATEFP\": \"17\"}, \"type\": \"Feature\"}, {\"geometry\": {\"coordinates\": [[[-91.11736837027492, 40.69996442006638], [-91.11560161942464, 40.7248869097544], [-91.09086710752074, 40.77971638706804], [-91.09263385837102, 40.82083849505327], [-91.04493158541351, 40.86819122546051], [-90.98486205650404, 40.911805582414544], [-90.95129379034876, 40.95417381488418], [-90.94422678694765, 41.01897228807302], [-90.95129379034876, 41.070063391933466], [-90.78521921042261, 41.06881726744906], [-90.78875271212317, 40.63516594687753], [-90.90359151739125, 40.63890432033074], [-91.02196382435989, 40.63516594687753], [-91.18450490258549, 40.637658195846335], [-91.12090187197548, 40.67254968140956], [-91.11736837027492, 40.69996442006638]]], \"type\": \"Polygon\"}, \"id\": \"Henderson\", \"properties\": {\"AFFGEOID\": \"0500000US17071\", \"ALAND\": 981273714, \"AWATER\": 42340542, \"COUNTYFP\": \"071\", \"COUNTYNS\": \"00424237\", \"GEOID\": \"17071\", \"LSAD\": \"06\", \"NAME\": \"Henderson\", \"STATEFP\": \"17\"}, \"type\": \"Feature\"}, {\"geometry\": {\"coordinates\": [[[-88.80645825811101, 39.21707628362925], [-88.47077559655816, 39.21583015914484], [-88.47077559655816, 39.17221580219081], [-88.3612370438409, 39.17096967770641], [-88.36300379469118, 38.910529660466615], [-88.69338620369321, 38.91426803391982], [-88.80822500896129, 38.91177578495101], [-88.80645825811101, 39.21707628362925]]], \"type\": \"Polygon\"}, \"id\": \"Effingham\", \"properties\": {\"AFFGEOID\": \"0500000US17049\", \"ALAND\": 1240027660, \"AWATER\": 3183217, \"COUNTYFP\": \"049\", \"COUNTYNS\": \"00424226\", \"GEOID\": \"17049\", \"LSAD\": \"06\", \"NAME\": \"Effingham\", \"STATEFP\": \"17\"}, \"type\": \"Feature\"}, {\"geometry\": {\"coordinates\": [[[-88.70575345964515, 38.12422511080961], [-88.70221995794459, 38.25631430615611], [-88.3700707980923, 38.25506818167171], [-88.37537105064312, 37.90739945052385], [-88.70752021049543, 37.906153326039444], [-88.70575345964515, 38.12422511080961]]], \"type\": \"Polygon\"}, \"id\": \"Hamilton\", \"properties\": {\"AFFGEOID\": \"0500000US17065\", \"ALAND\": 1125778616, \"AWATER\": 3174312, \"COUNTYFP\": \"065\", \"COUNTYNS\": \"00424234\", \"GEOID\": \"17065\", \"LSAD\": \"06\", \"NAME\": \"Hamilton\", \"STATEFP\": \"17\"}, \"type\": \"Feature\"}, {\"geometry\": {\"coordinates\": [[[-91.36471348931386, 39.75789430985926], [-90.91595877334319, 39.75664818537486], [-90.91595877334319, 39.84512302376733], [-90.88945751058903, 39.84013852582972], [-90.57144235753894, 39.83889240134532], [-90.59794362029312, 39.789047421969286], [-90.64564589325063, 39.70431095703002], [-90.58027611179034, 39.52237678230748], [-90.61031087624507, 39.45757830911863], [-90.61384437794563, 39.39651820938298], [-90.93539303269625, 39.400256582836185], [-90.93715978354653, 39.40150270732059], [-91.03786458201239, 39.44885543772782], [-91.06436584476657, 39.49496204365066], [-91.09970086177213, 39.53857640060469], [-91.14740313472964, 39.546053147511095], [-91.17390439748382, 39.59215975343393], [-91.18273815173521, 39.598390375855935], [-91.27637594679996, 39.66692722249799], [-91.30641071125468, 39.68686521424841], [-91.36824699101442, 39.72923344671804], [-91.36471348931386, 39.75789430985926]]], \"type\": \"Polygon\"}, \"id\": \"Pike\", \"properties\": {\"AFFGEOID\": \"0500000US17149\", \"ALAND\": 2153317670, \"AWATER\": 45283711, \"COUNTYFP\": \"149\", \"COUNTYNS\": \"01784941\", \"GEOID\": \"17149\", \"LSAD\": \"06\", \"NAME\": \"Pike\", \"STATEFP\": \"17\"}, \"type\": \"Feature\"}, {\"geometry\": {\"coordinates\": [[[-88.14746019095725, 38.56909155174075], [-87.95488434827692, 38.57033767622515], [-87.97608535848025, 38.399618621862224], [-87.95135084657636, 38.28995966723494], [-87.99021936528248, 38.25880655512491], [-88.02732113313832, 38.25506818167171], [-88.15099369265779, 38.25631430615611], [-88.14746019095725, 38.56909155174075]]], \"type\": \"Polygon\"}, \"id\": \"Edwards\", \"properties\": {\"AFFGEOID\": \"0500000US17047\", \"ALAND\": 576061731, \"AWATER\": 781203, \"COUNTYFP\": \"047\", \"COUNTYNS\": \"00424225\", \"GEOID\": \"17047\", \"LSAD\": \"06\", \"NAME\": \"Edwards\", \"STATEFP\": \"17\"}, \"type\": \"Feature\"}, {\"geometry\": {\"coordinates\": [[[-89.98488107524658, 40.71242566491039], [-89.98488107524658, 40.97411180663459], [-89.63859790859205, 40.97411180663459], [-89.447788816762, 40.97286568215019], [-89.4725233286659, 40.92177457828975], [-89.56086087117981, 40.79342375639645], [-89.5537938677787, 40.74731715047362], [-89.55202711692841, 40.70619504248839], [-89.59089563563454, 40.68501092625357], [-89.67393292559761, 40.55416785539147], [-89.76933747151264, 40.552921730907066], [-89.87180902082878, 40.51304574740624], [-89.87357577167906, 40.62395082651792], [-89.98841457694714, 40.62519695100232], [-89.98488107524658, 40.71242566491039]]], \"type\": \"Polygon\"}, \"id\": \"Peoria\", \"properties\": {\"AFFGEOID\": \"0500000US17143\", \"ALAND\": 1603693530, \"AWATER\": 29505061, \"COUNTYFP\": \"143\", \"COUNTYNS\": \"01784920\", \"GEOID\": \"17143\", \"LSAD\": \"06\", \"NAME\": \"Peoria\", \"STATEFP\": \"17\"}, \"type\": \"Feature\"}, {\"geometry\": {\"coordinates\": [[[-87.95135084657636, 39.17470805115961], [-87.6563034545799, 39.17221580219081], [-87.63863594607712, 39.157262308378], [-87.62626869012517, 39.102432831064355], [-87.57326616461683, 39.05757234962592], [-87.57856641716765, 39.00149674782788], [-87.52909739335986, 38.97158976020226], [-87.52733064250958, 38.90803741149781], [-87.52909739335986, 38.90554516252901], [-87.54676490186264, 38.875638174903386], [-87.5343976459107, 38.851961809699766], [-87.90894882616968, 38.85071568521536], [-87.94605059402552, 38.85071568521536], [-87.95135084657636, 39.17470805115961]]], \"type\": \"Polygon\"}, \"id\": \"Crawford\", \"properties\": {\"AFFGEOID\": \"0500000US17033\", \"ALAND\": 1148997685, \"AWATER\": 5667188, \"COUNTYFP\": \"033\", \"COUNTYNS\": \"00424218\", \"GEOID\": \"17033\", \"LSAD\": \"06\", \"NAME\": \"Crawford\", \"STATEFP\": \"17\"}, \"type\": \"Feature\"}, {\"geometry\": {\"coordinates\": [[[-88.93013081763048, 37.30302907558938], [-88.90892980742714, 37.33542831218381], [-88.71105371219599, 37.33792056115261], [-88.49020985591122, 37.159724759883275], [-88.49020985591122, 37.0675115480376], [-88.53261187631789, 37.0675115480376], [-88.56087988992235, 37.083711166334815], [-88.61211566458041, 37.112372029476035], [-88.69515295454349, 37.14103289261726], [-88.75345573260267, 37.15474026194567], [-88.83649302256575, 37.1971084944153], [-88.9283640667802, 37.227015482040926], [-88.93013081763048, 37.30302907558938]]], \"type\": \"Polygon\"}, \"id\": \"Massac\", \"properties\": {\"AFFGEOID\": \"0500000US17127\", \"ALAND\": 614390802, \"AWATER\": 11904133, \"COUNTYFP\": \"127\", \"COUNTYNS\": \"01784730\", \"GEOID\": \"17127\", \"LSAD\": \"06\", \"NAME\": \"Massac\", \"STATEFP\": \"17\"}, \"type\": \"Feature\"}, {\"geometry\": {\"coordinates\": [[[-89.47429007951618, 37.33542831218381], [-89.24991272153085, 37.33542831218381], [-89.26227997748279, 37.10614140705403], [-89.16687543156777, 37.07249604597521], [-89.12977366371193, 37.01766656866156], [-89.13330716541249, 36.981528958613936], [-89.19514344517222, 36.990251830004745], [-89.25874647578223, 37.01517431969276], [-89.30821549959002, 37.02888168902117], [-89.35945127424809, 37.042589058349584], [-89.38418578615199, 37.103649158085226], [-89.4566225710134, 37.188385623024494], [-89.47075657781562, 37.253184096213346], [-89.48312383376756, 37.26066084311975], [-89.51669209992285, 37.281844959354565], [-89.49549108971952, 37.325459316308596], [-89.47429007951618, 37.33542831218381]]], \"type\": \"Polygon\"}, \"id\": \"Alexander\", \"properties\": {\"AFFGEOID\": \"0500000US17003\", \"ALAND\": 609996942, \"AWATER\": 44237191, \"COUNTYFP\": \"003\", \"COUNTYNS\": \"00424203\", \"GEOID\": \"17003\", \"LSAD\": \"06\", \"NAME\": \"Alexander\", \"STATEFP\": \"17\"}, \"type\": \"Feature\"}, {\"geometry\": {\"coordinates\": [[[-89.99371482949797, 39.90119862556537], [-89.76933747151264, 39.90244475004977], [-89.70043418835179, 39.91615211937818], [-89.69690068665123, 39.974719970145024], [-89.57676162883232, 39.97596609462943], [-89.48489058461784, 39.97596609462943], [-89.40538679635533, 39.91739824386258], [-89.21811120622584, 39.91615211937818], [-89.21811120622584, 39.8127237871729], [-89.24814597068057, 39.82518503201691], [-89.30468199788947, 39.77534005264087], [-89.42658780655867, 39.74667918949965], [-89.42658780655867, 39.68437296527961], [-89.479590332067, 39.68437296527961], [-89.479590332067, 39.64200473280997], [-89.53435960842563, 39.64200473280997], [-89.53435960842563, 39.613343869668746], [-89.53259285757535, 39.52486903127628], [-89.70043418835179, 39.52362290679188], [-89.92481154633712, 39.52237678230748], [-89.99371482949797, 39.78530904851608], [-89.99371482949797, 39.872537762424145], [-89.99371482949797, 39.90119862556537]]], \"type\": \"Polygon\"}, \"id\": \"Sangamon\", \"properties\": {\"AFFGEOID\": \"0500000US17167\", \"ALAND\": 2248891494, \"AWATER\": 22577723, \"COUNTYFP\": \"167\", \"COUNTYNS\": \"01785010\", \"GEOID\": \"17167\", \"LSAD\": \"06\", \"NAME\": \"Sangamon\", \"STATEFP\": \"17\"}, \"type\": \"Feature\"}, {\"geometry\": {\"coordinates\": [[[-89.21811120622584, 39.8127237871729], [-89.14214091966387, 39.800262542328895], [-89.1403741688136, 39.65571210213838], [-89.02553536354552, 39.654465977653985], [-89.02553536354552, 39.34667323000694], [-89.1403741688136, 39.34916547897575], [-89.53082610672509, 39.34916547897575], [-89.53259285757535, 39.52486903127628], [-89.53435960842563, 39.613343869668746], [-89.53435960842563, 39.64200473280997], [-89.479590332067, 39.64200473280997], [-89.479590332067, 39.68437296527961], [-89.42658780655867, 39.68437296527961], [-89.42658780655867, 39.74667918949965], [-89.30468199788947, 39.77534005264087], [-89.24814597068057, 39.82518503201691], [-89.21811120622584, 39.8127237871729]]], \"type\": \"Polygon\"}, \"id\": \"Christian\", \"properties\": {\"AFFGEOID\": \"0500000US17021\", \"ALAND\": 1837278859, \"AWATER\": 16221514, \"COUNTYFP\": \"021\", \"COUNTYNS\": \"00424212\", \"GEOID\": \"17021\", \"LSAD\": \"06\", \"NAME\": \"Christian\", \"STATEFP\": \"17\"}, \"type\": \"Feature\"}, {\"geometry\": {\"coordinates\": [[[-91.07496634986823, 41.334241782626464], [-91.07319959901795, 41.334241782626464], [-90.43363579121724, 41.32801116020446], [-90.4371692929178, 41.151061483419525], [-90.43893604376808, 41.06383276951146], [-90.78521921042261, 41.06881726744906], [-90.95129379034876, 41.070063391933466], [-90.95129379034876, 41.072555640902266], [-90.9565940428996, 41.1111854999187], [-90.997229312456, 41.16352272826354], [-91.04139808371295, 41.16601497723234], [-91.08203335326935, 41.21461383212397], [-91.11383486857436, 41.250751442171605], [-91.07496634986823, 41.334241782626464]]], \"type\": \"Polygon\"}, \"id\": \"Mercer\", \"properties\": {\"AFFGEOID\": \"0500000US17131\", \"ALAND\": 1453500382, \"AWATER\": 19409929, \"COUNTYFP\": \"131\", \"COUNTYNS\": \"01784750\", \"GEOID\": \"17131\", \"LSAD\": \"06\", \"NAME\": \"Mercer\", \"STATEFP\": \"17\"}, \"type\": \"Feature\"}, {\"geometry\": {\"coordinates\": [[[-89.68630018154957, 37.79649437141216], [-89.66333242049595, 37.830139732490984], [-89.5944291373351, 37.95475218093108], [-89.17747593666944, 37.949767682993475], [-89.15097467391527, 37.944783185055876], [-89.15274142476554, 37.862538969085406], [-89.15450817561582, 37.60085282736121], [-89.45308906931284, 37.60085282736121], [-89.49902459142007, 37.570945839735586], [-89.49549108971952, 37.58091483561079], [-89.50609159482119, 37.62577531704923], [-89.52022560162341, 37.696804412660086], [-89.59089563563454, 37.7242191513169], [-89.66686592219651, 37.760356761364534], [-89.68630018154957, 37.79649437141216]]], \"type\": \"Polygon\"}, \"id\": \"Jackson\", \"properties\": {\"AFFGEOID\": \"0500000US17077\", \"ALAND\": 1512739085, \"AWATER\": 47416201, \"COUNTYFP\": \"077\", \"COUNTYNS\": \"00424240\", \"GEOID\": \"17077\", \"LSAD\": \"06\", \"NAME\": \"Jackson\", \"STATEFP\": \"17\"}, \"type\": \"Feature\"}, {\"geometry\": {\"coordinates\": [[[-88.70928696134571, 37.599606702876805], [-88.41247281849897, 37.60085282736121], [-88.41600632019953, 37.42141090160747], [-88.41953982190009, 37.422657026091876], [-88.46547534400732, 37.40022678537266], [-88.48667635421066, 37.34041281012141], [-88.5149443678151, 37.290567830745374], [-88.47254234740844, 37.22078485961892], [-88.42484007445091, 37.14975576400806], [-88.44427433380397, 37.09866466014763], [-88.476075849109, 37.068757672522004], [-88.48490960336038, 37.068757672522004], [-88.49020985591122, 37.0675115480376], [-88.49020985591122, 37.159724759883275], [-88.71105371219599, 37.33792056115261], [-88.70928696134571, 37.599606702876805]]], \"type\": \"Polygon\"}, \"id\": \"Pope\", \"properties\": {\"AFFGEOID\": \"0500000US17151\", \"ALAND\": 955109670, \"AWATER\": 14328523, \"COUNTYFP\": \"151\", \"COUNTYNS\": \"00424277\", \"GEOID\": \"17151\", \"LSAD\": \"06\", \"NAME\": \"Pope\", \"STATEFP\": \"17\"}, \"type\": \"Feature\"}, {\"geometry\": {\"coordinates\": [[[-87.93721683977414, 39.878768384846154], [-87.6156681850235, 39.881260633814954], [-87.55736540696432, 39.86879938897094], [-87.53263089506042, 39.88250675829936], [-87.53263089506042, 39.66568109801359], [-87.53263089506042, 39.60835937173115], [-87.53086414421014, 39.47751630086905], [-87.6881049698849, 39.487485296744254], [-87.96018460082774, 39.48125467432225], [-87.96725160422886, 39.68686521424841], [-87.96901835507914, 39.791539670938086], [-87.93721683977414, 39.878768384846154]]], \"type\": \"Polygon\"}, \"id\": \"Edgar\", \"properties\": {\"AFFGEOID\": \"0500000US17045\", \"ALAND\": 1614531795, \"AWATER\": 1610634, \"COUNTYFP\": \"045\", \"COUNTYNS\": \"00424224\", \"GEOID\": \"17045\", \"LSAD\": \"06\", \"NAME\": \"Edgar\", \"STATEFP\": \"17\"}, \"type\": \"Feature\"}, {\"geometry\": {\"coordinates\": [[[-90.93539303269625, 39.400256582836185], [-90.61384437794563, 39.39651820938298], [-90.590876616892, 39.19838441636323], [-90.61384437794563, 39.14230881456519], [-90.60324387284396, 39.117386324877174], [-90.5343405896831, 38.95912851535825], [-90.46720405737253, 38.96909751123346], [-90.45130329972002, 38.96162076432705], [-90.46720405737253, 38.96162076432705], [-90.49900557267755, 38.910529660466615], [-90.55554159988644, 38.87065367696578], [-90.59441011859256, 38.875638174903386], [-90.6562463983523, 38.92049865634182], [-90.66154665090313, 38.93420602567023], [-90.67568065770536, 38.98405100504627], [-90.7127824255612, 39.05383397617272], [-90.6809809102562, 39.10118670657996], [-90.70748217301036, 39.151031685956], [-90.72338293066288, 39.22455303053565], [-90.73044993406398, 39.25570614264568], [-90.83998848678124, 39.34044260758494], [-90.93539303269625, 39.400256582836185]]], \"type\": \"Polygon\"}, \"id\": \"Calhoun\", \"properties\": {\"AFFGEOID\": \"0500000US17013\", \"ALAND\": 657402916, \"AWATER\": 77057164, \"COUNTYFP\": \"013\", \"COUNTYNS\": \"00424208\", \"GEOID\": \"17013\", \"LSAD\": \"06\", \"NAME\": \"Calhoun\", \"STATEFP\": \"17\"}, \"type\": \"Feature\"}, {\"geometry\": {\"coordinates\": [[[-90.44953654886974, 40.27628209537006], [-90.44423629631892, 40.62768919997112], [-90.44423629631892, 40.71491791387919], [-89.98488107524658, 40.71242566491039], [-89.98841457694714, 40.62519695100232], [-89.87357577167906, 40.62395082651792], [-89.87180902082878, 40.51304574740624], [-89.88417627678072, 40.491861631171425], [-89.92481154633712, 40.43578602937338], [-90.03788360075492, 40.374725929637734], [-90.11915413986773, 40.235159987384826], [-90.19865792813025, 40.18406888352439], [-90.45130329972002, 40.18905338146199], [-90.44953654886974, 40.27628209537006]]], \"type\": \"Polygon\"}, \"id\": \"Fulton\", \"properties\": {\"AFFGEOID\": \"0500000US17057\", \"ALAND\": 2241880791, \"AWATER\": 43973316, \"COUNTYFP\": \"057\", \"COUNTYNS\": \"00424230\", \"GEOID\": \"17057\", \"LSAD\": \"06\", \"NAME\": \"Fulton\", \"STATEFP\": \"17\"}, \"type\": \"Feature\"}, {\"geometry\": {\"coordinates\": [[[-89.14390767051415, 38.5030469540675], [-89.13860741796331, 38.73607223265048], [-89.13860741796331, 38.82454707104294], [-88.69515295454349, 38.825793195527346], [-88.69868645624405, 38.606475286272776], [-88.69868645624405, 38.47438609092628], [-89.14567442136443, 38.47313996644188], [-89.14390767051415, 38.5030469540675]]], \"type\": \"Polygon\"}, \"id\": \"Marion\", \"properties\": {\"AFFGEOID\": \"0500000US17121\", \"ALAND\": 1482442356, \"AWATER\": 9487928, \"COUNTYFP\": \"121\", \"COUNTYNS\": \"00424259\", \"GEOID\": \"17121\", \"LSAD\": \"06\", \"NAME\": \"Marion\", \"STATEFP\": \"17\"}, \"type\": \"Feature\"}, {\"geometry\": {\"coordinates\": [[[-88.69868645624405, 38.47438609092628], [-88.69868645624405, 38.606475286272776], [-88.56441339162289, 38.606475286272776], [-88.25346524197393, 38.59899853936637], [-88.14746019095725, 38.597752414881974], [-88.14746019095725, 38.56909155174075], [-88.15099369265779, 38.25631430615611], [-88.3700707980923, 38.25506818167171], [-88.70221995794459, 38.25631430615611], [-88.69868645624405, 38.47438609092628]]], \"type\": \"Polygon\"}, \"id\": \"Wayne\", \"properties\": {\"AFFGEOID\": \"0500000US17191\", \"ALAND\": 1848769742, \"AWATER\": 4331009, \"COUNTYFP\": \"191\", \"COUNTYNS\": \"00424296\", \"GEOID\": \"17191\", \"LSAD\": \"06\", \"NAME\": \"Wayne\", \"STATEFP\": \"17\"}, \"type\": \"Feature\"}, {\"geometry\": {\"coordinates\": [[[-88.2393312351717, 42.15419169336229], [-88.20046271646558, 42.15419169336229], [-88.02378763143777, 42.1529455688779], [-88.00435337208471, 42.1529455688779], [-87.94605059402552, 42.1529455688779], [-87.75877500389603, 42.15169944439349], [-87.74110749539325, 42.12802307918987], [-87.68987172073518, 42.081916473267036], [-87.68280471733407, 42.07568585084503], [-87.66867071053184, 42.0283331204378], [-87.63510244437656, 41.93238153513892], [-87.6245019392749, 41.9062129209665], [-87.6245019392749, 41.903720671997704], [-87.61213468332295, 41.892505551638095], [-87.61390143417321, 41.883782680247286], [-87.6156681850235, 41.87007531091888], [-87.61036793247267, 41.845152821230855], [-87.58916692226933, 41.81026133566763], [-87.58209991886821, 41.799046215308024], [-87.56089890866487, 41.7654008542292], [-87.53086414421014, 41.74795511144758], [-87.52379714080904, 41.723032621759565], [-87.52379714080904, 41.70807912794675], [-87.52556389165932, 41.529883326677414], [-87.52556389165932, 41.47131547591057], [-87.78704301750048, 41.47006935142617], [-87.79057651920104, 41.52863720219302], [-87.81177752940438, 41.55854418981864], [-87.90894882616968, 41.55729806533424], [-87.91248232787024, 41.6432806547579], [-88.0290878839886, 41.66944926893032], [-88.0290878839886, 41.68440276274313], [-88.00435337208471, 41.685648887227536], [-87.98315236188137, 41.685648887227536], [-87.9796188601808, 41.68689501171194], [-87.96725160422886, 41.68689501171194], [-87.95488434827692, 41.69312563413394], [-87.94958409572608, 41.694371758618345], [-87.94251709232496, 41.69811013207155], [-87.94075034147468, 41.70309463000915], [-87.91424907872052, 41.71929424830636], [-87.9160158295708, 41.7716314766512], [-87.91778258042108, 41.790323343917215], [-87.91778258042108, 41.79530784185482], [-87.92131608212163, 41.9062129209665], [-87.92131608212163, 41.94110440652973], [-87.93898359062442, 41.99344163487457], [-88.17396145371141, 41.98721101245257], [-88.2640657470756, 41.985964887968166], [-88.2640657470756, 42.014625751109385], [-88.2640657470756, 42.06571685496983], [-88.2393312351717, 42.09188546914225], [-88.2393312351717, 42.15419169336229]]], \"type\": \"Polygon\"}, \"id\": \"Cook\", \"properties\": {\"AFFGEOID\": \"0500000US17031\", \"ALAND\": 2448400204, \"AWATER\": 1785626819, \"COUNTYFP\": \"031\", \"COUNTYNS\": \"01784766\", \"GEOID\": \"17031\", \"LSAD\": \"06\", \"NAME\": \"Cook\", \"STATEFP\": \"17\"}, \"type\": \"Feature\"}, {\"geometry\": {\"coordinates\": [[[-91.50605355733612, 40.2002685018216], [-90.91242527164265, 40.19279175491519], [-90.91419202249293, 40.10431691652273], [-90.91595877334319, 39.84512302376733], [-90.91595877334319, 39.75664818537486], [-91.36471348931386, 39.75789430985926], [-91.36117998761331, 39.78655517300048], [-91.39828175546916, 39.820200534079305], [-91.43538352332499, 39.84512302376733], [-91.42831651992388, 39.90742924798737], [-91.43715027417527, 39.9448129825194], [-91.43715027417527, 39.946059107003805], [-91.48485254713279, 40.01833432709906], [-91.49721980308473, 40.07814830235031], [-91.51135380988696, 40.170361514195974], [-91.50605355733612, 40.2002685018216]]], \"type\": \"Polygon\"}, \"id\": \"Adams\", \"properties\": {\"AFFGEOID\": \"0500000US17001\", \"ALAND\": 2214972286, \"AWATER\": 41784365, \"COUNTYFP\": \"001\", \"COUNTYNS\": \"00424202\", \"GEOID\": \"17001\", \"LSAD\": \"06\", \"NAME\": \"Adams\", \"STATEFP\": \"17\"}, \"type\": \"Feature\"}, {\"geometry\": {\"coordinates\": [[[-88.2640657470756, 41.985964887968166], [-88.17396145371141, 41.98721101245257], [-87.93898359062442, 41.99344163487457], [-87.92131608212163, 41.94110440652973], [-87.92131608212163, 41.9062129209665], [-87.91778258042108, 41.79530784185482], [-87.91778258042108, 41.790323343917215], [-87.9160158295708, 41.7716314766512], [-87.91424907872052, 41.71929424830636], [-87.94075034147468, 41.70309463000915], [-87.94251709232496, 41.69811013207155], [-87.94958409572608, 41.694371758618345], [-87.95488434827692, 41.69312563413394], [-87.96725160422886, 41.68689501171194], [-87.9796188601808, 41.68689501171194], [-87.98315236188137, 41.685648887227536], [-88.00435337208471, 41.685648887227536], [-88.0290878839886, 41.68440276274313], [-88.03085463483887, 41.72801711969717], [-88.14922694180751, 41.725524870728364], [-88.26229899622533, 41.72427874624397], [-88.26229899622533, 41.81150746015203], [-88.26229899622533, 41.88253655576288], [-88.26229899622533, 41.8987361740601], [-88.2640657470756, 41.985964887968166]]], \"type\": \"Polygon\"}, \"id\": \"DuPage\", \"properties\": {\"AFFGEOID\": \"0500000US17043\", \"ALAND\": 848258564, \"AWATER\": 22857568, \"COUNTYFP\": \"043\", \"COUNTYNS\": \"00422191\", \"GEOID\": \"17043\", \"LSAD\": \"06\", \"NAME\": \"DuPage\", \"STATEFP\": \"17\"}, \"type\": \"Feature\"}, {\"geometry\": {\"coordinates\": [[[-90.78521921042261, 41.453869733128954], [-90.70041516960926, 41.45511585761336], [-90.61737787964618, 41.48502284523898], [-90.57144235753894, 41.51742208183341], [-90.51313957947977, 41.51991433080221], [-90.46013705397142, 41.52365270425541], [-90.41596828271446, 41.56352868775624], [-90.36296575720611, 41.579728306053454], [-90.33823124530223, 41.59842017331947], [-90.33646449445195, 41.66446477099272], [-90.31349673339832, 41.694371758618345], [-90.31172998254804, 41.72801711969717], [-90.30996323169776, 41.74172448902558], [-90.24812695193803, 41.77910822355761], [-90.24105994853691, 41.78284659701081], [-90.22869269258497, 41.67443376686793], [-90.15978940942412, 41.6432806547579], [-90.18452392132802, 41.58471280399106], [-90.19512442642969, 41.54109844703702], [-90.33293099275139, 41.5149298328646], [-90.43186904036696, 41.45760810658216], [-90.43363579121724, 41.32801116020446], [-91.07319959901795, 41.334241782626464], [-91.07143284816767, 41.34047240504847], [-91.06436584476657, 41.36913326818969], [-91.02726407691073, 41.42396274550333], [-90.96719454800126, 41.43019336792534], [-90.92479252759459, 41.42396274550333], [-90.8664897495354, 41.448885235191355], [-90.78521921042261, 41.453869733128954]]], \"type\": \"Polygon\"}, \"id\": \"RockIsland\", \"properties\": {\"AFFGEOID\": \"0500000US17161\", \"ALAND\": 1107115474, \"AWATER\": 61715046, \"COUNTYFP\": \"161\", \"COUNTYNS\": \"00424282\", \"GEOID\": \"17161\", \"LSAD\": \"06\", \"NAME\": \"Rock Island\", \"STATEFP\": \"17\"}, \"type\": \"Feature\"}, {\"geometry\": {\"coordinates\": [[[-87.90894882616968, 38.85071568521536], [-87.5343976459107, 38.851961809699766], [-87.52203038995876, 38.82703932001175], [-87.49906262890514, 38.75725634888529], [-87.54499815101236, 38.67750438188364], [-87.62096843757433, 38.638874522867205], [-87.63863594607712, 38.58778341900676], [-87.64923645117878, 38.56659930277195], [-87.91248232787024, 38.57033767622515], [-87.90894882616968, 38.85071568521536]]], \"type\": \"Polygon\"}, \"id\": \"Lawrence\", \"properties\": {\"AFFGEOID\": \"0500000US17101\", \"ALAND\": 963936881, \"AWATER\": 5077778, \"COUNTYFP\": \"101\", \"COUNTYNS\": \"00424252\", \"GEOID\": \"17101\", \"LSAD\": \"06\", \"NAME\": \"Lawrence\", \"STATEFP\": \"17\"}, \"type\": \"Feature\"}, {\"geometry\": {\"coordinates\": [[[-89.21811120622584, 39.91615211937818], [-89.14390767051415, 39.91739824386258], [-89.14567442136443, 40.048241314724685], [-88.74638872920156, 40.05447193714669], [-88.74638872920156, 39.791539670938086], [-88.81352526151213, 39.741694691562046], [-88.81175851066185, 39.65321985316958], [-89.02553536354552, 39.654465977653985], [-89.1403741688136, 39.65571210213838], [-89.14214091966387, 39.800262542328895], [-89.21811120622584, 39.8127237871729], [-89.21811120622584, 39.91615211937818]]], \"type\": \"Polygon\"}, \"id\": \"Macon\", \"properties\": {\"AFFGEOID\": \"0500000US17115\", \"ALAND\": 1503973502, \"AWATER\": 13409564, \"COUNTYFP\": \"115\", \"COUNTYNS\": \"00424256\", \"GEOID\": \"17115\", \"LSAD\": \"06\", \"NAME\": \"Macon\", \"STATEFP\": \"17\"}, \"type\": \"Feature\"}, {\"geometry\": {\"coordinates\": [[[-89.6014961407362, 40.31989645232409], [-89.26404672833307, 40.324880950261694], [-89.26404672833307, 40.28126659330766], [-89.14920792306499, 40.28251271779206], [-89.14920792306499, 40.28126659330766], [-89.14567442136443, 40.048241314724685], [-89.14390767051415, 39.91739824386258], [-89.21811120622584, 39.91615211937818], [-89.40538679635533, 39.91739824386258], [-89.48489058461784, 39.97596609462943], [-89.57676162883232, 39.97596609462943], [-89.5785283796826, 40.091855671678715], [-89.6014961407362, 40.12176265930434], [-89.6014961407362, 40.31989645232409]]], \"type\": \"Polygon\"}, \"id\": \"Logan\", \"properties\": {\"AFFGEOID\": \"0500000US17107\", \"ALAND\": 1600758860, \"AWATER\": 2252736, \"COUNTYFP\": \"107\", \"COUNTYNS\": \"00424255\", \"GEOID\": \"17107\", \"LSAD\": \"06\", \"NAME\": \"Logan\", \"STATEFP\": \"17\"}, \"type\": \"Feature\"}, {\"geometry\": {\"coordinates\": [[[-87.99021936528248, 38.25880655512491], [-87.95135084657636, 38.28995966723494], [-87.97608535848025, 38.399618621862224], [-87.95488434827692, 38.57033767622515], [-87.91248232787024, 38.57033767622515], [-87.64923645117878, 38.56659930277195], [-87.66160370713074, 38.54043068859953], [-87.65453670372962, 38.51176982545831], [-87.71460623263908, 38.47937058886388], [-87.74110749539325, 38.43575623190985], [-87.75170800049492, 38.41831048912824], [-87.77997601409938, 38.370957758721], [-87.83297853960772, 38.30740541001655], [-87.90894882616968, 38.26877555100012], [-87.96901835507914, 38.236376314405696], [-87.99021936528248, 38.25880655512491]]], \"type\": \"Polygon\"}, \"id\": \"Wabash\", \"properties\": {\"AFFGEOID\": \"0500000US17185\", \"ALAND\": 578224627, \"AWATER\": 11012015, \"COUNTYFP\": \"185\", \"COUNTYNS\": \"00424293\", \"GEOID\": \"17185\", \"LSAD\": \"06\", \"NAME\": \"Wabash\", \"STATEFP\": \"17\"}, \"type\": \"Feature\"}, {\"geometry\": {\"coordinates\": [[[-91.49721980308473, 40.248867356713234], [-91.49368630138417, 40.270051472948055], [-91.46895178948027, 40.322388701292894], [-91.41948276567248, 40.37846430309094], [-91.37354724356526, 40.39840229484135], [-91.38061424696637, 40.45198564767059], [-91.36824699101442, 40.51055349843744], [-91.3947482537686, 40.53422986364105], [-91.37354724356526, 40.58282871853269], [-91.33997897740997, 40.613981830642714], [-91.2481079331955, 40.63890432033074], [-91.18627165343577, 40.637658195846335], [-91.18450490258549, 40.637658195846335], [-91.02196382435989, 40.63516594687753], [-90.90359151739125, 40.63890432033074], [-90.90889176994209, 40.28375884227646], [-90.91242527164265, 40.19279175491519], [-91.50605355733612, 40.2002685018216], [-91.49721980308473, 40.248867356713234]]], \"type\": \"Polygon\"}, \"id\": \"Hancock\", \"properties\": {\"AFFGEOID\": \"0500000US17067\", \"ALAND\": 2055740567, \"AWATER\": 53535827, \"COUNTYFP\": \"067\", \"COUNTYNS\": \"00424235\", \"GEOID\": \"17067\", \"LSAD\": \"06\", \"NAME\": \"Hancock\", \"STATEFP\": \"17\"}, \"type\": \"Feature\"}, {\"geometry\": {\"coordinates\": [[[-89.26934698088391, 40.5940438388923], [-89.13507391626275, 40.596536087861104], [-89.04496962289858, 40.62768919997112], [-88.98490009398911, 40.66507293450316], [-88.98843359568967, 40.75230164841122], [-88.93013081763048, 40.75354777289562], [-88.58561440182623, 40.757286146348825], [-88.57501389672457, 40.616474079611514], [-88.46017509145648, 40.61772020409592], [-88.46017509145648, 40.39840229484135], [-88.46017509145648, 40.28126659330766], [-88.57501389672457, 40.28126659330766], [-88.91953031252882, 40.28251271779206], [-89.14920792306499, 40.28126659330766], [-89.14920792306499, 40.28251271779206], [-89.26404672833307, 40.28126659330766], [-89.26404672833307, 40.324880950261694], [-89.26934698088391, 40.5940438388923]]], \"type\": \"Polygon\"}, \"id\": \"McLean\", \"properties\": {\"AFFGEOID\": \"0500000US17113\", \"ALAND\": 3064861155, \"AWATER\": 7562638, \"COUNTYFP\": \"113\", \"COUNTYNS\": \"01784833\", \"GEOID\": \"17113\", \"LSAD\": \"06\", \"NAME\": \"McLean\", \"STATEFP\": \"17\"}, \"type\": \"Feature\"}, {\"geometry\": {\"coordinates\": [[[-87.96018460082774, 39.48125467432225], [-87.6881049698849, 39.487485296744254], [-87.53086414421014, 39.47751630086905], [-87.53086414421014, 39.47003955396264], [-87.53086414421014, 39.347919354491346], [-87.57856641716765, 39.34044260758494], [-87.59976742737099, 39.31302786892812], [-87.59446717482017, 39.25944451609888], [-87.59270042396989, 39.24822939573927], [-87.57679966631738, 39.210845661207244], [-87.6404026969274, 39.16723130425321], [-87.63863594607712, 39.157262308378], [-87.6563034545799, 39.17221580219081], [-87.95135084657636, 39.17470805115961], [-88.00788687378527, 39.17470805115961], [-88.01318712633609, 39.37907246660137], [-88.01495387718637, 39.48125467432225], [-87.96018460082774, 39.48125467432225]]], \"type\": \"Polygon\"}, \"id\": \"Clark\", \"properties\": {\"AFFGEOID\": \"0500000US17023\", \"ALAND\": 1298666607, \"AWATER\": 8806917, \"COUNTYFP\": \"023\", \"COUNTYNS\": \"00424213\", \"GEOID\": \"17023\", \"LSAD\": \"06\", \"NAME\": \"Clark\", \"STATEFP\": \"17\"}, \"type\": \"Feature\"}, {\"geometry\": {\"coordinates\": [[[-88.70752021049543, 42.493137553119354], [-88.507877364414, 42.49438367760376], [-88.304701016632, 42.49562980208815], [-88.2163634741181, 42.49562980208815], [-88.20046271646558, 42.49562980208815], [-88.19869596561531, 42.41587783508649], [-88.19869596561531, 42.32864912117843], [-88.19869596561531, 42.24142040727036], [-88.20046271646558, 42.15419169336229], [-88.2393312351717, 42.15419169336229], [-88.25876549452477, 42.15419169336229], [-88.3541700404398, 42.15419169336229], [-88.39480530999619, 42.15419169336229], [-88.5891479035268, 42.1529455688779], [-88.70575345964515, 42.1529455688779], [-88.70752021049543, 42.493137553119354]]], \"type\": \"Polygon\"}, \"id\": \"McHenry\", \"properties\": {\"AFFGEOID\": \"0500000US17111\", \"ALAND\": 1562336303, \"AWATER\": 19832927, \"COUNTYFP\": \"111\", \"COUNTYNS\": \"01784815\", \"GEOID\": \"17111\", \"LSAD\": \"06\", \"NAME\": \"McHenry\", \"STATEFP\": \"17\"}, \"type\": \"Feature\"}, {\"geometry\": {\"coordinates\": [[[-90.3399979961525, 38.38715737701821], [-90.28876222149444, 38.43824848087865], [-90.27109471299165, 38.495570207161094], [-90.26049420788998, 38.51800044788031], [-90.03611684990464, 38.30865153450095], [-89.90361053613378, 38.297436414141345], [-89.89831028358294, 38.22017669610848], [-90.03611684990464, 38.22266894507729], [-90.03611684990464, 38.13544023116922], [-90.20572493153136, 38.08808750076198], [-90.21809218748331, 38.09431812318399], [-90.25166045363859, 38.12671735977841], [-90.32233048764972, 38.18154683709206], [-90.35059850125417, 38.218930571624085], [-90.36296575720611, 38.236376314405696], [-90.37179951145751, 38.323605028313764], [-90.34883175040389, 38.377188381143], [-90.34176474700278, 38.384665128049406], [-90.3399979961525, 38.38715737701821]]], \"type\": \"Polygon\"}, \"id\": \"Monroe\", \"properties\": {\"AFFGEOID\": \"0500000US17133\", \"ALAND\": 997188935, \"AWATER\": 33718659, \"COUNTYFP\": \"133\", \"COUNTYNS\": \"01784865\", \"GEOID\": \"17133\", \"LSAD\": \"06\", \"NAME\": \"Monroe\", \"STATEFP\": \"17\"}, \"type\": \"Feature\"}, {\"geometry\": {\"coordinates\": [[[-89.1403741688136, 39.34916547897575], [-89.02553536354552, 39.34667323000694], [-89.02553536354552, 39.654465977653985], [-88.81175851066185, 39.65321985316958], [-88.80999175981157, 39.580944633074324], [-88.71812071559711, 39.57969850858992], [-88.71812071559711, 39.52113065782308], [-88.64215042903514, 39.52113065782308], [-88.58561440182623, 39.447609313243426], [-88.47077559655816, 39.447609313243426], [-88.47077559655816, 39.37533409314817], [-88.47077559655816, 39.21583015914484], [-88.80645825811101, 39.21707628362925], [-89.11740640775997, 39.21707628362925], [-89.1403741688136, 39.21832240811365], [-89.1403741688136, 39.34916547897575]]], \"type\": \"Polygon\"}, \"id\": \"Shelby\", \"properties\": {\"AFFGEOID\": \"0500000US17173\", \"ALAND\": 1964598132, \"AWATER\": 24693146, \"COUNTYFP\": \"173\", \"COUNTYNS\": \"01785051\", \"GEOID\": \"17173\", \"LSAD\": \"06\", \"NAME\": \"Shelby\", \"STATEFP\": \"17\"}, \"type\": \"Feature\"}, {\"geometry\": {\"coordinates\": [[[-89.40185329465477, 42.50061430002576], [-89.3665182776492, 42.50061430002576], [-89.0432028720483, 42.49562980208815], [-88.99373384824051, 42.49562980208815], [-88.94073132273216, 42.49562980208815], [-88.94073132273216, 42.15169944439349], [-89.09267189585609, 42.15045331990909], [-89.17394243496888, 42.15045331990909], [-89.17394243496888, 42.20403667273833], [-89.39655304210393, 42.20154442376953], [-89.39831979295421, 42.30746500494361], [-89.40185329465477, 42.50061430002576]]], \"type\": \"Polygon\"}, \"id\": \"Winnebago\", \"properties\": {\"AFFGEOID\": \"0500000US17201\", \"ALAND\": 1329745720, \"AWATER\": 15107861, \"COUNTYFP\": \"201\", \"COUNTYNS\": \"01785216\", \"GEOID\": \"17201\", \"LSAD\": \"06\", \"NAME\": \"Winnebago\", \"STATEFP\": \"17\"}, \"type\": \"Feature\"}, {\"geometry\": {\"coordinates\": [[[-88.41247281849897, 37.60085282736121], [-88.37537105064312, 37.599606702876805], [-88.17926170626225, 37.599606702876805], [-88.13155943330473, 37.57468421318879], [-88.13155943330473, 37.573438088704386], [-88.07325665524556, 37.52857760726595], [-88.06618965184444, 37.50490124206234], [-88.06265615014388, 37.488701623765124], [-88.15806069605891, 37.46751750753031], [-88.28173325557839, 37.4525640137175], [-88.35947029299062, 37.40521128331026], [-88.41600632019953, 37.42141090160747], [-88.41247281849897, 37.60085282736121]]], \"type\": \"Polygon\"}, \"id\": \"Hardin\", \"properties\": {\"AFFGEOID\": \"0500000US17069\", \"ALAND\": 459795959, \"AWATER\": 10489596, \"COUNTYFP\": \"069\", \"COUNTYNS\": \"00424236\", \"GEOID\": \"17069\", \"LSAD\": \"06\", \"NAME\": \"Hardin\", \"STATEFP\": \"17\"}, \"type\": \"Feature\"}, {\"geometry\": {\"coordinates\": [[[-88.46017509145648, 40.28126659330766], [-88.46017509145648, 40.39840229484135], [-88.34710303703868, 40.39840229484135], [-87.93368333807358, 40.39964841932575], [-87.94251709232496, 40.22519099150962], [-87.93721683977414, 39.878768384846154], [-88.34886978788896, 39.878768384846154], [-88.46194184230676, 39.878768384846154], [-88.46370859315704, 40.141700651054755], [-88.46017509145648, 40.28126659330766]]], \"type\": \"Polygon\"}, \"id\": \"Champaign\", \"properties\": {\"AFFGEOID\": \"0500000US17019\", \"ALAND\": 2580293767, \"AWATER\": 5531832, \"COUNTYFP\": \"019\", \"COUNTYNS\": \"00424211\", \"GEOID\": \"17019\", \"LSAD\": \"06\", \"NAME\": \"Champaign\", \"STATEFP\": \"17\"}, \"type\": \"Feature\"}, {\"geometry\": {\"coordinates\": [[[-89.70396769005235, 38.41581824015943], [-89.61386339668816, 38.471893841957474], [-89.48312383376756, 38.46815546850427], [-89.35238427084698, 38.51800044788031], [-89.14390767051415, 38.5030469540675], [-89.14567442136443, 38.47313996644188], [-89.14744117221471, 38.212699949202076], [-89.59266238648482, 38.218930571624085], [-89.70220093920207, 38.218930571624085], [-89.70396769005235, 38.41581824015943]]], \"type\": \"Polygon\"}, \"id\": \"Washington\", \"properties\": {\"AFFGEOID\": \"0500000US17189\", \"ALAND\": 1457058111, \"AWATER\": 3454759, \"COUNTYFP\": \"189\", \"COUNTYNS\": \"01785150\", \"GEOID\": \"17189\", \"LSAD\": \"06\", \"NAME\": \"Washington\", \"STATEFP\": \"17\"}, \"type\": \"Feature\"}, {\"geometry\": {\"coordinates\": [[[-90.24105994853691, 41.78284659701081], [-90.17922366877718, 41.81150746015203], [-90.18099041962746, 41.84390669674646], [-90.16508966197496, 41.883782680247286], [-90.15802265857384, 41.92988928617012], [-90.12798789411912, 41.92864316168572], [-89.68453343069929, 41.92988928617012], [-89.62799740349038, 41.9012284230289], [-89.63153090519094, 41.585958928475456], [-89.8612085157271, 41.58471280399106], [-90.18452392132802, 41.58471280399106], [-90.15978940942412, 41.6432806547579], [-90.22869269258497, 41.67443376686793], [-90.24105994853691, 41.78284659701081]]], \"type\": \"Polygon\"}, \"id\": \"Whiteside\", \"properties\": {\"AFFGEOID\": \"0500000US17195\", \"ALAND\": 1772198883, \"AWATER\": 31796423, \"COUNTYFP\": \"195\", \"COUNTYNS\": \"01785167\", \"GEOID\": \"17195\", \"LSAD\": \"06\", \"NAME\": \"Whiteside\", \"STATEFP\": \"17\"}, \"type\": \"Feature\"}, {\"geometry\": {\"coordinates\": [[[-89.04496962289858, 37.3304438142462], [-89.04143612119802, 37.597114453908006], [-88.70928696134571, 37.599606702876805], [-88.71105371219599, 37.33792056115261], [-88.90892980742714, 37.33542831218381], [-88.93013081763048, 37.30302907558938], [-89.04496962289858, 37.29430620419858], [-89.04496962289858, 37.3304438142462]]], \"type\": \"Polygon\"}, \"id\": \"Johnson\", \"properties\": {\"AFFGEOID\": \"0500000US17087\", \"ALAND\": 890741065, \"AWATER\": 12811451, \"COUNTYFP\": \"087\", \"COUNTYNS\": \"00424245\", \"GEOID\": \"17087\", \"LSAD\": \"06\", \"NAME\": \"Johnson\", \"STATEFP\": \"17\"}, \"type\": \"Feature\"}, {\"geometry\": {\"coordinates\": [[[-88.25169849112365, 41.1149238733719], [-88.24109798602198, 41.12987736718471], [-88.24463148772254, 41.20215258727997], [-88.01142037548581, 41.20589096073317], [-88.01495387718637, 41.29311967464123], [-87.52733064250958, 41.29810417257884], [-87.52733064250958, 41.16601497723234], [-87.52733064250958, 41.02520291049503], [-87.52733064250958, 41.01024941668222], [-88.13155943330473, 40.99778817183821], [-88.2481649894231, 40.99529592286941], [-88.25169849112365, 41.1149238733719]]], \"type\": \"Polygon\"}, \"id\": \"Kankakee\", \"properties\": {\"AFFGEOID\": \"0500000US17091\", \"ALAND\": 1752310524, \"AWATER\": 12413735, \"COUNTYFP\": \"091\", \"COUNTYNS\": \"00424247\", \"GEOID\": \"17091\", \"LSAD\": \"06\", \"NAME\": \"Kankakee\", \"STATEFP\": \"17\"}, \"type\": \"Feature\"}, {\"geometry\": {\"coordinates\": [[[-89.8612085157271, 41.58471280399106], [-89.63153090519094, 41.585958928475456], [-89.16687543156777, 41.585958928475456], [-89.1651086807175, 41.31056541742285], [-89.33648351319448, 41.30184254603204], [-89.35768452339782, 41.23330569938999], [-89.46722307611506, 41.23455182387439], [-89.46722307611506, 41.148569234450726], [-89.63683115774177, 41.148569234450726], [-89.63859790859205, 41.23455182387439], [-89.85767501402655, 41.23455182387439], [-89.8612085157271, 41.58471280399106]]], \"type\": \"Polygon\"}, \"id\": \"Bureau\", \"properties\": {\"AFFGEOID\": \"0500000US17011\", \"ALAND\": 2250785992, \"AWATER\": 11578416, \"COUNTYFP\": \"011\", \"COUNTYNS\": \"00424207\", \"GEOID\": \"17011\", \"LSAD\": \"06\", \"NAME\": \"Bureau\", \"STATEFP\": \"17\"}, \"type\": \"Feature\"}, {\"geometry\": {\"coordinates\": [[[-89.25167947238113, 39.0276653620003], [-89.25167947238113, 39.21832240811365], [-89.1403741688136, 39.21832240811365], [-89.11740640775997, 39.21707628362925], [-88.80645825811101, 39.21707628362925], [-88.80822500896129, 38.91177578495101], [-88.69338620369321, 38.91426803391982], [-88.69515295454349, 38.825793195527346], [-89.13860741796331, 38.82454707104294], [-89.13860741796331, 38.73607223265048], [-89.25521297408167, 38.74230285507248], [-89.25697972493195, 38.91676028288862], [-89.25874647578223, 38.99900449885908], [-89.25167947238113, 39.0276653620003]]], \"type\": \"Polygon\"}, \"id\": \"Fayette\", \"properties\": {\"AFFGEOID\": \"0500000US17051\", \"ALAND\": 1855687602, \"AWATER\": 22942188, \"COUNTYFP\": \"051\", \"COUNTYNS\": \"00424227\", \"GEOID\": \"17051\", \"LSAD\": \"06\", \"NAME\": \"Fayette\", \"STATEFP\": \"17\"}, \"type\": \"Feature\"}, {\"geometry\": {\"coordinates\": [[[-88.20046271646558, 42.49562980208815], [-87.89834832106801, 42.493137553119354], [-87.80117702430272, 42.49189142863495], [-87.80294377515298, 42.4208623330241], [-87.82061128365577, 42.36104835777285], [-87.834745290458, 42.301234382521606], [-87.83297853960772, 42.297496009068404], [-87.79941027345244, 42.207775046191536], [-87.79941027345244, 42.205282797222736], [-87.75877500389603, 42.15169944439349], [-87.94605059402552, 42.1529455688779], [-88.00435337208471, 42.1529455688779], [-88.02378763143777, 42.1529455688779], [-88.20046271646558, 42.15419169336229], [-88.19869596561531, 42.24142040727036], [-88.19869596561531, 42.32864912117843], [-88.19869596561531, 42.41587783508649], [-88.20046271646558, 42.49562980208815]]], \"type\": \"Polygon\"}, \"id\": \"Lake\", \"properties\": {\"AFFGEOID\": \"0500000US17097\", \"ALAND\": 1149077255, \"AWATER\": 2395036797, \"COUNTYFP\": \"097\", \"COUNTYNS\": \"01784796\", \"GEOID\": \"17097\", \"LSAD\": \"06\", \"NAME\": \"Lake\", \"STATEFP\": \"17\"}, \"type\": \"Feature\"}, {\"geometry\": {\"coordinates\": [[[-90.35413200295473, 40.12425490827314], [-90.20572493153136, 40.15540802038316], [-90.19865792813025, 40.18406888352439], [-90.11915413986773, 40.235159987384826], [-90.03788360075492, 40.374725929637734], [-89.92481154633712, 40.43578602937338], [-89.7163349460043, 40.43578602937338], [-89.71456819515402, 40.31865032783969], [-89.6014961407362, 40.31989645232409], [-89.6014961407362, 40.12176265930434], [-89.63683115774177, 40.15416189589877], [-89.7481364613093, 40.126747157241944], [-89.96898031759407, 40.141700651054755], [-89.99371482949797, 40.10805528997593], [-90.13328814666995, 40.06194868405309], [-90.28699547064416, 40.05447193714669], [-90.35413200295473, 40.12425490827314]]], \"type\": \"Polygon\"}, \"id\": \"Mason\", \"properties\": {\"AFFGEOID\": \"0500000US17125\", \"ALAND\": 1396619096, \"AWATER\": 62745252, \"COUNTYFP\": \"125\", \"COUNTYNS\": \"00424261\", \"GEOID\": \"17125\", \"LSAD\": \"06\", \"NAME\": \"Mason\", \"STATEFP\": \"17\"}, \"type\": \"Feature\"}, {\"geometry\": {\"coordinates\": [[[-88.5891479035268, 42.1529455688779], [-88.39480530999619, 42.15419169336229], [-88.3541700404398, 42.15419169336229], [-88.25876549452477, 42.15419169336229], [-88.2393312351717, 42.15419169336229], [-88.2393312351717, 42.09188546914225], [-88.2640657470756, 42.06571685496983], [-88.2640657470756, 42.014625751109385], [-88.2640657470756, 41.985964887968166], [-88.26229899622533, 41.8987361740601], [-88.26229899622533, 41.88253655576288], [-88.26229899622533, 41.81150746015203], [-88.26229899622533, 41.72427874624397], [-88.37537105064312, 41.72178649727516], [-88.40540581509786, 41.72178649727516], [-88.60328191032902, 41.71929424830636], [-88.60151515947874, 42.01711800007819], [-88.5891479035268, 42.06571685496983], [-88.5891479035268, 42.1529455688779]]], \"type\": \"Polygon\"}, \"id\": \"Kane\", \"properties\": {\"AFFGEOID\": \"0500000US17089\", \"ALAND\": 1347216444, \"AWATER\": 10775726, \"COUNTYFP\": \"089\", \"COUNTYNS\": \"00424246\", \"GEOID\": \"17089\", \"LSAD\": \"06\", \"NAME\": \"Kane\", \"STATEFP\": \"17\"}, \"type\": \"Feature\"}, {\"geometry\": {\"coordinates\": [[[-89.83647400382321, 42.50435267347896], [-89.49372433886924, 42.50186042451016], [-89.40185329465477, 42.50061430002576], [-89.39831979295421, 42.30746500494361], [-89.39655304210393, 42.20154442376953], [-89.68806693239983, 42.19905217480073], [-89.89654353273266, 42.19655992583193], [-89.91951129378629, 42.19655992583193], [-89.9265782971874, 42.505598797963366], [-89.83647400382321, 42.50435267347896]]], \"type\": \"Polygon\"}, \"id\": \"Stephenson\", \"properties\": {\"AFFGEOID\": \"0500000US17177\", \"ALAND\": 1462175613, \"AWATER\": 1385929, \"COUNTYFP\": \"177\", \"COUNTYNS\": \"01785076\", \"GEOID\": \"17177\", \"LSAD\": \"06\", \"NAME\": \"Stephenson\", \"STATEFP\": \"17\"}, \"type\": \"Feature\"}, {\"geometry\": {\"coordinates\": [[[-88.74638872920156, 40.05447193714669], [-88.74638872920156, 40.09808629410072], [-88.57501389672457, 40.28126659330766], [-88.46017509145648, 40.28126659330766], [-88.46370859315704, 40.141700651054755], [-88.46194184230676, 39.878768384846154], [-88.46194184230676, 39.80150866681329], [-88.47430909825871, 39.791539670938086], [-88.74638872920156, 39.791539670938086], [-88.74638872920156, 40.05447193714669]]], \"type\": \"Polygon\"}, \"id\": \"Piatt\", \"properties\": {\"AFFGEOID\": \"0500000US17147\", \"ALAND\": 1137445095, \"AWATER\": 756346, \"COUNTYFP\": \"147\", \"COUNTYNS\": \"00424275\", \"GEOID\": \"17147\", \"LSAD\": \"06\", \"NAME\": \"Piatt\", \"STATEFP\": \"17\"}, \"type\": \"Feature\"}], \"type\": \"FeatureCollection\"}, \"locations\": [\"Adams\", \"Alexander\", \"Bond\", \"Boone\", \"Brown\", \"Bureau\", \"Calhoun\", \"Carroll\", \"Cass\", \"Champaign\", \"Christian\", \"Clark\", \"Clay\", \"Clinton\", \"Coles\", \"Cook\", \"Crawford\", \"Cumberland\", \"DeKalb\", \"DeWitt\", \"Douglas\", \"DuPage\", \"Edgar\", \"Edwards\", \"Effingham\", \"Fayette\", \"Ford\", \"Franklin\", \"Fulton\", \"Gallatin\", \"Greene\", \"Grundy\", \"Hamilton\", \"Hancock\", \"Hardin\", \"Henderson\", \"Henry\", \"Iroquois\", \"Jackson\", \"Jasper\", \"Jefferson\", \"Jersey\", \"Jo Daviess\", \"Johnson\", \"Kane\", \"Kankakee\", \"Kendall\", \"Knox\", \"Lake\", \"LaSalle\", \"Lawrence\", \"Lee\", \"Livingston\", \"Logan\", \"McDonough\", \"McHenry\", \"McLean\", \"Macon\", \"Macoupin\", \"Madison\", \"Marion\", \"Marshall\", \"Mason\", \"Massac\", \"Menard\", \"Mercer\", \"Monroe\", \"Montgomery\", \"Morgan\", \"Moultrie\", \"Ogle\", \"Peoria\", \"Perry\", \"Piatt\", \"Pike\", \"Pope\", \"Pulaski\", \"Putnam\", \"Randolph\", \"Richland\", \"Rock Island\", \"St. Clair\", \"Saline\", \"Sangamon\", \"Schuyler\", \"Scott\", \"Shelby\", \"Stark\", \"Stephenson\", \"Tazewell\", \"Union\", \"Vermilion\", \"Wabash\", \"Warren\", \"Washington\", \"Wayne\", \"White\", \"Whiteside\", \"Will\", \"Williamson\", \"Winnebago\", \"Woodford\"], \"marker\": {\"line\": {\"width\": 0}, \"opacity\": 0.5}, \"type\": \"choroplethmapbox\", \"z\": [0.011691099237338447, 0.008415841584158416, 0.00926037282020445, 0.009556339474028034, 0.00991458206223307, 0.009456551389688721, 0.0077051228654727195, 0.008873672442705422, 0.013866231647634585, 0.01073420229256654, 0.011022320198401764, 0.012118491921005385, 0.011846374405794915, 0.010653843088286086, 0.009531296059742556, 0.011926857154328748, 0.010847025043866646, 0.010455218356772761, 0.010485582324304082, 0.01084406113260194, 0.012115611684378047, 0.011091020892989256, 0.009850230414746544, 0.014392991239048811, 0.013242516370439663, 0.010506163615988046, 0.011308805790108565, 0.01232526291310302, 0.00921248995522902, 0.007512850929221036, 0.010656240417049984, 0.011202228674566429, 0.010045326473110376, 0.010591795561533288, 0.00843989769820972, 0.009092264122820092, 0.010002037074760644, 0.011121576583103898, 0.010937146240791376, 0.012485693476225159, 0.011660497091485986, 0.009749622373781297, 0.007535336515959936, 0.00859023763648041, 0.011865986791859472, 0.011243001526939576, 0.011843802525114334, 0.010915549169859515, 0.010122254691566595, 0.009988120259526638, 0.009514747859181731, 0.009759518452502704, 0.012164089371102598, 0.010371650821089023, 0.008779836421298615, 0.009683378163787795, 0.010530701043812346, 0.012109404843761938, 0.010372299340145212, 0.010825792839019742, 0.0126528442317916, 0.010750823651812035, 0.00936232952451161, 0.010227272727272727, 0.00927734375, 0.00923017755272098, 0.011446046308431629, 0.010489143736233, 0.009712738403578997, 0.01175511313447034, 0.010466783182451938, 0.013863282785501132, 0.008784358175120431, 0.01110026835813613, 0.013259880853244506, 0.007122507122507123, 0.008237232289950576, 0.006794425087108014, 0.009655516102909113, 0.010784749095984267, 0.01207859099367843, 0.011932168590242053, 0.011838032293148164, 0.011466715809734422, 0.006557718330384095, 0.007511165245635404, 0.011085046685985006, 0.009950248756218905, 0.010904296918642326, 0.010496644701045886, 0.01116323258713853, 0.012134468661302503, 0.012208849251017404, 0.01191874119304838, 0.011003929974991068, 0.012919421993632134, 0.0092938163190633, 0.010660482508179627, 0.010574742528636015, 0.011020639465521355, 0.012306349245461682, 0.010893586043730339], \"zmax\": 0.012, \"zmin\": 0.005}],\n",
              "                        {\"mapbox\": {\"center\": {\"lat\": 41.14, \"lon\": -89.46}, \"style\": \"carto-positron\", \"zoom\": 5}, \"margin\": {\"b\": 0, \"l\": 0, \"r\": 0, \"t\": 0}, \"template\": {\"data\": {\"bar\": [{\"error_x\": {\"color\": \"#2a3f5f\"}, \"error_y\": {\"color\": \"#2a3f5f\"}, \"marker\": {\"line\": {\"color\": \"#E5ECF6\", \"width\": 0.5}}, \"type\": \"bar\"}], \"barpolar\": [{\"marker\": {\"line\": {\"color\": \"#E5ECF6\", \"width\": 0.5}}, \"type\": \"barpolar\"}], \"carpet\": [{\"aaxis\": {\"endlinecolor\": \"#2a3f5f\", \"gridcolor\": \"white\", \"linecolor\": \"white\", \"minorgridcolor\": \"white\", \"startlinecolor\": \"#2a3f5f\"}, \"baxis\": {\"endlinecolor\": \"#2a3f5f\", \"gridcolor\": \"white\", \"linecolor\": \"white\", \"minorgridcolor\": \"white\", \"startlinecolor\": \"#2a3f5f\"}, \"type\": \"carpet\"}], \"choropleth\": [{\"colorbar\": {\"outlinewidth\": 0, \"ticks\": \"\"}, \"type\": \"choropleth\"}], \"contour\": [{\"colorbar\": {\"outlinewidth\": 0, \"ticks\": \"\"}, \"colorscale\": [[0.0, \"#0d0887\"], [0.1111111111111111, \"#46039f\"], [0.2222222222222222, \"#7201a8\"], [0.3333333333333333, \"#9c179e\"], [0.4444444444444444, \"#bd3786\"], [0.5555555555555556, \"#d8576b\"], [0.6666666666666666, \"#ed7953\"], [0.7777777777777778, \"#fb9f3a\"], [0.8888888888888888, \"#fdca26\"], [1.0, \"#f0f921\"]], \"type\": \"contour\"}], \"contourcarpet\": [{\"colorbar\": {\"outlinewidth\": 0, \"ticks\": \"\"}, \"type\": \"contourcarpet\"}], \"heatmap\": [{\"colorbar\": {\"outlinewidth\": 0, \"ticks\": \"\"}, \"colorscale\": [[0.0, \"#0d0887\"], [0.1111111111111111, \"#46039f\"], [0.2222222222222222, \"#7201a8\"], [0.3333333333333333, \"#9c179e\"], [0.4444444444444444, \"#bd3786\"], [0.5555555555555556, \"#d8576b\"], [0.6666666666666666, \"#ed7953\"], [0.7777777777777778, \"#fb9f3a\"], [0.8888888888888888, \"#fdca26\"], [1.0, \"#f0f921\"]], \"type\": \"heatmap\"}], \"heatmapgl\": [{\"colorbar\": {\"outlinewidth\": 0, \"ticks\": \"\"}, \"colorscale\": [[0.0, \"#0d0887\"], [0.1111111111111111, \"#46039f\"], [0.2222222222222222, \"#7201a8\"], [0.3333333333333333, \"#9c179e\"], [0.4444444444444444, \"#bd3786\"], [0.5555555555555556, \"#d8576b\"], [0.6666666666666666, \"#ed7953\"], [0.7777777777777778, \"#fb9f3a\"], [0.8888888888888888, \"#fdca26\"], [1.0, \"#f0f921\"]], \"type\": \"heatmapgl\"}], \"histogram\": [{\"marker\": {\"colorbar\": {\"outlinewidth\": 0, \"ticks\": \"\"}}, \"type\": \"histogram\"}], \"histogram2d\": [{\"colorbar\": {\"outlinewidth\": 0, \"ticks\": \"\"}, \"colorscale\": [[0.0, \"#0d0887\"], [0.1111111111111111, \"#46039f\"], [0.2222222222222222, \"#7201a8\"], [0.3333333333333333, \"#9c179e\"], [0.4444444444444444, \"#bd3786\"], [0.5555555555555556, \"#d8576b\"], [0.6666666666666666, \"#ed7953\"], [0.7777777777777778, \"#fb9f3a\"], [0.8888888888888888, \"#fdca26\"], [1.0, \"#f0f921\"]], \"type\": \"histogram2d\"}], \"histogram2dcontour\": [{\"colorbar\": {\"outlinewidth\": 0, \"ticks\": \"\"}, \"colorscale\": [[0.0, \"#0d0887\"], [0.1111111111111111, \"#46039f\"], [0.2222222222222222, \"#7201a8\"], [0.3333333333333333, \"#9c179e\"], [0.4444444444444444, \"#bd3786\"], [0.5555555555555556, \"#d8576b\"], [0.6666666666666666, \"#ed7953\"], [0.7777777777777778, \"#fb9f3a\"], [0.8888888888888888, \"#fdca26\"], [1.0, \"#f0f921\"]], \"type\": \"histogram2dcontour\"}], \"mesh3d\": [{\"colorbar\": {\"outlinewidth\": 0, \"ticks\": \"\"}, \"type\": \"mesh3d\"}], \"parcoords\": [{\"line\": {\"colorbar\": {\"outlinewidth\": 0, \"ticks\": \"\"}}, \"type\": \"parcoords\"}], \"pie\": [{\"automargin\": true, \"type\": \"pie\"}], \"scatter\": [{\"marker\": {\"colorbar\": {\"outlinewidth\": 0, \"ticks\": \"\"}}, \"type\": \"scatter\"}], \"scatter3d\": [{\"line\": {\"colorbar\": {\"outlinewidth\": 0, \"ticks\": \"\"}}, \"marker\": {\"colorbar\": {\"outlinewidth\": 0, \"ticks\": \"\"}}, \"type\": \"scatter3d\"}], \"scattercarpet\": [{\"marker\": {\"colorbar\": {\"outlinewidth\": 0, \"ticks\": \"\"}}, \"type\": \"scattercarpet\"}], \"scattergeo\": [{\"marker\": {\"colorbar\": {\"outlinewidth\": 0, \"ticks\": \"\"}}, \"type\": \"scattergeo\"}], \"scattergl\": [{\"marker\": {\"colorbar\": {\"outlinewidth\": 0, \"ticks\": \"\"}}, \"type\": \"scattergl\"}], \"scattermapbox\": [{\"marker\": {\"colorbar\": {\"outlinewidth\": 0, \"ticks\": \"\"}}, \"type\": \"scattermapbox\"}], \"scatterpolar\": [{\"marker\": {\"colorbar\": {\"outlinewidth\": 0, \"ticks\": \"\"}}, \"type\": \"scatterpolar\"}], \"scatterpolargl\": [{\"marker\": {\"colorbar\": {\"outlinewidth\": 0, \"ticks\": \"\"}}, \"type\": \"scatterpolargl\"}], \"scatterternary\": [{\"marker\": {\"colorbar\": {\"outlinewidth\": 0, \"ticks\": \"\"}}, \"type\": \"scatterternary\"}], \"surface\": [{\"colorbar\": {\"outlinewidth\": 0, \"ticks\": \"\"}, \"colorscale\": [[0.0, \"#0d0887\"], [0.1111111111111111, \"#46039f\"], [0.2222222222222222, \"#7201a8\"], [0.3333333333333333, \"#9c179e\"], [0.4444444444444444, \"#bd3786\"], [0.5555555555555556, \"#d8576b\"], [0.6666666666666666, \"#ed7953\"], [0.7777777777777778, \"#fb9f3a\"], [0.8888888888888888, \"#fdca26\"], [1.0, \"#f0f921\"]], \"type\": \"surface\"}], \"table\": [{\"cells\": {\"fill\": {\"color\": \"#EBF0F8\"}, \"line\": {\"color\": \"white\"}}, \"header\": {\"fill\": {\"color\": \"#C8D4E3\"}, \"line\": {\"color\": \"white\"}}, \"type\": \"table\"}]}, \"layout\": {\"annotationdefaults\": {\"arrowcolor\": \"#2a3f5f\", \"arrowhead\": 0, \"arrowwidth\": 1}, \"coloraxis\": {\"colorbar\": {\"outlinewidth\": 0, \"ticks\": \"\"}}, \"colorscale\": {\"diverging\": [[0, \"#8e0152\"], [0.1, \"#c51b7d\"], [0.2, \"#de77ae\"], [0.3, \"#f1b6da\"], [0.4, \"#fde0ef\"], [0.5, \"#f7f7f7\"], [0.6, \"#e6f5d0\"], [0.7, \"#b8e186\"], [0.8, \"#7fbc41\"], [0.9, \"#4d9221\"], [1, \"#276419\"]], \"sequential\": [[0.0, \"#0d0887\"], [0.1111111111111111, \"#46039f\"], [0.2222222222222222, \"#7201a8\"], [0.3333333333333333, \"#9c179e\"], [0.4444444444444444, \"#bd3786\"], [0.5555555555555556, \"#d8576b\"], [0.6666666666666666, \"#ed7953\"], [0.7777777777777778, \"#fb9f3a\"], [0.8888888888888888, \"#fdca26\"], [1.0, \"#f0f921\"]], \"sequentialminus\": [[0.0, \"#0d0887\"], [0.1111111111111111, \"#46039f\"], [0.2222222222222222, \"#7201a8\"], [0.3333333333333333, \"#9c179e\"], [0.4444444444444444, \"#bd3786\"], [0.5555555555555556, \"#d8576b\"], [0.6666666666666666, \"#ed7953\"], [0.7777777777777778, \"#fb9f3a\"], [0.8888888888888888, \"#fdca26\"], [1.0, \"#f0f921\"]]}, \"colorway\": [\"#636efa\", \"#EF553B\", \"#00cc96\", \"#ab63fa\", \"#FFA15A\", \"#19d3f3\", \"#FF6692\", \"#B6E880\", \"#FF97FF\", \"#FECB52\"], \"font\": {\"color\": \"#2a3f5f\"}, \"geo\": {\"bgcolor\": \"white\", \"lakecolor\": \"white\", \"landcolor\": \"#E5ECF6\", \"showlakes\": true, \"showland\": true, \"subunitcolor\": \"white\"}, \"hoverlabel\": {\"align\": \"left\"}, \"hovermode\": \"closest\", \"mapbox\": {\"style\": \"light\"}, \"paper_bgcolor\": \"white\", \"plot_bgcolor\": \"#E5ECF6\", \"polar\": {\"angularaxis\": {\"gridcolor\": \"white\", \"linecolor\": \"white\", \"ticks\": \"\"}, \"bgcolor\": \"#E5ECF6\", \"radialaxis\": {\"gridcolor\": \"white\", \"linecolor\": \"white\", \"ticks\": \"\"}}, \"scene\": {\"xaxis\": {\"backgroundcolor\": \"#E5ECF6\", \"gridcolor\": \"white\", \"gridwidth\": 2, \"linecolor\": \"white\", \"showbackground\": true, \"ticks\": \"\", \"zerolinecolor\": \"white\"}, \"yaxis\": {\"backgroundcolor\": \"#E5ECF6\", \"gridcolor\": \"white\", \"gridwidth\": 2, \"linecolor\": \"white\", \"showbackground\": true, \"ticks\": \"\", \"zerolinecolor\": \"white\"}, \"zaxis\": {\"backgroundcolor\": \"#E5ECF6\", \"gridcolor\": \"white\", \"gridwidth\": 2, \"linecolor\": \"white\", \"showbackground\": true, \"ticks\": \"\", \"zerolinecolor\": \"white\"}}, \"shapedefaults\": {\"line\": {\"color\": \"#2a3f5f\"}}, \"ternary\": {\"aaxis\": {\"gridcolor\": \"white\", \"linecolor\": \"white\", \"ticks\": \"\"}, \"baxis\": {\"gridcolor\": \"white\", \"linecolor\": \"white\", \"ticks\": \"\"}, \"bgcolor\": \"#E5ECF6\", \"caxis\": {\"gridcolor\": \"white\", \"linecolor\": \"white\", \"ticks\": \"\"}}, \"title\": {\"x\": 0.05}, \"xaxis\": {\"automargin\": true, \"gridcolor\": \"white\", \"linecolor\": \"white\", \"ticks\": \"\", \"title\": {\"standoff\": 15}, \"zerolinecolor\": \"white\", \"zerolinewidth\": 2}, \"yaxis\": {\"automargin\": true, \"gridcolor\": \"white\", \"linecolor\": \"white\", \"ticks\": \"\", \"title\": {\"standoff\": 15}, \"zerolinecolor\": \"white\", \"zerolinewidth\": 2}}}},\n",
              "                        {\"responsive\": true}\n",
              "                    ).then(function(){\n",
              "                            \n",
              "var gd = document.getElementById('4da12128-7d36-456d-8b1e-9a594cc8cae8');\n",
              "var x = new MutationObserver(function (mutations, observer) {{\n",
              "        var display = window.getComputedStyle(gd).display;\n",
              "        if (!display || display === 'none') {{\n",
              "            console.log([gd, 'removed!']);\n",
              "            Plotly.purge(gd);\n",
              "            observer.disconnect();\n",
              "        }}\n",
              "}});\n",
              "\n",
              "// Listen for the removal of the full notebook cells\n",
              "var notebookContainer = gd.closest('#notebook-container');\n",
              "if (notebookContainer) {{\n",
              "    x.observe(notebookContainer, {childList: true});\n",
              "}}\n",
              "\n",
              "// Listen for the clearing of the current output cell\n",
              "var outputEl = gd.closest('.output');\n",
              "if (outputEl) {{\n",
              "    x.observe(outputEl, {childList: true});\n",
              "}}\n",
              "\n",
              "                        })\n",
              "                };\n",
              "                \n",
              "            </script>\n",
              "        </div>\n",
              "</body>\n",
              "</html>"
            ]
          },
          "metadata": {
            "tags": []
          }
        }
      ]
    },
    {
      "cell_type": "markdown",
      "metadata": {
        "id": "WP14xJTck3BH",
        "colab_type": "text"
      },
      "source": [
        "I want to showcase the distribution of birth rates within the state in 2018, so I calculated the birth rate of each county by dividing the total population of each county (according to data by the U.S. Census Bureau) by the numbers of births within the county in 2018. I used a GeoJSON map of Illinois counties to define the geographical areas I want to illustrate in the map, and shaded each county according to its birth rate. The darker the color is, the higher the birth rate in the county. I also added hover text so people can see the birth rate of each county in 2018 but placing the mouse over the area of interest. \n",
        "    \n",
        "Data source: Illinois Department of Public Health ; U.S. Census Bureau"
      ]
    }
  ]
}